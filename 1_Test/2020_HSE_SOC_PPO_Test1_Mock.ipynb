{
  "nbformat": 4,
  "nbformat_minor": 0,
  "metadata": {
    "colab": {
      "name": "2020_HSE_SOC_PPO_Test1_Mock.ipynb",
      "provenance": [],
      "collapsed_sections": []
    },
    "kernelspec": {
      "name": "python3",
      "display_name": "Python 3"
    }
  },
  "cells": [
    {
      "cell_type": "markdown",
      "metadata": {
        "id": "NCfeKkMf29Ax",
        "colab_type": "text"
      },
      "source": [
        "# Самостоятельная 1\n",
        "Социлогия | 1 курс | ППО\n",
        "Преподаватели: Рогович Т.В., Лебедева В.А, Бирюков В.А.\n",
        "\n",
        "## Формат проведения\n",
        "\n",
        "**Списывание и использование телефонов**\n",
        "\n",
        "Первое предупреждение, сделанное ассистентом или преподавателем: - 1 балл к вашей оценке.\n",
        "\n",
        "Второе предупреждение: работа аннулируется без права переписывания.\n",
        "\n",
        "\n",
        "## **Важно**\n",
        "## Все задачи должны принимать значения на ввод (решение для частного случая будет считаться неполным)."
      ]
    },
    {
      "cell_type": "markdown",
      "metadata": {
        "id": "xnXOhLagyAbg",
        "colab_type": "text"
      },
      "source": [
        "**1. Тест**  \n",
        "*(2 балла, каждый ответ 0.2 балла)*\n"
      ]
    },
    {
      "cell_type": "markdown",
      "metadata": {
        "id": "T0aX7WL_yLIh",
        "colab_type": "text"
      },
      "source": [
        "1. Как выглядит знак возведения в степень в Python?"
      ]
    },
    {
      "cell_type": "code",
      "metadata": {
        "id": "pvpEMwbqbgE0",
        "colab_type": "code",
        "colab": {}
      },
      "source": [
        "# ваш ответ"
      ],
      "execution_count": 0,
      "outputs": []
    },
    {
      "cell_type": "markdown",
      "metadata": {
        "id": "nS1Ks87qyt5-",
        "colab_type": "text"
      },
      "source": [
        "2. Выведите строки, данные ниже, следующим образом, дополнив код на месте многоточия в следующей ячейке. После 'Форматирование---' и \"Это---\" должна быть пустая строка. Новые print() создавать нельзя:\n",
        "\n",
        "Форматирование---\n",
        "\n",
        "Это---\n",
        "\n",
        "Просто---\n"
      ]
    },
    {
      "cell_type": "code",
      "metadata": {
        "id": "kqI0c3aFypyl",
        "colab_type": "code",
        "outputId": "aed2aef3-7551-404a-84c7-b47873df997c",
        "colab": {
          "base_uri": "https://localhost:8080/",
          "height": 34
        }
      },
      "source": [
        "print('Форматирование', 'Это', \"Просто\", ...) # напишите ответ, изменив эту строчку кода"
      ],
      "execution_count": 0,
      "outputs": [
        {
          "output_type": "stream",
          "text": [
            "Форматирование Это Просто Ellipsis\n"
          ],
          "name": "stdout"
        }
      ]
    },
    {
      "cell_type": "markdown",
      "metadata": {
        "id": "mslcYWMozOgB",
        "colab_type": "text"
      },
      "source": [
        "3. Укажите правильный способ конкатенации строк.         \n",
        "а. 'string1' + 'string2'  \n",
        "b. 'string1' . 'string2'  \n",
        "c.  'string1'.strip() 'string2'  \n",
        "d.  'string1' : 'string2'\""
      ]
    },
    {
      "cell_type": "code",
      "metadata": {
        "id": "6os2349fbkEe",
        "colab_type": "code",
        "colab": {}
      },
      "source": [
        "# ваш ответ"
      ],
      "execution_count": 0,
      "outputs": []
    },
    {
      "cell_type": "markdown",
      "metadata": {
        "id": "s8Al0Xe5z7ql",
        "colab_type": "text"
      },
      "source": [
        "4. Что из ниже перечисленного является правильным написанием логической переменной “ложь” в Python?  \n",
        "a. FALSE  \n",
        "b. False  \n",
        "c. false  "
      ]
    },
    {
      "cell_type": "code",
      "metadata": {
        "id": "ay9oaPrmbnIa",
        "colab_type": "code",
        "colab": {}
      },
      "source": [
        "# ваш ответ"
      ],
      "execution_count": 0,
      "outputs": []
    },
    {
      "cell_type": "markdown",
      "metadata": {
        "id": "F6bRHMbd0vYN",
        "colab_type": "text"
      },
      "source": [
        "5. Какая из перечисленных операций \n",
        "сравнений является верной?      \n",
        "a. <>  \n",
        "b. =<  \n",
        "c. =  \n",
        "d. !="
      ]
    },
    {
      "cell_type": "code",
      "metadata": {
        "id": "wWRNM4trbsOc",
        "colab_type": "code",
        "colab": {}
      },
      "source": [
        "# ваш ответ"
      ],
      "execution_count": 0,
      "outputs": []
    },
    {
      "cell_type": "markdown",
      "metadata": {
        "id": "4nPuoDlq1T8G",
        "colab_type": "text"
      },
      "source": [
        "6. Какой тип данных имеет выражение 2.5 * 5?        \n",
        "a. int  \n",
        "b. float  \n",
        "c. dict  \n",
        "d. string"
      ]
    },
    {
      "cell_type": "code",
      "metadata": {
        "id": "Y9iktBa9bupZ",
        "colab_type": "code",
        "colab": {}
      },
      "source": [
        "# ваш ответ"
      ],
      "execution_count": 0,
      "outputs": []
    },
    {
      "cell_type": "markdown",
      "metadata": {
        "id": "GNV9X0aG13K4",
        "colab_type": "text"
      },
      "source": [
        "7. В чем отличие math.floor от math.ceil()?"
      ]
    },
    {
      "cell_type": "code",
      "metadata": {
        "id": "bZ0yaxYebw3Q",
        "colab_type": "code",
        "colab": {}
      },
      "source": [
        "# ваш ответ"
      ],
      "execution_count": 0,
      "outputs": []
    },
    {
      "cell_type": "markdown",
      "metadata": {
        "id": "lrDKxjRx2J71",
        "colab_type": "text"
      },
      "source": [
        "8. К строке применили функцию:   \n",
        "replace('||', '|'). \n",
        "\n",
        "Программа вывела следующую строку: \n",
        "'| |'\n",
        "\n",
        "Какой была исходная строка?"
      ]
    },
    {
      "cell_type": "code",
      "metadata": {
        "id": "ViVh2j5gb05g",
        "colab_type": "code",
        "colab": {}
      },
      "source": [
        "# ваш ответ"
      ],
      "execution_count": 0,
      "outputs": []
    },
    {
      "cell_type": "markdown",
      "metadata": {
        "id": "XqqiVV0I2pFA",
        "colab_type": "text"
      },
      "source": [
        "9. Пароль должен состоять ровно из 10 символов и состоять только из букв. Вам даны два пароля, напишите программу, которая проверит их на правильность и выведет True для правильного пароля и False для неправильного."
      ]
    },
    {
      "cell_type": "code",
      "metadata": {
        "id": "Y71xZlSA3J0e",
        "colab_type": "code",
        "colab": {}
      },
      "source": [
        "pass1 = 'qweABCjoHn'\n",
        "pass2 = 'asdfPassword1' \n",
        "\n",
        "# напишите ваш ответ здесь"
      ],
      "execution_count": 0,
      "outputs": []
    },
    {
      "cell_type": "markdown",
      "metadata": {
        "id": "BQ0ztYB-2lTu",
        "colab_type": "text"
      },
      "source": [
        "10. Дана строка с разными почтовыми ящиками. С помощью метода строковых переменных выведите количество почтовых адресов в строке. В этой задаче, все, что содержит знак '@', считается правильным почтовым адресом."
      ]
    },
    {
      "cell_type": "code",
      "metadata": {
        "id": "5raKol0Z2iu6",
        "colab_type": "code",
        "colab": {}
      },
      "source": [
        "emails =  'abc@gmail.com top_gamer2009@rambler.ru zuckerberg.yahoo.com'\n",
        "\n",
        "# напишите ваш ответ здесь"
      ],
      "execution_count": 0,
      "outputs": []
    },
    {
      "cell_type": "markdown",
      "metadata": {
        "id": "HF6Llrm02jUF",
        "colab_type": "text"
      },
      "source": [
        "**2. Задачи на срезы строк**  \n",
        "*(1 балл, каждый вопрос 0.25 баллов)*"
      ]
    },
    {
      "cell_type": "code",
      "metadata": {
        "id": "Es6E2KLx3tDa",
        "colab_type": "code",
        "colab": {}
      },
      "source": [
        "ex3 = \"Please call me at 12:34 on the number 89123456789."
      ],
      "execution_count": 0,
      "outputs": []
    },
    {
      "cell_type": "markdown",
      "metadata": {
        "id": "OhebaD5Z4QFf",
        "colab_type": "text"
      },
      "source": [
        "1. Выведите строку, состоящую из первых 4-х символов данной строки"
      ]
    },
    {
      "cell_type": "code",
      "metadata": {
        "id": "MMchKq2q4W92",
        "colab_type": "code",
        "colab": {}
      },
      "source": [
        "# Ваш ответ"
      ],
      "execution_count": 0,
      "outputs": []
    },
    {
      "cell_type": "markdown",
      "metadata": {
        "id": "Zy9y9EuA4bLS",
        "colab_type": "text"
      },
      "source": [
        "2. Выведите строку без последнего символа с использованием индексации с конца строки"
      ]
    },
    {
      "cell_type": "code",
      "metadata": {
        "id": "zavV6dZD4lIQ",
        "colab_type": "code",
        "colab": {}
      },
      "source": [
        "# Ваш ответ"
      ],
      "execution_count": 0,
      "outputs": []
    },
    {
      "cell_type": "markdown",
      "metadata": {
        "id": "Bc8D44WP7yEn",
        "colab_type": "text"
      },
      "source": [
        "3. Выведите строку, идущую в обратном направлении"
      ]
    },
    {
      "cell_type": "code",
      "metadata": {
        "id": "jDn0NSYt4mrU",
        "colab_type": "code",
        "colab": {}
      },
      "source": [
        "# Ваш ответ"
      ],
      "execution_count": 0,
      "outputs": []
    },
    {
      "cell_type": "markdown",
      "metadata": {
        "id": "pZnB_3D-72b2",
        "colab_type": "text"
      },
      "source": [
        "4. Выведите строку, образованную из нечетных индексов данной строки\n",
        "('Pes alm t1:4o h ubr813579')"
      ]
    },
    {
      "cell_type": "code",
      "metadata": {
        "id": "BNZwpJV171LE",
        "colab_type": "code",
        "colab": {}
      },
      "source": [
        "# Ваш ответ"
      ],
      "execution_count": 0,
      "outputs": []
    },
    {
      "cell_type": "markdown",
      "metadata": {
        "id": "exw92wfF2n0n",
        "colab_type": "text"
      },
      "source": [
        "\n",
        "## **Важно**\n",
        "## Все задачи должны принимать значения на ввод (решение для частного случая будет считаться неполным)."
      ]
    },
    {
      "cell_type": "markdown",
      "metadata": {
        "id": "vu90QzIPnUiZ",
        "colab_type": "text"
      },
      "source": [
        "## **3. Задача 1**\n",
        "*(0.75 балла)*"
      ]
    },
    {
      "cell_type": "markdown",
      "metadata": {
        "id": "rs1U-nQsoIho",
        "colab_type": "text"
      },
      "source": [
        "### Условие"
      ]
    },
    {
      "cell_type": "markdown",
      "metadata": {
        "id": "0GRgNV2yoKk-",
        "colab_type": "text"
      },
      "source": [
        "Напишите программу, которая прибавляет 1 к натуральному числу N (длина числа N до 1000 знаков) "
      ]
    },
    {
      "cell_type": "markdown",
      "metadata": {
        "id": "jsph160aoNDR",
        "colab_type": "text"
      },
      "source": [
        "### Формат ввода"
      ]
    },
    {
      "cell_type": "markdown",
      "metadata": {
        "id": "Y0VpIlAPoPBI",
        "colab_type": "text"
      },
      "source": [
        "Дано чиcло N. "
      ]
    },
    {
      "cell_type": "markdown",
      "metadata": {
        "id": "kjBPZ4jloQ12",
        "colab_type": "text"
      },
      "source": [
        "### Формат вывода"
      ]
    },
    {
      "cell_type": "markdown",
      "metadata": {
        "id": "w5YZfYt5oSXN",
        "colab_type": "text"
      },
      "source": [
        "\n",
        "\n",
        "Выведите число N+1. "
      ]
    },
    {
      "cell_type": "markdown",
      "metadata": {
        "id": "gbgdTpWToTtz",
        "colab_type": "text"
      },
      "source": [
        "### Пример 1\n",
        "\n",
        "**Ввод:** 1 <br>\n",
        "**Вывод:** 2"
      ]
    },
    {
      "cell_type": "markdown",
      "metadata": {
        "id": "kbmGOOamohzY",
        "colab_type": "text"
      },
      "source": [
        "### Пример 2\n",
        "\n",
        "**Ввод:** 5 <br>\n",
        "**Вывод:** 6"
      ]
    },
    {
      "cell_type": "markdown",
      "metadata": {
        "id": "VPDTdjwColZJ",
        "colab_type": "text"
      },
      "source": [
        "### Пример 3\n",
        "\n",
        "**Ввод:** 9 <br>\n",
        "**Вывод:** 10"
      ]
    },
    {
      "cell_type": "code",
      "metadata": {
        "id": "aS_wtX3doxCW",
        "colab_type": "code",
        "colab": {}
      },
      "source": [
        "# Место для вашего кода"
      ],
      "execution_count": 0,
      "outputs": []
    },
    {
      "cell_type": "markdown",
      "metadata": {
        "id": "mKnT71QpdyzJ",
        "colab_type": "text"
      },
      "source": [
        "## **4. Задача 2**\n",
        "*(0.75 балла)*\n",
        "\n",
        "## 100 раз подряд в квадрате\n",
        "\n",
        "### Условие\n",
        "Заданное число N записали 100 раз подряд и затем возвели в квадрат. Что получилось? \n",
        "\n",
        "### Формат ввода\n",
        "\n",
        "\n",
        "\n",
        "Вводится целое неотрицательное число N не превышающее 1000. \n",
        "\n",
        "### Формат вывода\n",
        "\n",
        "\n",
        "\n",
        "Выведите ответ на задачу.\n",
        "\n",
        "### Пример\n",
        "\n",
        "**Ввод:** 0 <br>\n",
        "\n",
        "\n",
        "**Вывод:** 0"
      ]
    },
    {
      "cell_type": "code",
      "metadata": {
        "id": "8HWArcMDdyZ6",
        "colab_type": "code",
        "colab": {}
      },
      "source": [
        "# ваше решение здесь"
      ],
      "execution_count": 0,
      "outputs": []
    },
    {
      "cell_type": "markdown",
      "metadata": {
        "id": "RBZxjbKto385",
        "colab_type": "text"
      },
      "source": [
        "## **5. Задача 3**\n",
        "*(1 балл)*\n",
        "\n",
        "## Вова и планеты"
      ]
    },
    {
      "cell_type": "markdown",
      "metadata": {
        "id": "BXbK8qMUpIuw",
        "colab_type": "text"
      },
      "source": [
        " ### Условие\n",
        "\n",
        "Вова хочет стать космонавтом и ему интересно, сколько ему и его друзьям исполнилось лет в системе летоисчесления других планет Солнечной системы. Напишите программу, которая бы рассчитывала возраст человека на Венере, Марсе и Луне. Программе дается на ввод имя, возраст и название планеты (Венера, Марс, Луна), а выводится возраст, рассчитаный для этой планеты, по образцу в примере.\n",
        "\n",
        "Получившийся возраст может иметь дробную часть. Не округляйте его.\n",
        "\n",
        "Коэффициент возраста для Юпитера: 0.033  \n",
        "Коэффициент возраста для Марса: 0.531  \n",
        "Коэффициент возраста для Венеры: 1.62"
      ]
    },
    {
      "cell_type": "markdown",
      "metadata": {
        "id": "SbEUuqvypVZh",
        "colab_type": "text"
      },
      "source": [
        "### Пример 1\n",
        "\n",
        "**Ввод:** <br>\n",
        "Вова <br>\n",
        "13 <br>\n",
        "Юпитер <br>\n",
        "\n",
        "**Вывод:** <br>\n",
        "На планете Юпитер Вова живет уже 0.429 лет"
      ]
    },
    {
      "cell_type": "markdown",
      "metadata": {
        "id": "7DTXt2rAp0vx",
        "colab_type": "text"
      },
      "source": [
        "### Пример 2\n",
        "\n",
        "**Ввод:** <br>\n",
        "Андрей <br>\n",
        "17 <br>\n",
        "Марс <br>\n",
        "\n",
        "**Вывод:** <br>\n",
        "На планете Марс Андрей живет уже 9.027 лет"
      ]
    },
    {
      "cell_type": "code",
      "metadata": {
        "id": "DE_tX_FQp4Q9",
        "colab_type": "code",
        "colab": {}
      },
      "source": [
        "# Место для вашего кода"
      ],
      "execution_count": 0,
      "outputs": []
    },
    {
      "cell_type": "markdown",
      "metadata": {
        "id": "4P86hjVbp6Xs",
        "colab_type": "text"
      },
      "source": [
        "## **6. Задача 4**\n",
        "*(1 балл)*\n",
        "\n",
        "## Список квадратов"
      ]
    },
    {
      "cell_type": "markdown",
      "metadata": {
        "id": "qcPOg7n7qScZ",
        "colab_type": "text"
      },
      "source": [
        "### Условие\n",
        "По данному целому числу N распечатайте все квадраты натуральных чисел, не превосходящие N, в порядке возрастания. "
      ]
    },
    {
      "cell_type": "markdown",
      "metadata": {
        "id": "YB-mPGm2qVWc",
        "colab_type": "text"
      },
      "source": [
        "### Формат ввода\n",
        "\n",
        "\n",
        "\n",
        "Вводится натуральное число. "
      ]
    },
    {
      "cell_type": "markdown",
      "metadata": {
        "id": "BmwGHGXOqZdY",
        "colab_type": "text"
      },
      "source": [
        "### Формат вывода\n",
        "\n",
        "\n",
        "\n",
        "Выведите ответ на задачу. "
      ]
    },
    {
      "cell_type": "markdown",
      "metadata": {
        "id": "npxf7YYzqchR",
        "colab_type": "text"
      },
      "source": [
        "### Пример 1\n",
        "\n",
        "**Ввод:** 50 <br>\n",
        "\n",
        "**Вывод:** <br>\n",
        "1 <br>\n",
        "4 <br>\n",
        "9 <br>\n",
        "16 <br>\n",
        "25 <br>\n",
        "36 <br>\n",
        "49"
      ]
    },
    {
      "cell_type": "markdown",
      "metadata": {
        "id": "58ZkE17hqvRB",
        "colab_type": "text"
      },
      "source": [
        "### Пример 2\n",
        "\n",
        "**Ввод:** 10 <br>\n",
        "\n",
        "**Вывод:** <br>\n",
        "1 <br>\n",
        "4 <br>\n",
        "9 <br>"
      ]
    },
    {
      "cell_type": "markdown",
      "metadata": {
        "id": "u1xe1xBMqzdM",
        "colab_type": "text"
      },
      "source": [
        "### Пример 3\n",
        "\n",
        "**Ввод:** 9 <br>\n",
        "\n",
        "**Вывод:** <br>\n",
        "1 <br>\n",
        "4 <br>\n",
        "9 <br>"
      ]
    },
    {
      "cell_type": "code",
      "metadata": {
        "id": "n57PGhJ5sxGc",
        "colab_type": "code",
        "colab": {}
      },
      "source": [
        "# Место для вашего кода"
      ],
      "execution_count": 0,
      "outputs": []
    },
    {
      "cell_type": "markdown",
      "metadata": {
        "id": "rz7rtFnGrGGG",
        "colab_type": "text"
      },
      "source": [
        "## **7. Задача 5**\n",
        "*(2 балла)*\n",
        "\n",
        "## Ход слона"
      ]
    },
    {
      "cell_type": "markdown",
      "metadata": {
        "id": "22wQ97DbrHCi",
        "colab_type": "text"
      },
      "source": [
        "### Условие\n",
        "\n",
        "\n",
        "\n",
        "Шахматный слон ходит по диагонали. Даны две различные клетки шахматной доски, определите, может ли слон попасть с первой клетки на вторую одним ходом. "
      ]
    },
    {
      "cell_type": "markdown",
      "metadata": {
        "id": "8wje8nu7rJtn",
        "colab_type": "text"
      },
      "source": [
        "### Формат ввода\n",
        "\n",
        "\n",
        "\n",
        "Программа получает на вход четыре числа от 1 до 8 каждое, задающие номер столбца и номер строки сначала для первой клетки, потом для второй клетки. "
      ]
    },
    {
      "cell_type": "markdown",
      "metadata": {
        "id": "8Vy5efSarN6I",
        "colab_type": "text"
      },
      "source": [
        "### Формат вывода\n",
        "\n",
        "\n",
        "\n",
        "Программа должна вывести YES, если из первой клетки ходом слона можно попасть во вторую или NO в противном случае. "
      ]
    },
    {
      "cell_type": "markdown",
      "metadata": {
        "id": "3IDWOiaUrXEy",
        "colab_type": "text"
      },
      "source": [
        "### Пример 1\n",
        "\n",
        "**Ввод:** <br>\n",
        "4 <br>\n",
        "4 <br>\n",
        "5 <br>\n",
        "5 <br>\n",
        "\n",
        "**Вывод:** <br>\n",
        "YES "
      ]
    },
    {
      "cell_type": "markdown",
      "metadata": {
        "id": "JswbURXEril1",
        "colab_type": "text"
      },
      "source": [
        "### Пример 2\n",
        "\n",
        "**Ввод:** <br>\n",
        "4 <br>\n",
        "4 <br>\n",
        "5 <br>\n",
        "4 <br>\n",
        "\n",
        "**Вывод:** <br>\n",
        "NO "
      ]
    },
    {
      "cell_type": "markdown",
      "metadata": {
        "id": "LD89YLX6rlF0",
        "colab_type": "text"
      },
      "source": [
        "### Пример 3\n",
        "\n",
        "**Ввод:** <br>\n",
        "4 <br>\n",
        "4 <br>\n",
        "5 <br>\n",
        "3 <br>\n",
        "\n",
        "**Вывод:** <br>\n",
        "YES "
      ]
    },
    {
      "cell_type": "code",
      "metadata": {
        "id": "rtSZyqaPszSI",
        "colab_type": "code",
        "colab": {}
      },
      "source": [
        "# Место для вашего кода"
      ],
      "execution_count": 0,
      "outputs": []
    },
    {
      "cell_type": "markdown",
      "metadata": {
        "id": "k0AT_3PMrpU3",
        "colab_type": "text"
      },
      "source": [
        "## **8. Задача 6**\n",
        "*(1.5 балла)*\n",
        "\n",
        "## Среднее значение последовательности"
      ]
    },
    {
      "cell_type": "markdown",
      "metadata": {
        "id": "AeQrV48Xr1Pr",
        "colab_type": "text"
      },
      "source": [
        "### Условие\n",
        "\n",
        "\n",
        "\n",
        "\n",
        "\n",
        "Определите среднее значение всех элементов последовательности, завершающейся числом 0. Использовать массивы в данной задаче нельзя. "
      ]
    },
    {
      "cell_type": "markdown",
      "metadata": {
        "id": "uNLzSOK-r3kg",
        "colab_type": "text"
      },
      "source": [
        "### Формат ввода\n",
        "\n",
        "\n",
        "\n",
        "\n",
        "\n",
        "Вводится последовательность целых чисел, оканчивающаяся числом 0 (само число 0 в последовательность не входит, а служит как признак ее окончания. "
      ]
    },
    {
      "cell_type": "markdown",
      "metadata": {
        "id": "QgFiV4Jsr6ks",
        "colab_type": "text"
      },
      "source": [
        "### Формат вывода\n",
        "\n",
        "\n",
        "\n",
        "\n",
        "\n",
        "Выведите ответ на задачу. "
      ]
    },
    {
      "cell_type": "markdown",
      "metadata": {
        "id": "jVieOhEXr9WT",
        "colab_type": "text"
      },
      "source": [
        "### Пример 1\n",
        "\n",
        "**Ввод:** <br>\n",
        "1 <br>\n",
        "7 <br>\n",
        "9 <br>\n",
        "0 <br>\n",
        "\n",
        "**Вывод:** <br>\n",
        "5.66666666667"
      ]
    },
    {
      "cell_type": "markdown",
      "metadata": {
        "id": "3a9GF0zWsF7a",
        "colab_type": "text"
      },
      "source": [
        "### Пример 2\n",
        "\n",
        "**Ввод:** <br>\n",
        "1 <br>\n",
        "1 <br>\n",
        "1 <br>\n",
        "1 <br>\n",
        "1 <br>\n",
        "1 <br>\n",
        "1 <br>\n",
        "1 <br>\n",
        "1 <br>\n",
        "0 <br>\n",
        "\n",
        "**Вывод:** <br>\n",
        "1.0"
      ]
    },
    {
      "cell_type": "markdown",
      "metadata": {
        "id": "cp7FYIyCsLsC",
        "colab_type": "text"
      },
      "source": [
        "### Пример 3\n",
        "\n",
        "**Ввод:** <br>\n",
        "34 <br>\n",
        "2345 <br>\n",
        "2345 <br>\n",
        "2345 <br>\n",
        "2345 <br>\n",
        "345 <br>\n",
        "3 <br>\n",
        "345 <br>\n",
        "3 <br>\n",
        "345 <br>\n",
        "1 <br>\n",
        "3 <br>\n",
        "424 <br>\n",
        "5 <br>\n",
        "453 <br>\n",
        "0 <br>\n",
        "\n",
        "**Вывод:** <br>\n",
        "756.066666667"
      ]
    },
    {
      "cell_type": "code",
      "metadata": {
        "id": "PGuU_pcQs1hn",
        "colab_type": "code",
        "colab": {}
      },
      "source": [
        "# Место для вашего кода"
      ],
      "execution_count": 0,
      "outputs": []
    }
  ]
}