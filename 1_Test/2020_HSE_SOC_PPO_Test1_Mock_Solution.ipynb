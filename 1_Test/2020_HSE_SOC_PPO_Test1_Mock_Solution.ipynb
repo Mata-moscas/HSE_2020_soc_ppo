{
  "nbformat": 4,
  "nbformat_minor": 0,
  "metadata": {
    "colab": {
      "name": "2020_HSE_SOC_PPO_Test1_Mock.ipynb",
      "provenance": [],
      "collapsed_sections": []
    },
    "kernelspec": {
      "name": "python3",
      "display_name": "Python 3"
    }
  },
  "cells": [
    {
      "cell_type": "markdown",
      "metadata": {
        "id": "NCfeKkMf29Ax",
        "colab_type": "text"
      },
      "source": [
        "# Самостоятельная 1\n",
        "Социлогия | 1 курс | ППО\n",
        "Преподаватели: Рогович Т.В., Лебедева В.А, Бирюков В.А.\n",
        "\n",
        "## Формат проведения\n",
        "\n",
        "**Списывание и использование телефонов**\n",
        "\n",
        "Первое предупреждение, сделанное ассистентом или преподавателем: - 1 балл к вашей оценке.\n",
        "\n",
        "Второе предупреждение: работа аннулируется без права переписывания.\n",
        "\n",
        "\n",
        "## **Важно**\n",
        "## Все задачи должны принимать значения на ввод (решение для частного случая будет считаться неполным)."
      ]
    },
    {
      "cell_type": "markdown",
      "metadata": {
        "id": "xnXOhLagyAbg",
        "colab_type": "text"
      },
      "source": [
        "**1. Тест**  \n",
        "*(2 балла, каждый ответ 0.2 балла)*\n"
      ]
    },
    {
      "cell_type": "markdown",
      "metadata": {
        "id": "T0aX7WL_yLIh",
        "colab_type": "text"
      },
      "source": [
        "1. Как выглядит знак возведения в степень в Python?"
      ]
    },
    {
      "cell_type": "code",
      "metadata": {
        "id": "pvpEMwbqbgE0",
        "colab_type": "code",
        "colab": {}
      },
      "source": [
        "# **"
      ],
      "execution_count": 0,
      "outputs": []
    },
    {
      "cell_type": "markdown",
      "metadata": {
        "id": "nS1Ks87qyt5-",
        "colab_type": "text"
      },
      "source": [
        "2. Выведите строки, данные ниже, следующим образом, дополнив код на месте многоточия в следующей ячейке. После 'Форматирование---' и \"Это---\" должна быть пустая строка. Новые print() создавать нельзя:\n",
        "\n",
        "Форматирование---\n",
        "\n",
        "Это---\n",
        "\n",
        "Просто---\n"
      ]
    },
    {
      "cell_type": "code",
      "metadata": {
        "id": "kqI0c3aFypyl",
        "colab_type": "code",
        "outputId": "aed2aef3-7551-404a-84c7-b47873df997c",
        "colab": {
          "base_uri": "https://localhost:8080/",
          "height": 34
        }
      },
      "source": [
        "print('Форматирование', 'Это', \"Просто\", ...) # sep = '---\\n\\n', end = '---'"
      ],
      "execution_count": 0,
      "outputs": [
        {
          "output_type": "stream",
          "text": [
            "Форматирование Это Просто Ellipsis\n"
          ],
          "name": "stdout"
        }
      ]
    },
    {
      "cell_type": "markdown",
      "metadata": {
        "id": "mslcYWMozOgB",
        "colab_type": "text"
      },
      "source": [
        "3. Укажите правильный способ конкатенации строк.         \n",
        "а. 'string1' + 'string2'  \n",
        "b. 'string1' . 'string2'  \n",
        "c.  'string1'.strip() 'string2'  \n",
        "d.  'string1' : 'string2'\""
      ]
    },
    {
      "cell_type": "code",
      "metadata": {
        "id": "6os2349fbkEe",
        "colab_type": "code",
        "colab": {}
      },
      "source": [
        "# a"
      ],
      "execution_count": 0,
      "outputs": []
    },
    {
      "cell_type": "markdown",
      "metadata": {
        "id": "s8Al0Xe5z7ql",
        "colab_type": "text"
      },
      "source": [
        "4. Что из ниже перечисленного является правильным написанием логической переменной “ложь” в Python?  \n",
        "a. FALSE  \n",
        "b. False  \n",
        "c. false  "
      ]
    },
    {
      "cell_type": "code",
      "metadata": {
        "id": "ay9oaPrmbnIa",
        "colab_type": "code",
        "colab": {}
      },
      "source": [
        "# b"
      ],
      "execution_count": 0,
      "outputs": []
    },
    {
      "cell_type": "markdown",
      "metadata": {
        "id": "F6bRHMbd0vYN",
        "colab_type": "text"
      },
      "source": [
        "5. Какая из перечисленных операций \n",
        "сравнений является верной?      \n",
        "a. <>  \n",
        "b. =<  \n",
        "c. =  \n",
        "d. !="
      ]
    },
    {
      "cell_type": "code",
      "metadata": {
        "id": "wWRNM4trbsOc",
        "colab_type": "code",
        "colab": {}
      },
      "source": [
        "# d"
      ],
      "execution_count": 0,
      "outputs": []
    },
    {
      "cell_type": "markdown",
      "metadata": {
        "id": "4nPuoDlq1T8G",
        "colab_type": "text"
      },
      "source": [
        "6. Какой тип данных имеет выражение 2.5 * 5?        \n",
        "a. int  \n",
        "b. float  \n",
        "c. dict  \n",
        "d. string"
      ]
    },
    {
      "cell_type": "code",
      "metadata": {
        "id": "Y9iktBa9bupZ",
        "colab_type": "code",
        "colab": {}
      },
      "source": [
        "# b"
      ],
      "execution_count": 0,
      "outputs": []
    },
    {
      "cell_type": "markdown",
      "metadata": {
        "id": "GNV9X0aG13K4",
        "colab_type": "text"
      },
      "source": [
        "7. В чем отличие math.floor от math.ceil()?"
      ]
    },
    {
      "cell_type": "code",
      "metadata": {
        "id": "bZ0yaxYebw3Q",
        "colab_type": "code",
        "colab": {}
      },
      "source": [
        "# Первая округляет в меньшую сторону, вторая - в большую. "
      ],
      "execution_count": 0,
      "outputs": []
    },
    {
      "cell_type": "markdown",
      "metadata": {
        "id": "lrDKxjRx2J71",
        "colab_type": "text"
      },
      "source": [
        "8. К строке применили функцию:   \n",
        "replace('||', '|'). \n",
        "\n",
        "Программа вывела следующую строку: \n",
        "'| |'\n",
        "\n",
        "Какой была исходная строка?"
      ]
    },
    {
      "cell_type": "code",
      "metadata": {
        "id": "ViVh2j5gb05g",
        "colab_type": "code",
        "colab": {}
      },
      "source": [
        "# '|| ||'"
      ],
      "execution_count": 0,
      "outputs": []
    },
    {
      "cell_type": "markdown",
      "metadata": {
        "id": "XqqiVV0I2pFA",
        "colab_type": "text"
      },
      "source": [
        "9. Пароль должен состоять ровно из 10 символов и состоять только из букв. Вам даны два пароля, напишите программу, которая проверит их на правильность и выведет True для правильного пароля и False для неправильного."
      ]
    },
    {
      "cell_type": "code",
      "metadata": {
        "id": "Y71xZlSA3J0e",
        "colab_type": "code",
        "outputId": "f7928a9f-266c-45c1-c30b-27599f2ff1db",
        "colab": {
          "base_uri": "https://localhost:8080/",
          "height": 54
        }
      },
      "source": [
        "pass1 = 'qweABCjoHn'\n",
        "pass2 = 'asdfPassword1' \n",
        "\n",
        "print(len(pass1) == 10 and pass1.isalpha())\n",
        "print(len(pass2) == 10 and pass2.isalpha())"
      ],
      "execution_count": 0,
      "outputs": [
        {
          "output_type": "stream",
          "text": [
            "True\n",
            "False\n"
          ],
          "name": "stdout"
        }
      ]
    },
    {
      "cell_type": "markdown",
      "metadata": {
        "id": "BQ0ztYB-2lTu",
        "colab_type": "text"
      },
      "source": [
        "10. Дана строка с разными почтовыми ящиками. С помощью метода строковых переменных выведите количество почтовых адресов в строке. В этой задаче, все, что содержит знак '@', считается правильным почтовым адресом."
      ]
    },
    {
      "cell_type": "code",
      "metadata": {
        "id": "5raKol0Z2iu6",
        "colab_type": "code",
        "outputId": "c184ba13-9505-4b0f-c060-e0676811ed25",
        "colab": {
          "base_uri": "https://localhost:8080/",
          "height": 34
        }
      },
      "source": [
        "emails =  'abc@gmail.com top_gamer2009@rambler.ru zuckerberg.yahoo.com'\n",
        "\n",
        "emails.count('@')"
      ],
      "execution_count": 0,
      "outputs": [
        {
          "output_type": "execute_result",
          "data": {
            "text/plain": [
              "2"
            ]
          },
          "metadata": {
            "tags": []
          },
          "execution_count": 33
        }
      ]
    },
    {
      "cell_type": "markdown",
      "metadata": {
        "id": "HF6Llrm02jUF",
        "colab_type": "text"
      },
      "source": [
        "**2. Задачи на срезы строк**  \n",
        "*(1 балл, каждый вопрос 0.25 баллов)*"
      ]
    },
    {
      "cell_type": "code",
      "metadata": {
        "id": "Es6E2KLx3tDa",
        "colab_type": "code",
        "colab": {}
      },
      "source": [
        "ex3 = \"Please call me at 12:34 on the number 89123456789.\""
      ],
      "execution_count": 0,
      "outputs": []
    },
    {
      "cell_type": "markdown",
      "metadata": {
        "id": "OhebaD5Z4QFf",
        "colab_type": "text"
      },
      "source": [
        "1. Выведите строку, состоящую из первых 4-х символов данной строки"
      ]
    },
    {
      "cell_type": "code",
      "metadata": {
        "id": "MMchKq2q4W92",
        "colab_type": "code",
        "outputId": "b9f1ff22-abfd-42a3-9d65-32257db219d4",
        "colab": {
          "base_uri": "https://localhost:8080/",
          "height": 35
        }
      },
      "source": [
        "ex3[:4]"
      ],
      "execution_count": 0,
      "outputs": [
        {
          "output_type": "execute_result",
          "data": {
            "text/plain": [
              "'Plea'"
            ]
          },
          "metadata": {
            "tags": []
          },
          "execution_count": 10
        }
      ]
    },
    {
      "cell_type": "markdown",
      "metadata": {
        "id": "Zy9y9EuA4bLS",
        "colab_type": "text"
      },
      "source": [
        "2. Выведите строку без последнего символа с использованием индексации с конца строки"
      ]
    },
    {
      "cell_type": "code",
      "metadata": {
        "id": "zavV6dZD4lIQ",
        "colab_type": "code",
        "outputId": "856e5409-6126-473b-ed91-bad878e6f8a4",
        "colab": {
          "base_uri": "https://localhost:8080/",
          "height": 35
        }
      },
      "source": [
        "ex3[:-1]"
      ],
      "execution_count": 0,
      "outputs": [
        {
          "output_type": "execute_result",
          "data": {
            "text/plain": [
              "'Please call me at 12:34 on the number 89123456789'"
            ]
          },
          "metadata": {
            "tags": []
          },
          "execution_count": 11
        }
      ]
    },
    {
      "cell_type": "markdown",
      "metadata": {
        "id": "Bc8D44WP7yEn",
        "colab_type": "text"
      },
      "source": [
        "3. Выведите строку, идущую в обратном направлении"
      ]
    },
    {
      "cell_type": "code",
      "metadata": {
        "id": "jDn0NSYt4mrU",
        "colab_type": "code",
        "outputId": "14919d6c-b2f1-4ee6-b1da-9433731f59bc",
        "colab": {
          "base_uri": "https://localhost:8080/",
          "height": 35
        }
      },
      "source": [
        "ex3[::-1]"
      ],
      "execution_count": 0,
      "outputs": [
        {
          "output_type": "execute_result",
          "data": {
            "text/plain": [
              "'.98765432198 rebmun eht no 43:21 ta em llac esaelP'"
            ]
          },
          "metadata": {
            "tags": []
          },
          "execution_count": 12
        }
      ]
    },
    {
      "cell_type": "markdown",
      "metadata": {
        "id": "pZnB_3D-72b2",
        "colab_type": "text"
      },
      "source": [
        "4. Выведите строку, образованную из нечетных индексов данной строки\n",
        "('Pes alm t1:4o h ubr813579')"
      ]
    },
    {
      "cell_type": "code",
      "metadata": {
        "id": "BNZwpJV171LE",
        "colab_type": "code",
        "outputId": "8c4bb8fe-0c2c-4c6e-efa2-55f130f2f119",
        "colab": {
          "base_uri": "https://localhost:8080/",
          "height": 34
        }
      },
      "source": [
        "ex3[::2]"
      ],
      "execution_count": 0,
      "outputs": [
        {
          "output_type": "execute_result",
          "data": {
            "text/plain": [
              "'Pes alm t1:4o h ubr813579'"
            ]
          },
          "metadata": {
            "tags": []
          },
          "execution_count": 34
        }
      ]
    },
    {
      "cell_type": "markdown",
      "metadata": {
        "id": "exw92wfF2n0n",
        "colab_type": "text"
      },
      "source": [
        "\n",
        "## **Важно**\n",
        "## Все задачи должны принимать значения на ввод (решение для частного случая будет считаться неполным)."
      ]
    },
    {
      "cell_type": "markdown",
      "metadata": {
        "id": "vu90QzIPnUiZ",
        "colab_type": "text"
      },
      "source": [
        "## **3. Задача 1**\n",
        "*(0.75 балла)*"
      ]
    },
    {
      "cell_type": "markdown",
      "metadata": {
        "id": "rs1U-nQsoIho",
        "colab_type": "text"
      },
      "source": [
        "### Условие"
      ]
    },
    {
      "cell_type": "markdown",
      "metadata": {
        "id": "0GRgNV2yoKk-",
        "colab_type": "text"
      },
      "source": [
        "Напишите программу, которая прибавляет 1 к натуральному числу N (длина числа N до 1000 знаков) "
      ]
    },
    {
      "cell_type": "markdown",
      "metadata": {
        "id": "jsph160aoNDR",
        "colab_type": "text"
      },
      "source": [
        "### Формат ввода"
      ]
    },
    {
      "cell_type": "markdown",
      "metadata": {
        "id": "Y0VpIlAPoPBI",
        "colab_type": "text"
      },
      "source": [
        "Дано чиcло N. "
      ]
    },
    {
      "cell_type": "markdown",
      "metadata": {
        "id": "kjBPZ4jloQ12",
        "colab_type": "text"
      },
      "source": [
        "### Формат вывода"
      ]
    },
    {
      "cell_type": "markdown",
      "metadata": {
        "id": "w5YZfYt5oSXN",
        "colab_type": "text"
      },
      "source": [
        "\n",
        "\n",
        "Выведите число N+1. "
      ]
    },
    {
      "cell_type": "markdown",
      "metadata": {
        "id": "gbgdTpWToTtz",
        "colab_type": "text"
      },
      "source": [
        "### Пример 1\n",
        "\n",
        "**Ввод:** 1 <br>\n",
        "**Вывод:** 2"
      ]
    },
    {
      "cell_type": "markdown",
      "metadata": {
        "id": "kbmGOOamohzY",
        "colab_type": "text"
      },
      "source": [
        "### Пример 2\n",
        "\n",
        "**Ввод:** 5 <br>\n",
        "**Вывод:** 6"
      ]
    },
    {
      "cell_type": "markdown",
      "metadata": {
        "id": "VPDTdjwColZJ",
        "colab_type": "text"
      },
      "source": [
        "### Пример 3\n",
        "\n",
        "**Ввод:** 9 <br>\n",
        "**Вывод:** 10"
      ]
    },
    {
      "cell_type": "code",
      "metadata": {
        "id": "aS_wtX3doxCW",
        "colab_type": "code",
        "outputId": "af6a775b-97cc-404c-b99b-e16da5167c8a",
        "colab": {
          "base_uri": "https://localhost:8080/",
          "height": 54
        }
      },
      "source": [
        "N = int(input())\n",
        "print(N+1)"
      ],
      "execution_count": 0,
      "outputs": [
        {
          "output_type": "stream",
          "text": [
            "1\n",
            "2\n"
          ],
          "name": "stdout"
        }
      ]
    },
    {
      "cell_type": "markdown",
      "metadata": {
        "id": "mKnT71QpdyzJ",
        "colab_type": "text"
      },
      "source": [
        "## **4. Задача 2**\n",
        "*(0.75 балла)*\n",
        "\n",
        "## 100 раз подряд в квадрате\n",
        "\n",
        "### Условие\n",
        "Заданное число N записали 100 раз подряд и затем возвели в квадрат. Что получилось? \n",
        "\n",
        "### Формат ввода\n",
        "\n",
        "\n",
        "\n",
        "Вводится целое неотрицательное число N не превышающее 1000. \n",
        "\n",
        "### Формат вывода\n",
        "\n",
        "\n",
        "\n",
        "Выведите ответ на задачу.\n",
        "\n",
        "### Пример\n",
        "\n",
        "**Ввод:** 0 <br>\n",
        "\n",
        "\n",
        "**Вывод:** 0"
      ]
    },
    {
      "cell_type": "code",
      "metadata": {
        "id": "8HWArcMDdyZ6",
        "colab_type": "code",
        "outputId": "9b71e96b-adcd-4aff-fd55-f0a3e6f49d88",
        "colab": {
          "base_uri": "https://localhost:8080/",
          "height": 54
        }
      },
      "source": [
        "N_str = input ()\n",
        "\n",
        "N_long = int(N_str * 100)\n",
        "print(N_long ** 2)"
      ],
      "execution_count": 0,
      "outputs": [
        {
          "output_type": "stream",
          "text": [
            "0\n",
            "0\n"
          ],
          "name": "stdout"
        }
      ]
    },
    {
      "cell_type": "markdown",
      "metadata": {
        "id": "RBZxjbKto385",
        "colab_type": "text"
      },
      "source": [
        "## **5. Задача 3**\n",
        "*(1 балл)*\n",
        "\n",
        "## Вова и планеты"
      ]
    },
    {
      "cell_type": "markdown",
      "metadata": {
        "id": "BXbK8qMUpIuw",
        "colab_type": "text"
      },
      "source": [
        " ### Условие\n",
        "\n",
        "Вова хочет стать космонавтом и ему интересно, сколько ему и его друзьям исполнилось лет в системе летоисчесления других планет Солнечной системы. Напишите программу, которая бы рассчитывала возраст человека на Венере, Марсе и Луне. Программе дается на ввод имя, возраст и название планеты (Венера, Марс, Луна), а выводится возраст, рассчитаный для этой планеты, по образцу в примере.\n",
        "\n",
        "Получившийся возраст может иметь дробную часть. Не округляйте его.\n",
        "\n",
        "Коэффициент возраста для Юпитера: 0.033  \n",
        "Коэффициент возраста для Марса: 0.531  \n",
        "Коэффициент возраста для Венеры: 1.62"
      ]
    },
    {
      "cell_type": "markdown",
      "metadata": {
        "id": "SbEUuqvypVZh",
        "colab_type": "text"
      },
      "source": [
        "### Пример 1\n",
        "\n",
        "**Ввод:** <br>\n",
        "Вова <br>\n",
        "13 <br>\n",
        "Юпитер <br>\n",
        "\n",
        "**Вывод:** <br>\n",
        "На планете Юпитер Вова живет уже 0.429 лет"
      ]
    },
    {
      "cell_type": "markdown",
      "metadata": {
        "id": "7DTXt2rAp0vx",
        "colab_type": "text"
      },
      "source": [
        "### Пример 2\n",
        "\n",
        "**Ввод:** <br>\n",
        "Андрей <br>\n",
        "17 <br>\n",
        "Марс <br>\n",
        "\n",
        "**Вывод:** <br>\n",
        "На планете Марс Андрей живет уже 9.027 лет"
      ]
    },
    {
      "cell_type": "code",
      "metadata": {
        "id": "DE_tX_FQp4Q9",
        "colab_type": "code",
        "outputId": "0404f49a-852d-43b2-faa8-53a311c70070",
        "colab": {
          "base_uri": "https://localhost:8080/",
          "height": 90
        }
      },
      "source": [
        "name = input()\n",
        "age = int(input())\n",
        "planet = input ()\n",
        "\n",
        "if planet == 'Марс':\n",
        "  age = age * 0.531\n",
        "elif planet == 'Юпитер':\n",
        "  age = age * 0.033\n",
        "else:\n",
        "  age = age * 1.62\n",
        "\n",
        "print('На планете', planet, name, 'живет уже', age, 'лет')"
      ],
      "execution_count": 0,
      "outputs": [
        {
          "output_type": "stream",
          "text": [
            "Андрей\n",
            "17\n",
            "Марс\n",
            "На планете Марс Андрей живет уже 9.027000000000001 лет\n"
          ],
          "name": "stdout"
        }
      ]
    },
    {
      "cell_type": "markdown",
      "metadata": {
        "id": "4P86hjVbp6Xs",
        "colab_type": "text"
      },
      "source": [
        "## **6. Задача 4**\n",
        "*(1 балл)*\n",
        "\n",
        "## Список квадратов"
      ]
    },
    {
      "cell_type": "markdown",
      "metadata": {
        "id": "qcPOg7n7qScZ",
        "colab_type": "text"
      },
      "source": [
        "### Условие\n",
        "По данному целому числу N распечатайте все квадраты натуральных чисел, не превосходящие N, в порядке возрастания. "
      ]
    },
    {
      "cell_type": "markdown",
      "metadata": {
        "id": "YB-mPGm2qVWc",
        "colab_type": "text"
      },
      "source": [
        "### Формат ввода\n",
        "\n",
        "\n",
        "\n",
        "Вводится натуральное число. "
      ]
    },
    {
      "cell_type": "markdown",
      "metadata": {
        "id": "BmwGHGXOqZdY",
        "colab_type": "text"
      },
      "source": [
        "### Формат вывода\n",
        "\n",
        "\n",
        "\n",
        "Выведите ответ на задачу. "
      ]
    },
    {
      "cell_type": "markdown",
      "metadata": {
        "id": "npxf7YYzqchR",
        "colab_type": "text"
      },
      "source": [
        "### Пример 1\n",
        "\n",
        "**Ввод:** 50 <br>\n",
        "\n",
        "**Вывод:** <br>\n",
        "1 <br>\n",
        "4 <br>\n",
        "9 <br>\n",
        "16 <br>\n",
        "25 <br>\n",
        "36 <br>\n",
        "49"
      ]
    },
    {
      "cell_type": "markdown",
      "metadata": {
        "id": "58ZkE17hqvRB",
        "colab_type": "text"
      },
      "source": [
        "### Пример 2\n",
        "\n",
        "**Ввод:** 10 <br>\n",
        "\n",
        "**Вывод:** <br>\n",
        "1 <br>\n",
        "4 <br>\n",
        "9 <br>"
      ]
    },
    {
      "cell_type": "markdown",
      "metadata": {
        "id": "u1xe1xBMqzdM",
        "colab_type": "text"
      },
      "source": [
        "### Пример 3\n",
        "\n",
        "**Ввод:** 9 <br>\n",
        "\n",
        "**Вывод:** <br>\n",
        "1 <br>\n",
        "4 <br>\n",
        "9 <br>"
      ]
    },
    {
      "cell_type": "code",
      "metadata": {
        "id": "n57PGhJ5sxGc",
        "colab_type": "code",
        "outputId": "05b0cfe5-cd22-485e-f914-b7f715ac6da1",
        "colab": {
          "base_uri": "https://localhost:8080/",
          "height": 90
        }
      },
      "source": [
        "N = int(input())\n",
        "\n",
        "x = 1\n",
        "while x**2 <= N:\n",
        "  print(x ** 2)\n",
        "  x += 1"
      ],
      "execution_count": 0,
      "outputs": [
        {
          "output_type": "stream",
          "text": [
            "9\n",
            "1\n",
            "4\n",
            "9\n"
          ],
          "name": "stdout"
        }
      ]
    },
    {
      "cell_type": "markdown",
      "metadata": {
        "id": "rz7rtFnGrGGG",
        "colab_type": "text"
      },
      "source": [
        "## **7. Задача 5**\n",
        "*(2 балла)*\n",
        "\n",
        "## Ход слона"
      ]
    },
    {
      "cell_type": "markdown",
      "metadata": {
        "id": "22wQ97DbrHCi",
        "colab_type": "text"
      },
      "source": [
        "### Условие\n",
        "\n",
        "\n",
        "\n",
        "Шахматный слон ходит по диагонали. Даны две различные клетки шахматной доски, определите, может ли слон попасть с первой клетки на вторую одним ходом. "
      ]
    },
    {
      "cell_type": "markdown",
      "metadata": {
        "id": "8wje8nu7rJtn",
        "colab_type": "text"
      },
      "source": [
        "### Формат ввода\n",
        "\n",
        "\n",
        "\n",
        "Программа получает на вход четыре числа от 1 до 8 каждое, задающие номер столбца и номер строки сначала для первой клетки, потом для второй клетки. "
      ]
    },
    {
      "cell_type": "markdown",
      "metadata": {
        "id": "8Vy5efSarN6I",
        "colab_type": "text"
      },
      "source": [
        "### Формат вывода\n",
        "\n",
        "\n",
        "\n",
        "Программа должна вывести YES, если из первой клетки ходом слона можно попасть во вторую или NO в противном случае. "
      ]
    },
    {
      "cell_type": "markdown",
      "metadata": {
        "id": "3IDWOiaUrXEy",
        "colab_type": "text"
      },
      "source": [
        "### Пример 1\n",
        "\n",
        "**Ввод:** <br>\n",
        "4 <br>\n",
        "4 <br>\n",
        "5 <br>\n",
        "5 <br>\n",
        "\n",
        "**Вывод:** <br>\n",
        "YES "
      ]
    },
    {
      "cell_type": "markdown",
      "metadata": {
        "id": "JswbURXEril1",
        "colab_type": "text"
      },
      "source": [
        "### Пример 2\n",
        "\n",
        "**Ввод:** <br>\n",
        "4 <br>\n",
        "4 <br>\n",
        "5 <br>\n",
        "4 <br>\n",
        "\n",
        "**Вывод:** <br>\n",
        "NO "
      ]
    },
    {
      "cell_type": "markdown",
      "metadata": {
        "id": "LD89YLX6rlF0",
        "colab_type": "text"
      },
      "source": [
        "### Пример 3\n",
        "\n",
        "**Ввод:** <br>\n",
        "4 <br>\n",
        "4 <br>\n",
        "5 <br>\n",
        "3 <br>\n",
        "\n",
        "**Вывод:** <br>\n",
        "YES "
      ]
    },
    {
      "cell_type": "code",
      "metadata": {
        "id": "rtSZyqaPszSI",
        "colab_type": "code",
        "outputId": "469aef18-4b57-4196-a9e3-0bbef3b122ac",
        "colab": {
          "base_uri": "https://localhost:8080/",
          "height": 108
        }
      },
      "source": [
        "x1 = int(input())\n",
        "y1 = int(input())\n",
        "\n",
        "x2 = int(input())\n",
        "y2 = int(input())\n",
        "\n",
        "if (x1 - x2)**2 == (y1 - y2)**2:\n",
        "  print('YES')\n",
        "else:\n",
        "  print('NO')\n"
      ],
      "execution_count": 0,
      "outputs": [
        {
          "output_type": "stream",
          "text": [
            "4\n",
            "4\n",
            "5\n",
            "5\n",
            "YES\n"
          ],
          "name": "stdout"
        }
      ]
    },
    {
      "cell_type": "markdown",
      "metadata": {
        "id": "k0AT_3PMrpU3",
        "colab_type": "text"
      },
      "source": [
        "## **8. Задача 6**\n",
        "*(1.5 балла)*\n",
        "\n",
        "## Среднее значение последовательности"
      ]
    },
    {
      "cell_type": "markdown",
      "metadata": {
        "id": "AeQrV48Xr1Pr",
        "colab_type": "text"
      },
      "source": [
        "### Условие\n",
        "\n",
        "\n",
        "\n",
        "\n",
        "\n",
        "Определите среднее значение всех элементов последовательности, завершающейся числом 0. Использовать массивы в данной задаче нельзя. "
      ]
    },
    {
      "cell_type": "markdown",
      "metadata": {
        "id": "uNLzSOK-r3kg",
        "colab_type": "text"
      },
      "source": [
        "### Формат ввода\n",
        "\n",
        "\n",
        "\n",
        "\n",
        "\n",
        "Вводится последовательность целых чисел, оканчивающаяся числом 0 (само число 0 в последовательность не входит, а служит как признак ее окончания. "
      ]
    },
    {
      "cell_type": "markdown",
      "metadata": {
        "id": "QgFiV4Jsr6ks",
        "colab_type": "text"
      },
      "source": [
        "### Формат вывода\n",
        "\n",
        "\n",
        "\n",
        "\n",
        "\n",
        "Выведите ответ на задачу. "
      ]
    },
    {
      "cell_type": "markdown",
      "metadata": {
        "id": "jVieOhEXr9WT",
        "colab_type": "text"
      },
      "source": [
        "### Пример 1\n",
        "\n",
        "**Ввод:** <br>\n",
        "1 <br>\n",
        "7 <br>\n",
        "9 <br>\n",
        "0 <br>\n",
        "\n",
        "**Вывод:** <br>\n",
        "5.66666666667"
      ]
    },
    {
      "cell_type": "markdown",
      "metadata": {
        "id": "3a9GF0zWsF7a",
        "colab_type": "text"
      },
      "source": [
        "### Пример 2\n",
        "\n",
        "**Ввод:** <br>\n",
        "1 <br>\n",
        "1 <br>\n",
        "1 <br>\n",
        "1 <br>\n",
        "1 <br>\n",
        "1 <br>\n",
        "1 <br>\n",
        "1 <br>\n",
        "1 <br>\n",
        "0 <br>\n",
        "\n",
        "**Вывод:** <br>\n",
        "1.0"
      ]
    },
    {
      "cell_type": "markdown",
      "metadata": {
        "id": "cp7FYIyCsLsC",
        "colab_type": "text"
      },
      "source": [
        "### Пример 3\n",
        "\n",
        "**Ввод:** <br>\n",
        "34 <br>\n",
        "2345 <br>\n",
        "2345 <br>\n",
        "2345 <br>\n",
        "2345 <br>\n",
        "345 <br>\n",
        "3 <br>\n",
        "345 <br>\n",
        "3 <br>\n",
        "345 <br>\n",
        "1 <br>\n",
        "3 <br>\n",
        "424 <br>\n",
        "5 <br>\n",
        "453 <br>\n",
        "0 <br>\n",
        "\n",
        "**Вывод:** <br>\n",
        "756.066666667"
      ]
    },
    {
      "cell_type": "code",
      "metadata": {
        "id": "PGuU_pcQs1hn",
        "colab_type": "code",
        "outputId": "1b311e11-4f10-4ac9-9845-ecd1a5450f5d",
        "colab": {
          "base_uri": "https://localhost:8080/",
          "height": 306
        }
      },
      "source": [
        "sequence_sum = 0\n",
        "sequence_count = 0\n",
        "\n",
        "x = int(input())\n",
        "while x != 0:\n",
        "  \n",
        "  sequence_sum += x\n",
        "  sequence_count += 1\n",
        "  x = int(input())\n",
        "\n",
        "print(sequence_sum/sequence_count)"
      ],
      "execution_count": 0,
      "outputs": [
        {
          "output_type": "stream",
          "text": [
            "34\n",
            "2345\n",
            "2345\n",
            "2345\n",
            "2345\n",
            "345\n",
            "3\n",
            "345\n",
            "3\n",
            "345\n",
            "1\n",
            "3\n",
            "424\n",
            "5\n",
            "453\n",
            "0\n",
            "756.0666666666667\n"
          ],
          "name": "stdout"
        }
      ]
    },
    {
      "cell_type": "code",
      "metadata": {
        "id": "HAfiKUVQQXFv",
        "colab_type": "code",
        "colab": {}
      },
      "source": [
        ""
      ],
      "execution_count": 0,
      "outputs": []
    }
  ]
}