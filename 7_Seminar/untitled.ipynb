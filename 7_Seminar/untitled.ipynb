{
 "cells": [
  {
   "cell_type": "markdown",
   "metadata": {},
   "source": [
    "# Прикладное программное обеспечение\n",
    "#### Python для извлечения и обработки данных\n",
    "\n",
    "\n",
    "## API - telegram, vk, бонусы\n",
    "Социлогия | 1 курс | 3 модуль | Семинар 7\n",
    "\n",
    "*Авторы: Валентин Бирюков, НИУ ВШЭ*"
   ]
  },
  {
   "cell_type": "markdown",
   "metadata": {},
   "source": [
    "Это занятие является скорее показательным навыком того, что вы уже можете делать, используя полученные знания, а так же cntl+c-cntl+v с гугла. В ней проведены каркасы и пояснения к некоторым базовым оболочкам кода для взаимодействия с Вк и телеграмм."
   ]
  },
  {
   "cell_type": "markdown",
   "metadata": {},
   "source": [
    "## Ссылки\n",
    "\n",
    "Возпользовавшись источниками ниже данный блокнот можно и вообще пропустить =)\n",
    "Как и многое другое по программированию все уже возможно где то сделано, нам же предстоит заиспользовать это для своих нужд. Список ниже - ссылки и статьи на основе которых написан данный блокнот.\n",
    "\n",
    "1) https://python-telegram-bot.org/ - лендинг почти официальной библиотеки модуля для телеграм\n",
    "\n",
    "2) https://github.com/python-telegram-bot/python-telegram-bot - он же на гитхабе\n",
    "\n",
    "3) https://habr.com/ru/post/448310/ - туториал по нему, в придачу еще искусственный интеллект.\n",
    "\n",
    "4) https://github.com/eternnoir/pyTelegramBotAPI - похожая версия\n",
    "\n",
    "5) https://habr.com/ru/post/442800/ - другой туториал. по похожему модулю, только \n"
   ]
  },
  {
   "cell_type": "markdown",
   "metadata": {},
   "source": [
    "## Быстрый старт"
   ]
  },
  {
   "cell_type": "markdown",
   "metadata": {},
   "source": [
    "Самая простая и описанная часть. Очень коротко: нужно найти бота @BotFather, написать ему /start, или /newbot, заполнить поля, которые он спросит (название бота и его короткое имя), и получить сообщение с токеном бота и ссылкой на документацию. Токен нужно сохранить, желательно надёжно, так как это единственный ключ для авторизации бота и взаимодействия с ним."
   ]
  },
  {
   "cell_type": "markdown",
   "metadata": {},
   "source": [
    "Так же нужно поставить первую библиотеку."
   ]
  },
  {
   "cell_type": "code",
   "execution_count": 4,
   "metadata": {},
   "outputs": [
    {
     "name": "stdout",
     "output_type": "stream",
     "text": [
      "Requirement already satisfied: python-telegram-bot in /Users/biryuk/anaconda3/lib/python3.7/site-packages (12.4.2)\n",
      "Requirement already satisfied: future>=0.16.0 in /Users/biryuk/anaconda3/lib/python3.7/site-packages (from python-telegram-bot) (0.18.2)\n",
      "Requirement already satisfied: cryptography in /Users/biryuk/anaconda3/lib/python3.7/site-packages (from python-telegram-bot) (2.3.1)\n",
      "Requirement already satisfied: decorator>=4.4.0 in /Users/biryuk/anaconda3/lib/python3.7/site-packages (from python-telegram-bot) (4.4.0)\n",
      "Requirement already satisfied: certifi in /Users/biryuk/anaconda3/lib/python3.7/site-packages (from python-telegram-bot) (2019.3.9)\n",
      "Requirement already satisfied: tornado>=5.1 in /Users/biryuk/anaconda3/lib/python3.7/site-packages (from python-telegram-bot) (5.1)\n",
      "Requirement already satisfied: idna>=2.1 in /Users/biryuk/anaconda3/lib/python3.7/site-packages (from cryptography->python-telegram-bot) (2.8)\n",
      "Requirement already satisfied: asn1crypto>=0.21.0 in /Users/biryuk/anaconda3/lib/python3.7/site-packages (from cryptography->python-telegram-bot) (0.24.0)\n",
      "Requirement already satisfied: six>=1.4.1 in /Users/biryuk/anaconda3/lib/python3.7/site-packages (from cryptography->python-telegram-bot) (1.11.0)\n",
      "Requirement already satisfied: cffi!=1.11.3,>=1.7 in /Users/biryuk/anaconda3/lib/python3.7/site-packages (from cryptography->python-telegram-bot) (1.11.5)\n",
      "Requirement already satisfied: pycparser in /Users/biryuk/anaconda3/lib/python3.7/site-packages (from cffi!=1.11.3,>=1.7->cryptography->python-telegram-bot) (2.18)\n",
      "\u001b[33mYou are using pip version 19.0.3, however version 20.0.2 is available.\n",
      "You should consider upgrading via the 'pip install --upgrade pip' command.\u001b[0m\n"
     ]
    }
   ],
   "source": [
    "!pip install python-telegram-bot"
   ]
  },
  {
   "cell_type": "code",
   "execution_count": 5,
   "metadata": {},
   "outputs": [],
   "source": [
    "# настройки для бота:\n",
    "API_TOKEN = 'Token'\n",
    "BOT_NAME = 'HseSocExperimentBot'"
   ]
  },
  {
   "cell_type": "markdown",
   "metadata": {},
   "source": [
    "Напишем простого бота который запоминает имя, а потом отпрашивется немного поучиться."
   ]
  },
  {
   "cell_type": "code",
   "execution_count": 25,
   "metadata": {},
   "outputs": [],
   "source": [
    "import logging # модуль для логирования, будет писать нам в консоль о происходящем\n",
    "from telegram import (ReplyKeyboardMarkup, ReplyKeyboardRemove) # методы для работы ответа \"кнопочками\"\n",
    "from telegram.ext import (\n",
    "    Updater,\n",
    "    CommandHandler,\n",
    "    MessageHandler,\n",
    "    Filters,\n",
    "    ConversationHandler\n",
    ")\n",
    "\n",
    "# Enable logging\n",
    "logging.basicConfig(format='%(asctime)s - %(name)s - %(levelname)s - %(message)s', level=logging.INFO) \n",
    "\n",
    "logger = logging.getLogger(__name__)"
   ]
  },
  {
   "cell_type": "code",
   "execution_count": 26,
   "metadata": {},
   "outputs": [],
   "source": [
    "GROUP, NAKOP = range(2) # состояния в которых пребывает бот\n",
    "# GROUP - мы спроисли и получили номер группы\n",
    "# NAKOP - докапываемся на счет накопа"
   ]
  },
  {
   "cell_type": "code",
   "execution_count": 27,
   "metadata": {},
   "outputs": [],
   "source": [
    "def start(update, context):\n",
    "    group_number = [list(map(str, range(191, 199)))] # Варианты доступные для ответа: числа 191-198\n",
    "    hellow_text = ''' \n",
    "Привет! я бот - вышкинец. Я пока только учусь.\n",
    "Отправь мне /cancel чтобы отправить меня ботать.\n",
    "    \n",
    "Расскажи из какой ты группы?\n",
    "    ''' \n",
    "    update.message.reply_text( # отправим сообщение и предложим на выбор варианты из списка\n",
    "        hellow_text,\n",
    "        reply_markup=ReplyKeyboardMarkup(group_number, one_time_keyboard=True)\n",
    "    )\n",
    "    return GROUP # мы переходим в следующее сосотяние - в нем заберем номер группы и спросим имя"
   ]
  },
  {
   "cell_type": "code",
   "execution_count": 28,
   "metadata": {},
   "outputs": [],
   "source": [
    "def group(update, context):\n",
    "    user = update.message.from_user\n",
    "    group_id = update.message.text\n",
    "    # Выведем номер группы пользователя себе локально\n",
    "    logger.info(\"Получен номер группы пользователя  %s: %s\", user.first_name, group_id)\n",
    "    update.message.reply_text(\n",
    "        'ох, слышал в группе {} нелегко. Вот какой у тебя накоп?'.format(group_id), \n",
    "        reply_markup=ReplyKeyboardRemove() # уберем клавиатуру с прошлого раза, теперь надо написать текстом.\n",
    "    )\n",
    "\n",
    "    return NAKOP"
   ]
  },
  {
   "cell_type": "code",
   "execution_count": 37,
   "metadata": {},
   "outputs": [],
   "source": [
    "import time\n",
    "\n",
    "def nakop(update, context):\n",
    "    # \n",
    "    user = update.message.from_user\n",
    "    mark_text = update.message.text\n",
    "    logger.info(\"У пользователя %s накоп: %s\", user.first_name, mark_text)\n",
    "    # теперь реализуем такую логику:\n",
    "    # если пользователь отправил и не особо то число - повторим процедуру еще раз\n",
    "    # если все таки число - то посмотрим хватает ли на зачет =)\n",
    "    try: # эта конструкция спасет нас от ошибок.\n",
    "        mark = float(mark_text) # если это не число и преобразованиие не получится\n",
    "    except: # то мы провалимся в этот блок\n",
    "        update.message.reply_text(\n",
    "            'Это разве накоп? да это и не число то особо. Давай еще раз: какой у тебя накоп?'\n",
    "        )\n",
    "        return NAKOP\n",
    "    \n",
    "    # если дошли сюда - значит в mark лежит число\n",
    "    if mark > 3.5:\n",
    "        update.message.reply_text('Ого! да у тебя уже зачет. А у меня нет. пойду ботать.')\n",
    "        return ConversationHandler.END\n",
    "    else:\n",
    "        update.message.reply_text('Ой, какой то он маленький. Давай я подожду чуть чуть.')\n",
    "        time.sleep(10)\n",
    "        update.message.reply_text('А теперь какой?')\n",
    "        return NAKOP"
   ]
  },
  {
   "cell_type": "code",
   "execution_count": 38,
   "metadata": {},
   "outputs": [],
   "source": [
    "'''Это системные функции для обработки ошибок и исключений, а также конца разговора. на всякий случай'''\n",
    "\n",
    "def cancel(update, context):\n",
    "    user = update.message.from_user\n",
    "    logger.info(\"Пользователь %s закончил разговор\", user.first_name)\n",
    "    update.message.reply_text('Ну ладно, пойду ботать',reply_markup=ReplyKeyboardRemove())\n",
    "    return ConversationHandler.END\n",
    "\n",
    "\n",
    "def error(update, context):\n",
    "    \"\"\"Log Errors caused by Updates.\"\"\"\n",
    "    logger.warning('Update \"%s\" caused error \"%s\"', update, context.error)"
   ]
  },
  {
   "cell_type": "code",
   "execution_count": 39,
   "metadata": {},
   "outputs": [],
   "source": [
    "def main():\n",
    "    # создаем канал для обещния с телеграмом. потребуется ключ для общения с ботом\n",
    "    updater = Updater(API_TOKEN, use_context=True)\n",
    "    dp = updater.dispatcher\n",
    "\n",
    "    # конфигурируем какие у нас могут быть состояния\n",
    "    conv_handler = ConversationHandler(\n",
    "        entry_points=[CommandHandler('start', start)], # начинамем с того что описали в функции start\n",
    "        states={\n",
    "            GROUP: [MessageHandler(Filters.regex('^19.$'), group)],\n",
    "            # описываем состояние \"группы\" - по сути то что описано в функции group\n",
    "            # фильтруем в этом состоянии все сообщения которые не начинаются на 19*\n",
    "            NAKOP: [MessageHandler(Filters.text, nakop)]\n",
    "            # наше второе состояние - докапываем до накопленной оценки\n",
    "        },\n",
    "        fallbacks=[CommandHandler('cancel', cancel)]\n",
    "        # что делать в случае отмены - завершаем диалог функцией cancel\n",
    "    )\n",
    "\n",
    "    # собираем и запускаем нашу конфигурацию\n",
    "    dp.add_handler(conv_handler)\n",
    "    # log all errors\n",
    "    dp.add_error_handler(error)\n",
    "    # Start the Bot\n",
    "    updater.start_polling()\n",
    "\n",
    "    # Run the bot until you press Ctrl-C or the process receives SIGINT,\n",
    "    # SIGTERM or SIGABRT. This should be used most of the time, since\n",
    "    # start_polling() is non-blocking and will stop the bot gracefully.\n",
    "    updater.idle()"
   ]
  },
  {
   "cell_type": "code",
   "execution_count": 40,
   "metadata": {},
   "outputs": [
    {
     "name": "stderr",
     "output_type": "stream",
     "text": [
      "2020-03-15 21:55:15,500 - __main__ - INFO - Получен номер группы пользователя  Biryukov: 196\n",
      "2020-03-15 21:55:18,536 - __main__ - INFO - У пользователя Biryukov накоп: 1\n",
      "2020-03-15 21:55:34,094 - __main__ - INFO - У пользователя Biryukov накоп: 2\n",
      "2020-03-15 21:55:47,773 - __main__ - INFO - У пользователя Biryukov накоп: 4\n",
      "2020-03-15 21:57:39,888 - telegram.ext.updater - INFO - Received signal 2 (SIGINT), stopping...\n"
     ]
    }
   ],
   "source": [
    "# эта ячейка зависнет при запуске - потому что пока она запущена\n",
    "# она контролирует работу бота в телеграме. если она не запущена - бот в телеграме не отвечает\n",
    "main()"
   ]
  },
  {
   "cell_type": "code",
   "execution_count": null,
   "metadata": {},
   "outputs": [],
   "source": []
  },
  {
   "cell_type": "markdown",
   "metadata": {},
   "source": [
    "## TgBot а теперь с ИИ"
   ]
  },
  {
   "cell_type": "markdown",
   "metadata": {},
   "source": [
    "Концептуально нового  здесь ничего нет. по сути демонстрация и пересказ одного из туториалов выше"
   ]
  },
  {
   "cell_type": "code",
   "execution_count": 44,
   "metadata": {},
   "outputs": [
    {
     "name": "stdout",
     "output_type": "stream",
     "text": [
      "Collecting apiai\n",
      "  Downloading https://files.pythonhosted.org/packages/34/b3/c5bf31e1980b89dfc6f8a3d70d64988fb619ed831109b500b254fe541ce6/apiai-1.2.3-py2.py3-none-any.whl\n",
      "Requirement already satisfied: numpy in /Users/biryuk/anaconda3/lib/python3.7/site-packages (from apiai) (1.16.2)\n",
      "Installing collected packages: apiai\n",
      "Successfully installed apiai-1.2.3\n",
      "\u001b[33mYou are using pip version 19.0.3, however version 20.0.2 is available.\n",
      "You should consider upgrading via the 'pip install --upgrade pip' command.\u001b[0m\n"
     ]
    }
   ],
   "source": [
    "!pip install apiai"
   ]
  },
  {
   "cell_type": "code",
   "execution_count": 47,
   "metadata": {},
   "outputs": [
    {
     "name": "stderr",
     "output_type": "stream",
     "text": [
      "/Users/biryuk/anaconda3/lib/python3.7/site-packages/ipykernel_launcher.py:3: TelegramDeprecationWarning: Old Handler API is deprecated - see https://git.io/fxJuV for details\n",
      "  This is separate from the ipykernel package so we can avoid doing imports until\n"
     ]
    }
   ],
   "source": [
    "from telegram.ext import Updater, CommandHandler, MessageHandler, Filters\n",
    "import apiai, json\n",
    "updater = Updater(token=API_TOKEN) # Токен API к Telegram\n",
    "dispatcher = updater.dispatcher"
   ]
  },
  {
   "cell_type": "code",
   "execution_count": 48,
   "metadata": {},
   "outputs": [],
   "source": [
    "#Суть то же самое приветствие\n",
    "def startCommand(bot, update):\n",
    "    bot.send_message(chat_id=update.message.chat_id, text='Привет, давай пообщаемся?')"
   ]
  },
  {
   "cell_type": "code",
   "execution_count": 49,
   "metadata": {},
   "outputs": [],
   "source": [
    "API_TOKEN_FOR_AI = 'TOKEN'\n",
    "client = apiai.ApiAI(API_TOKEN_FOR_AI)\n"
   ]
  },
  {
   "cell_type": "markdown",
   "metadata": {},
   "source": [
    "По сути в нашем боте не будет никакой логики. Он будет принимать текст, оттправлять его в DialogFlow, смотреть что ответит бот там, а потом отправлять данный той машинерией ответ назад пользователю. Зато красиво.\n",
    "Инструкция как получить ключ: https://habr.com/ru/post/346606/"
   ]
  },
  {
   "cell_type": "code",
   "execution_count": 50,
   "metadata": {},
   "outputs": [],
   "source": [
    "def textMessage(bot, update):\n",
    "    request = client.text_request() # Токен API к Dialogflow\n",
    "    request.lang = 'ru' # На каком языке будет послан запрос\n",
    "    request.session_id = 'HseBot' # ID Сессии диалога (нужно, чтобы потом учить бота)\n",
    "    request.query = update.message.text # Посылаем запрос к ИИ с сообщением от юзера\n",
    "    responseJson = json.loads(request.getresponse().read().decode('utf-8'))\n",
    "    response = responseJson['result']['fulfillment']['speech'] # Разбираем JSON и вытаскиваем ответ\n",
    "    # Если есть ответ от бота - присылаем юзеру, если нет - бот его не понял\n",
    "    if response:\n",
    "        bot.send_message(chat_id=update.message.chat_id, text=response)\n",
    "    else:\n",
    "        bot.send_message(chat_id=update.message.chat_id, text='Я Вас не совсем понял!')"
   ]
  },
  {
   "cell_type": "code",
   "execution_count": 51,
   "metadata": {},
   "outputs": [
    {
     "name": "stderr",
     "output_type": "stream",
     "text": [
      "2020-03-15 22:24:19,258 - telegram.ext.updater - INFO - Received signal 2 (SIGINT), stopping...\n"
     ]
    }
   ],
   "source": [
    "# Хендлеры\n",
    "start_command_handler = CommandHandler('start', startCommand)\n",
    "text_message_handler = MessageHandler(Filters.text, textMessage)\n",
    "# Добавляем хендлеры в диспетчер\n",
    "dispatcher.add_handler(start_command_handler)\n",
    "dispatcher.add_handler(text_message_handler)\n",
    "# Начинаем поиск обновлений\n",
    "updater.start_polling(clean=True)\n",
    "# Останавливаем бота, если были нажаты Ctrl + C\n",
    "updater.idle()"
   ]
  },
  {
   "cell_type": "markdown",
   "metadata": {},
   "source": [
    "## VK API"
   ]
  },
  {
   "cell_type": "markdown",
   "metadata": {},
   "source": [
    "Возможно в этом месте вы задумаетесь как же находить удобные модули. Вот например для вк. Или для твиттера. Или для инстаграмма. Спасает https://github.com/ или Google. Но первый обычно удобнее. В поиске пишем более мнее внятно и коротко что мы хотим, потом добавляем язык на котором нас это интересует (в нашем случае это python или jupiter notebook) и вуаля. Чем больше звезд - тем более популярна и признана библиотека. Использовать такие проще и потятнее, а еще у них чаще бывает внятная документация.\n",
    "\n",
    "Популярна вот эта:\n",
    "https://github.com/python273/vk_api\n",
    "\n",
    "Хотя не менее популярна вот эта: https://github.com/voronind/vk и ее мы тоже посмотрим.\n",
    "\n",
    "Hазницы по факту почти никакой. Для личного быстрого пользования проще авторизоваться и использовать первую. "
   ]
  },
  {
   "cell_type": "code",
   "execution_count": 54,
   "metadata": {},
   "outputs": [
    {
     "name": "stdout",
     "output_type": "stream",
     "text": [
      "Requirement already satisfied: vk_api in /Users/biryuk/anaconda3/lib/python3.7/site-packages (11.7.0)\n",
      "Requirement already satisfied: vk in /Users/biryuk/anaconda3/lib/python3.7/site-packages (2.0.2)\n",
      "Requirement already satisfied: six in /Users/biryuk/anaconda3/lib/python3.7/site-packages (from vk_api) (1.11.0)\n",
      "Requirement already satisfied: requests in /Users/biryuk/anaconda3/lib/python3.7/site-packages (from vk_api) (2.21.0)\n",
      "Requirement already satisfied: idna<2.9,>=2.5 in /Users/biryuk/anaconda3/lib/python3.7/site-packages (from requests->vk_api) (2.8)\n",
      "Requirement already satisfied: chardet<3.1.0,>=3.0.2 in /Users/biryuk/anaconda3/lib/python3.7/site-packages (from requests->vk_api) (3.0.4)\n",
      "Requirement already satisfied: certifi>=2017.4.17 in /Users/biryuk/anaconda3/lib/python3.7/site-packages (from requests->vk_api) (2019.3.9)\n",
      "Requirement already satisfied: urllib3<1.25,>=1.21.1 in /Users/biryuk/anaconda3/lib/python3.7/site-packages (from requests->vk_api) (1.24.1)\n",
      "\u001b[33mYou are using pip version 19.0.3, however version 20.0.2 is available.\n",
      "You should consider upgrading via the 'pip install --upgrade pip' command.\u001b[0m\n"
     ]
    }
   ],
   "source": [
    "! pip install vk_api vk"
   ]
  },
  {
   "cell_type": "markdown",
   "metadata": {},
   "source": [
    "Самое сложное в начале работы с вк - получить несчастный ключ доступа. Оно и хорошо с другой стороны - этот ключ доступа дает полное право на работу от имени любого человека, все равно что знание логина и пароля. Мы обойдемся без этого. Два наиболее простых варианта - взять включ от приложения (и для этого надо самому завести приложение). Или ключ от сообщества. Оба берутся в настройках и просто копируются.\n",
    "\n",
    "ВНИМАНИЕ: ключ доступа - все равно что логин и пароль. не передедвайте их никому"
   ]
  },
  {
   "cell_type": "code",
   "execution_count": 109,
   "metadata": {},
   "outputs": [],
   "source": [
    "import vk # загружаем модуль, второй\n",
    "API_TOKEN_VK = 'TOKEN'\n",
    "session = vk.Session(access_token=API_TOKEN_VK)\n",
    "my_api = vk.API(session, v='5.103')\n"
   ]
  },
  {
   "cell_type": "markdown",
   "metadata": {},
   "source": [
    "Теперь у нас есть возможность использовать информацию с вк по средствам my_api - своего рода \"тунеля\" до вконтакте. Все интересующие функции можно найти в https://vk.com/dev/methods\n",
    "\n",
    "Напомню. мы используем ключ доступа приложения, а потому толком не авторизовались. Мы не можем писать сообщения, публикации на стене, не можем смотреть закрытые профили, но можем смотреть на пользователей где это возможно =)"
   ]
  },
  {
   "cell_type": "markdown",
   "metadata": {},
   "source": [
    "Терепрь у нас есть метод модуль который позволяет взаимодействовать с вк! погнали.\n",
    "В целях эксперимента посмотрим какую нибудь информацию о пользователе. Например, список другей первого круга, второго и третьго."
   ]
  },
  {
   "cell_type": "code",
   "execution_count": 120,
   "metadata": {},
   "outputs": [
    {
     "name": "stdout",
     "output_type": "stream",
     "text": [
      "[{'id': 21785564, 'first_name': 'Valentin', 'last_name': 'Biryukov', 'is_closed': False, 'can_access_closed': True}]\n"
     ]
    }
   ],
   "source": [
    "user_to_prepare = 'valentin.biryukov' # пользователь, с которого начнем. \n",
    "\n",
    "user_info = my_api.users.get(user_ids=user_to_prepare) # посмотрим что видно про пользователя\n",
    "print(user_info)\n",
    "start_id = user_info[0]['id']"
   ]
  },
  {
   "cell_type": "code",
   "execution_count": 122,
   "metadata": {},
   "outputs": [
    {
     "name": "stdout",
     "output_type": "stream",
     "text": [
      "{'count': 83, 'items': [398045, 409037, 1538693, 2956433, 4228387, 4516987, 5317749, 5334461, 5412679, 10348887, 10873145, 11164850, 13275626, 14204056, 15945852, 17336364, 20580174, 22304277, 24874560, 24976336, 30606127, 30816900, 34248421, 34746243, 36623405, 38459100, 38830624, 38900678, 44898863, 47402039, 47672038, 49915195, 50489710, 51121895, 52203550, 53847565, 54782818, 56726638, 59536344, 61657552, 62902082, 66865352, 68603392, 68812424, 71542865, 72937909, 76702064, 85427885, 88293148, 95437665, 97341087, 106480301, 107098336, 107916896, 107920824, 112162069, 114776804, 114904924, 122307165, 124821194, 125824662, 145762347, 148396546, 152426005, 156561760, 161176665, 165968752, 177372466, 209463582, 209662408, 213734038, 227227659, 262217495, 271656949, 275633587, 283975933, 295142987, 317187625, 321409001, 370549931, 560118043, 566953060, 574103916]}\n"
     ]
    }
   ],
   "source": [
    "friends_first_hand = my_api.friends.get(user_id=start_id) # тот самый идентификатор\n",
    "print(friends_first_hand)\n",
    "friends_first_hand_id = friends_first_hand['items']"
   ]
  },
  {
   "cell_type": "code",
   "execution_count": 126,
   "metadata": {},
   "outputs": [
    {
     "name": "stdout",
     "output_type": "stream",
     "text": [
      "Пользователь с id=24976336, имеет приватный аккаунт!\n",
      "Пользователь с id=30606127, имеет приватный аккаунт!\n",
      "Пользователь с id=34248421, имеет приватный аккаунт!\n",
      "Пользователь с id=44898863, имеет приватный аккаунт!\n",
      "Пользователь с id=49915195, имеет приватный аккаунт!\n",
      "Пользователь с id=56726638, имеет приватный аккаунт!\n",
      "Пользователь с id=62902082, имеет приватный аккаунт!\n",
      "Пользователь с id=68812424, имеет приватный аккаунт!\n",
      "Пользователь с id=107920824, имеет приватный аккаунт!\n",
      "Пользователь с id=125824662, имеет приватный аккаунт!\n",
      "Пользователь с id=165968752, имеет приватный аккаунт!\n",
      "Пользователь с id=227227659, имеет приватный аккаунт!\n",
      "Пользователь с id=295142987, имеет приватный аккаунт!\n",
      "Пользователь с id=317187625, имеет приватный аккаунт!\n",
      "На втором кругу уже 32218 друзей\n"
     ]
    }
   ],
   "source": [
    "# Давайте соберем пользователей второго круга!\n",
    "friends_second_hand_id = []\n",
    "private_accaunts = []\n",
    "for item in friends_first_hand_id:\n",
    "    try:\n",
    "        ids = my_api.friends.get(user_id=item)['items']\n",
    "        friends_second_hand_id.extend(ids)\n",
    "    except:\n",
    "        print('Пользователь с id={}, имеет приватный аккаунт!'.format(item))\n",
    "        private_accaunts.append(item)\n",
    "    \n",
    "friends_second_hand_id = list(set(friends_second_hand_id))\n",
    "print('На втором кругу уже {} друзей'.format(len(friends_second_hand_id)))\n",
    "\n",
    "# на этом можно остановиться если их много"
   ]
  },
  {
   "cell_type": "markdown",
   "metadata": {},
   "source": [
    "Давайте ограничимся первым кругом и посчитаем какие нибудь статистики по друзьям."
   ]
  },
  {
   "cell_type": "code",
   "execution_count": 130,
   "metadata": {},
   "outputs": [
    {
     "name": "stdout",
     "output_type": "stream",
     "text": [
      "[{'id': 398045, 'first_name': 'Yulia', 'last_name': 'Volkova', 'is_closed': False, 'can_access_closed': True, 'sex': 1, 'city': {'id': 1, 'title': 'Moscow'}, 'country': {'id': 1, 'title': 'Russia'}}, {'id': 409037, 'first_name': 'Olga', 'last_name': 'Podolskaya', 'is_closed': False, 'can_access_closed': True, 'sex': 1}, {'id': 1538693, 'first_name': 'Gleb', 'last_name': 'Evstropov', 'is_closed': False, 'can_access_closed': True, 'sex': 2, 'city': {'id': 1, 'title': 'Moscow'}, 'country': {'id': 1, 'title': 'Russia'}}]\n"
     ]
    }
   ],
   "source": [
    "freinds_to_anallize = [ item for item in friends_first_hand_id if item not in private_accaunts]\n",
    "#оставили только открытые аккаунты\n",
    "\n",
    "infos = my_api.users.get(\n",
    "    user_ids=freinds_to_anallize,\n",
    "    fields=['sex', 'city', 'country', 'contacts', 'universities', 'relation', 'career']\n",
    ")\n",
    "print(infos[:3])\n",
    "# к сожалению большая часть пунктов будет скрыта при поиске, но нас это не очень остановит"
   ]
  },
  {
   "cell_type": "code",
   "execution_count": 133,
   "metadata": {},
   "outputs": [
    {
     "name": "stdout",
     "output_type": "stream",
     "text": [
      "Сколько людей какого пола в друзьях (2 - мужской, 1 - женский): Counter({2: 37, 1: 32})\n",
      "Статистика по странам: Counter({'Russia': 59, None: 9, 'Germany': 1})\n",
      "Статистика по странам: Counter({'Moscow': 48, None: 10, 'Saint Petersburg': 4, 'Orenburg': 3, 'Berlin': 1, 'Gus-Khrustalny': 1, 'Tver': 1, 'Odintsovo': 1})\n"
     ]
    }
   ],
   "source": [
    "import collections\n",
    "\n",
    "# посчитаем соотношение полов:\n",
    "sex = collections.Counter(item.get('sex') for item in infos)\n",
    "print(\"Сколько людей какого пола в друзьях (2 - мужской, 1 - женский):\", sex)\n",
    "\n",
    "# и по странам: \n",
    "country = collections.Counter(item.get('country', {}).get('title') for item in infos)\n",
    "print(\"Статистика по странам:\", country)\n",
    "\n",
    "# и по городам: \n",
    "city = collections.Counter(item.get('city', {}).get('title') for item in infos)\n",
    "print(\"Статистика по странам:\", city)"
   ]
  },
  {
   "cell_type": "code",
   "execution_count": 135,
   "metadata": {},
   "outputs": [
    {
     "name": "stdout",
     "output_type": "stream",
     "text": [
      "User 398045 hide his wall\n",
      "User 409037 hide his wall\n",
      "User 1538693 hide his wall\n",
      "User 5317749 hide his wall\n",
      "User 13275626 hide his wall\n",
      "User 15945852 hide his wall\n",
      "User 17336364 hide his wall\n",
      "User 24874560 hide his wall\n",
      "User 38459100 hide his wall\n",
      "User 47402039 hide his wall\n",
      "User 47672038 hide his wall\n",
      "User 50489710 hide his wall\n",
      "User 52203550 hide his wall\n",
      "User 54782818 hide his wall\n",
      "User 71542865 hide his wall\n",
      "User 76702064 hide his wall\n",
      "User 88293148 hide his wall\n",
      "User 95437665 hide his wall\n",
      "User 107098336 hide his wall\n",
      "User 107916896 hide his wall\n",
      "User 112162069 hide his wall\n",
      "User 114776804 hide his wall\n",
      "User 122307165 hide his wall\n",
      "User 124821194 hide his wall\n",
      "User 148396546 hide his wall\n",
      "User 177372466 hide his wall\n",
      "User 209463582 hide his wall\n",
      "User 209662408 hide his wall\n",
      "User 213734038 hide his wall\n",
      "User 321409001 hide his wall\n",
      "User 574103916 hide his wall\n",
      "[{'count': 1457, 'items': [{'id': 4325, 'from_id': 2956433, 'owner_id': 2956433, 'date': 1583792624, 'post_type': 'post', 'text': 'Когда упал рубль и денег в группе хватило только на один инструмент', 'attachments': [{'type': 'link', 'link': {'url': 'https://youtu.be/d9NF2edxy-M', 'title': 'Somebody That I Used to Know - Walk off the Earth', 'caption': 'youtu.be', 'description': 'Come see us on our 2020 tour! Buy your tickets here: https://www.walkofftheearth.com/tour  Stream/download our new album \"HERE WE GO!\" here: https://orcd.co/woteherewego  A collection of songs about life, love, loss and straight-up kicking ass. Ranging from top 40 pop to organic folk ballads to EDM rise and drops, this eclectic album touches on many modern genres but still stays true to Walk off the Earth’s signature sound.  Walk off the Earth performs a cover of Gotye\\'s \"Somebody That I Used to Know\" using', 'photo': {'id': 457290313, 'album_id': -25, 'owner_id': 2000003583, 'sizes': [{'type': 'l', 'url': 'https://sun9-4.userapi.com/c855632/v855632977/2096b5/JoCnyiC2CCE.jpg', 'width': 537, 'height': 240}, {'type': 'm', 'url': 'https://sun9-45.userapi.com/c855632/v855632977/2096b2/ljYff-Y1DXo.jpg', 'width': 130, 'height': 98}, {'type': 'p', 'url': 'https://sun9-6.userapi.com/c855632/v855632977/2096b4/b3MG4JVFcek.jpg', 'width': 260, 'height': 195}, {'type': 's', 'url': 'https://sun9-54.userapi.com/c855632/v855632977/2096b1/XlT89fgvj_Y.jpg', 'width': 75, 'height': 56}, {'type': 'x', 'url': 'https://sun9-56.userapi.com/c855632/v855632977/2096b3/N2k5obGuY_A.jpg', 'width': 150, 'height': 113}], 'text': '', 'date': 1583792626}}}], 'post_source': {'type': 'api', 'platform': 'android'}, 'comments': {'count': 2, 'can_post': 1, 'groups_can_post': True}, 'likes': {'count': 0, 'user_likes': 0, 'can_like': 1, 'can_publish': 1}, 'reposts': {'count': 0, 'user_reposted': 0}, 'views': {'count': 87}}, {'id': 4322, 'from_id': 2956433, 'owner_id': 2956433, 'date': 1581716217, 'post_type': 'post', 'text': 'Луна, Эрика Лундмоен, Ева Гурари поют песню Натальи Ветлицкой «Посмотри в глаза»', 'attachments': [{'type': 'link', 'link': {'url': 'https://youtu.be/nkY9PBfashM', 'title': 'Луна, Эрика Лундмоен, Ева Гурари поют песню Натальи Ветлицкой «Посмотри в глаза»', 'caption': 'youtu.be', 'description': 'Все модные девчонки собрались вместе, чтобы сделать трибьют одному из самых стильных музыкальных видео 90-ых. #Луна #ЭрикаЛундмоен #ЕваГурари Редакция Vogue благодарит бренд Lovely Eva за помощь в проведении съемки. http://lovelyeva.ru/ Prime Star Cafe https://www.prime-star.ru Swissotel Красные Холмы https://www.swissotel-hotels.ru/hotels/moscow/ Blue sleep https://bluesleep.ru Балчуг Кемпински  https://www.kempinski.com/ru/moscow/hotel-baltschug/  Для детей старше 16 лет Социальные сети VOGUE РОССИЯ Web:', 'photo': {'id': 457296674, 'album_id': -27, 'owner_id': 2000055098, 'sizes': [{'type': 'k', 'url': 'https://sun9-39.userapi.com/c858224/v858224128/180546/UMQHTBzvyfI.jpg', 'width': 1074, 'height': 480}, {'type': 'l', 'url': 'https://sun9-29.userapi.com/c858224/v858224128/180545/vhlEwW8X8cU.jpg', 'width': 537, 'height': 240}, {'type': 'm', 'url': 'https://sun9-21.userapi.com/c858224/v858224128/180542/Hn_AoGum7TM.jpg', 'width': 130, 'height': 73}, {'type': 'p', 'url': 'https://sun9-47.userapi.com/c858224/v858224128/180544/xQDgNHcKRFg.jpg', 'width': 260, 'height': 146}, {'type': 's', 'url': 'https://sun9-46.userapi.com/c858224/v858224128/180541/KNYnCHOWecI.jpg', 'width': 75, 'height': 42}, {'type': 'x', 'url': 'https://sun9-27.userapi.com/c858224/v858224128/180543/Sylm4gRqNw4.jpg', 'width': 150, 'height': 84}], 'text': '', 'date': 1581716220}}}], 'post_source': {'type': 'api', 'platform': 'android'}, 'comments': {'count': 0, 'can_post': 1, 'groups_can_post': True}, 'likes': {'count': 1, 'user_likes': 0, 'can_like': 1, 'can_publish': 1}, 'reposts': {'count': 0, 'user_reposted': 0}, 'views': {'count': 103}}, {'id': 4320, 'from_id': 2956433, 'owner_id': 2956433, 'date': 1581514734, 'post_type': 'post', 'text': '', 'copy_history': [{'id': 6903, 'owner_id': -1315244, 'from_id': -1315244, 'date': 1581504713, 'post_type': 'post', 'text': 'Чаще всего хорошие решения надо обдумывать, действия планировать.\\n\\nНо сейчас у вас есть шанс принять хорошее решение быстро: запишитесь на курсы спасателей, которые начнутся 17 февраля.\\n\\nОсталось несколько свободных мест, их еще можно занять.\\n\\nЗа 4 месяца (17 февраля – 6 июня), 180 учебных часов, четыре комплексных практики вы получите навыки, необходимые спасателям для участия в ликвидации чрезвычайных ситуаций по следующим дисциплинам:\\n\\n• Первая помощь;\\n• Высотная подготовка;\\n• Навигация, ориентирование, связь;\\n• Организация и тактика спасательных работ;\\n• Основы психологической подготовки;\\n• Специальная техническая подготовка, основы пожарной подготовки.\\n\\nСтоимость курсов 22 750 рублей.\\n\\nИнформация о курсах здесь: http://www.extremum.spb.ru/pages/1\\n\\nЗаписываться здесь: http://www.extremum.spb.ru/data1/extremum/ex.nsf/%D0%B7%D0%B0%D1%8F%D0%B2%D0%BA%D0%B0?openform\\n\\nP. S. А впечатления у вас останутся на всю жизнь!', 'attachments': [{'type': 'photo', 'photo': {'id': 457247826, 'album_id': -7, 'owner_id': -1315244, 'user_id': 100, 'sizes': [{'type': 'm', 'url': 'https://sun9-65.userapi.com/c854324/v854324731/1f86c3/etveLPrEpi0.jpg', 'width': 130, 'height': 87}, {'type': 'o', 'url': 'https://sun9-26.userapi.com/c854324/v854324731/1f86c8/pgUDq3_tMzM.jpg', 'width': 130, 'height': 87}, {'type': 'p', 'url': 'https://sun9-53.userapi.com/c854324/v854324731/1f86c9/Bj25AnzsP1U.jpg', 'width': 200, 'height': 133}, {'type': 'q', 'url': 'https://sun9-57.userapi.com/c854324/v854324731/1f86ca/34lGRjV_ISI.jpg', 'width': 320, 'height': 213}, {'type': 'r', 'url': 'https://sun9-57.userapi.com/c854324/v854324731/1f86cb/pMrTEssx8Hw.jpg', 'width': 510, 'height': 340}, {'type': 's', 'url': 'https://sun9-40.userapi.com/c854324/v854324731/1f86c2/Tf8c61A5Eng.jpg', 'width': 75, 'height': 50}, {'type': 'w', 'url': 'https://sun9-37.userapi.com/c854324/v854324731/1f86c7/mvHxOoJqyFc.jpg', 'width': 2560, 'height': 1707}, {'type': 'x', 'url': 'https://sun9-58.userapi.com/c854324/v854324731/1f86c4/A8qmYfQKuBo.jpg', 'width': 604, 'height': 403}, {'type': 'y', 'url': 'https://sun9-30.userapi.com/c854324/v854324731/1f86c5/eZcVst7KCsI.jpg', 'width': 807, 'height': 538}, {'type': 'z', 'url': 'https://sun9-62.userapi.com/c854324/v854324731/1f86c6/t5kBwdOU_oM.jpg', 'width': 1280, 'height': 853}], 'text': 'Original: https://sun9-38.userapi.com/c857616/v857616219/178a4c/riObhkePZ6w.jpg', 'date': 1581502585, 'access_key': '95c0f2b77840509221'}}], 'post_source': {'type': 'vk'}}, {'id': 23732, 'owner_id': 14448827, 'from_id': 14448827, 'date': 1581451919, 'post_type': 'post', 'text': 'Год назад началась одна из самых ахерительных и захватывающих историй в жизни. МЧС-41❤️\\nСпасибо, чудесные', 'attachments': [{'type': 'photo', 'photo': {'id': 457251331, 'album_id': -7, 'owner_id': 14448827, 'sizes': [{'type': 'm', 'url': 'https://sun9-65.userapi.com/c205228/v205228060/63ee0/FfPlM05apT4.jpg', 'width': 130, 'height': 73}, {'type': 'o', 'url': 'https://sun9-36.userapi.com/c205228/v205228060/63ee4/D--oTNtNIY4.jpg', 'width': 130, 'height': 87}, {'type': 'p', 'url': 'https://sun9-38.userapi.com/c205228/v205228060/63ee5/bdr-jk8YTRM.jpg', 'width': 200, 'height': 133}, {'type': 'q', 'url': 'https://sun9-55.userapi.com/c205228/v205228060/63ee6/lqHFCBeqQ0k.jpg', 'width': 320, 'height': 213}, {'type': 'r', 'url': 'https://sun9-39.userapi.com/c205228/v205228060/63ee7/QhCzcdrgiEQ.jpg', 'width': 510, 'height': 340}, {'type': 's', 'url': 'https://sun9-64.userapi.com/c205228/v205228060/63edf/XkAwYOBnz-A.jpg', 'width': 75, 'height': 42}, {'type': 'x', 'url': 'https://sun9-34.userapi.com/c205228/v205228060/63ee1/8RKvoYbF_hk.jpg', 'width': 604, 'height': 340}, {'type': 'y', 'url': 'https://sun9-44.userapi.com/c205228/v205228060/63ee2/0ha_LEIsH4M.jpg', 'width': 807, 'height': 454}, {'type': 'z', 'url': 'https://sun9-16.userapi.com/c205228/v205228060/63ee3/u-IDvvUp-Us.jpg', 'width': 1152, 'height': 648}], 'text': '', 'date': 1581451918, 'post_id': 23732, 'access_key': '4a6136116d77857dd7'}}], 'post_source': {'type': 'api', 'platform': 'iphone'}}], 'post_source': {'type': 'api', 'platform': 'android'}, 'comments': {'count': 0, 'can_post': 1, 'groups_can_post': True}, 'likes': {'count': 1, 'user_likes': 0, 'can_like': 1, 'can_publish': 1}, 'reposts': {'count': 0, 'user_reposted': 0}, 'views': {'count': 46}}, {'id': 4318, 'from_id': 2956433, 'owner_id': 2956433, 'date': 1581373815, 'post_type': 'post', 'text': 'Очень важная новость!!!!', 'attachments': [{'type': 'link', 'link': {'url': 'https://www.interfax.ru/russia/694786?utm_source=twitter.com&utm_medium=social&utm_campaign=v-rabote-messendzhera-icq-proizoshel-sboy', 'title': 'В работе мессенджера ICQ произошел сбой', 'caption': 'www.interfax.ru', 'description': 'Пользователи в понедельник вечером столкнулись с проблемами при обмене сообщений через мессенджер ICQ, входящий в портфель активов холдинга Mail.ru Group.', 'photo': {'id': 457292896, 'album_id': -28, 'owner_id': 2000053281, 'sizes': [{'type': 'l', 'url': 'https://sun9-38.userapi.com/c857536/v857536523/17a5c6/2P3eUXOa4CI.jpg', 'width': 537, 'height': 240}, {'type': 'm', 'url': 'https://sun9-71.userapi.com/c857536/v857536523/17a5c3/N-xHN0lz9Q8.jpg', 'width': 130, 'height': 70}, {'type': 'p', 'url': 'https://sun9-31.userapi.com/c857536/v857536523/17a5c5/T9eRUZWcg_8.jpg', 'width': 260, 'height': 140}, {'type': 's', 'url': 'https://sun9-23.userapi.com/c857536/v857536523/17a5c2/RIClY80njlA.jpg', 'width': 75, 'height': 38}, {'type': 'x', 'url': 'https://sun9-31.userapi.com/c857536/v857536523/17a5c4/OvhNuxz5EvY.jpg', 'width': 150, 'height': 80}], 'text': '', 'date': 1581373815}}}], 'post_source': {'type': 'vk'}, 'comments': {'count': 1, 'can_post': 1, 'groups_can_post': True}, 'likes': {'count': 3, 'user_likes': 0, 'can_like': 1, 'can_publish': 1}, 'reposts': {'count': 0, 'user_reposted': 0}, 'views': {'count': 82}}, {'id': 4317, 'from_id': 2956433, 'owner_id': 2956433, 'date': 1579943681, 'post_type': 'post', 'text': 'Папамобиль — Уаз Патриот, интересный прикол от Сорентино в «Новом Папе»', 'attachments': [{'type': 'photo', 'photo': {'id': 457239741, 'album_id': -7, 'owner_id': 2956433, 'sizes': [{'type': 'm', 'url': 'https://sun9-28.userapi.com/c855424/v855424837/1dd9e2/du0FzKoX_mM.jpg', 'width': 130, 'height': 97}, {'type': 'o', 'url': 'https://sun9-61.userapi.com/c855424/v855424837/1dd9e7/Q4NsftjQN_Y.jpg', 'width': 130, 'height': 98}, {'type': 'p', 'url': 'https://sun9-10.userapi.com/c855424/v855424837/1dd9e8/ONzEXO1FCWw.jpg', 'width': 200, 'height': 150}, {'type': 'q', 'url': 'https://sun9-36.userapi.com/c855424/v855424837/1dd9e9/v2GQYWP9pLk.jpg', 'width': 320, 'height': 240}, {'type': 'r', 'url': 'https://sun9-46.userapi.com/c855424/v855424837/1dd9ea/BUPUj6D0omc.jpg', 'width': 510, 'height': 383}, {'type': 's', 'url': 'https://sun9-55.userapi.com/c855424/v855424837/1dd9e1/U9TadWVCd04.jpg', 'width': 75, 'height': 56}, {'type': 'w', 'url': 'https://sun9-15.userapi.com/c855424/v855424837/1dd9e6/pJOJ4lIvMqs.jpg', 'width': 2048, 'height': 1536}, {'type': 'x', 'url': 'https://sun9-30.userapi.com/c855424/v855424837/1dd9e3/llLguPN837s.jpg', 'width': 604, 'height': 453}, {'type': 'y', 'url': 'https://sun9-24.userapi.com/c855424/v855424837/1dd9e4/B0CFyOvv0mQ.jpg', 'width': 807, 'height': 605}, {'type': 'z', 'url': 'https://sun9-11.userapi.com/c855424/v855424837/1dd9e5/DTT0ateyRQQ.jpg', 'width': 1280, 'height': 960}], 'text': '', 'date': 1579943679, 'post_id': 4317, 'access_key': '2e0525e13f755e71b4'}}], 'post_source': {'type': 'api', 'platform': 'ipad'}, 'comments': {'count': 0, 'can_post': 1, 'groups_can_post': True}, 'likes': {'count': 0, 'user_likes': 0, 'can_like': 1, 'can_publish': 1}, 'reposts': {'count': 0, 'user_reposted': 0}, 'views': {'count': 183}}, {'id': 4315, 'from_id': 2956433, 'owner_id': 2956433, 'date': 1579897612, 'post_type': 'post', 'text': 'Однозначно стоит заценить весь альбом, видео для затравки', 'attachments': [{'type': 'video', 'video': {'access_key': 'a3687ddf01177e7702', 'can_comment': 0, 'can_like': 1, 'can_repost': 1, 'can_subscribe': 1, 'can_add_to_faves': 1, 'can_add': 1, 'comments': 0, 'date': 1549919752, 'description': '', 'duration': 433, 'image': [{'height': 96, 'url': 'https://sun9-62.userapi.com/c850636/v850636337/b7f44/gR5wFRiNeCM.jpg', 'width': 130, 'with_padding': 1}, {'height': 120, 'url': 'https://sun9-61.userapi.com/c850636/v850636337/b7f43/3MWGZzKxTZw.jpg', 'width': 160, 'with_padding': 1}, {'height': 240, 'url': 'https://sun9-44.userapi.com/c850636/v850636337/b7f42/MxfJhEf4aak.jpg', 'width': 320, 'with_padding': 1}, {'height': 450, 'url': 'https://sun9-49.userapi.com/c850636/v850636337/b7f3e/Xb2xwUaKOL4.jpg', 'width': 800, 'with_padding': 1}, {'height': 720, 'url': 'https://sun9-24.userapi.com/c850636/v850636337/b7f3f/V-q0Iag-ftc.jpg', 'width': 1280}, {'height': 180, 'url': 'https://sun9-57.userapi.com/c850636/v850636337/b7f40/2hiBx2QYXWk.jpg', 'width': 320}, {'height': 405, 'url': 'https://sun9-9.userapi.com/c850636/v850636337/b7f41/LeDV9kX5fks.jpg', 'width': 720}], 'first_frame': [{'height': 180, 'url': 'https://sun9-9.userapi.com/c844418/v844418542/1a1c4a/QXGc3Z5kRkk.jpg', 'width': 320}, {'height': 90, 'url': 'https://sun9-66.userapi.com/c844418/v844418542/1a1c4b/6bn4gQCJXM0.jpg', 'width': 160}, {'height': 73, 'url': 'https://sun9-39.userapi.com/c844418/v844418542/1a1c4c/hXWsXhGM_Pc.jpg', 'width': 130}, {'height': 180, 'url': 'https://sun9-30.userapi.com/c844418/v844418542/1a1c46/iAhmh8aG5wU.jpg', 'width': 320}, {'height': 405, 'url': 'https://sun9-31.userapi.com/c844418/v844418542/1a1c47/WycM8xPOxHk.jpg', 'width': 720}, {'height': 720, 'url': 'https://sun9-23.userapi.com/c844418/v844418542/1a1c48/RhjP8ootZ_g.jpg', 'width': 1280}, {'height': 450, 'url': 'https://sun9-25.userapi.com/c844418/v844418542/1a1c49/tui3m9ysxzY.jpg', 'width': 800}], 'width': 1280, 'height': 720, 'id': 456239152, 'owner_id': 335775796, 'title': 'Agnes Obel - The Curse (Berlin Live Session)', 'track_code': 'video_0f2f17b6Ajyj3-V05peGsCbSE5vLY7NpcHb9Rsk-dQblI2uiQtwzHM_Y43LkorGJEI0n', 'type': 'video', 'views': 992}}], 'post_source': {'type': 'api', 'platform': 'ipad'}, 'comments': {'count': 0, 'can_post': 1, 'groups_can_post': True}, 'likes': {'count': 0, 'user_likes': 0, 'can_like': 1, 'can_publish': 1}, 'reposts': {'count': 0, 'user_reposted': 0}, 'views': {'count': 115}}, {'id': 4314, 'from_id': 2956433, 'owner_id': 2956433, 'date': 1579441103, 'post_type': 'post', 'text': '', 'attachments': [{'type': 'video', 'video': {'access_key': '0b35b15bf287e91a01', 'can_comment': 0, 'can_like': 1, 'can_repost': 1, 'can_subscribe': 1, 'can_add_to_faves': 1, 'can_add': 1, 'comments': 0, 'date': 1579441103, 'description': 'Билеты на концерт 02.02.2020 в Москве:\\n\\nЯндекс.Афиша - https://afisha.yandex.ru/moscow/concert/manizha-2020\\nБилеты без наценки на сайте организатор...', 'duration': 211, 'image': [{'height': 96, 'url': 'https://sun9-52.userapi.com/c857536/v857536496/159195/x2H39KMfUXM.jpg', 'width': 130, 'with_padding': 1}, {'height': 120, 'url': 'https://sun9-53.userapi.com/c857536/v857536496/159196/QoZy33TBEWI.jpg', 'width': 160, 'with_padding': 1}, {'height': 240, 'url': 'https://sun9-61.userapi.com/c857536/v857536496/159197/fZvF8MW6tpA.jpg', 'width': 320, 'with_padding': 1}, {'height': 450, 'url': 'https://sun9-57.userapi.com/c857536/v857536496/159198/-YXDglWtEYk.jpg', 'width': 800, 'with_padding': 1}], 'id': 456239037, 'owner_id': 2956433, 'title': 'MANIZHA - VANYA (18+)', 'track_code': 'video_9519f180Wjp0idCZBOLebqkRP46ZPzFPGghewQLd69_1vqI041cHH3WB0a8w0e0xnQ', 'type': 'video', 'views': 6, 'local_views': 6, 'platform': 'YouTube'}}], 'post_source': {'type': 'vk'}, 'comments': {'count': 0, 'can_post': 1, 'groups_can_post': True}, 'likes': {'count': 4, 'user_likes': 0, 'can_like': 1, 'can_publish': 1}, 'reposts': {'count': 0, 'user_reposted': 0}, 'views': {'count': 140}}, {'id': 4313, 'from_id': 2956433, 'owner_id': 2956433, 'date': 1578742447, 'post_type': 'post', 'text': '«Форд против Феррари» фильм не про гонки, а про мудаков:\\nФеррари — ведёт переговоры как мудак\\nФорд — ведёт дела как мудак \\nШелби — водит машину на дорогах как мудак\\nМайлс — просто ведёт себя как мудак', 'attachments': [{'type': 'photo', 'photo': {'id': 457239739, 'album_id': -7, 'owner_id': 2956433, 'sizes': [{'type': 'm', 'url': 'https://sun9-7.userapi.com/c856124/v856124176/1caf0d/GmSOGUM8u3Q.jpg', 'width': 130, 'height': 75}, {'type': 'o', 'url': 'https://sun9-54.userapi.com/c856124/v856124176/1caf0f/FaH64rjc5xM.jpg', 'width': 130, 'height': 87}, {'type': 'p', 'url': 'https://sun9-41.userapi.com/c856124/v856124176/1caf10/9eGusXJhQLc.jpg', 'width': 200, 'height': 133}, {'type': 'q', 'url': 'https://sun9-28.userapi.com/c856124/v856124176/1caf11/WEzXopL-4wo.jpg', 'width': 300, 'height': 174}, {'type': 'r', 'url': 'https://sun9-46.userapi.com/c856124/v856124176/1caf12/rs897ry__3k.jpg', 'width': 300, 'height': 174}, {'type': 's', 'url': 'https://sun9-63.userapi.com/c856124/v856124176/1caf0c/4h5s3Pp0-Gk.jpg', 'width': 75, 'height': 43}, {'type': 'x', 'url': 'https://sun9-65.userapi.com/c856124/v856124176/1caf0e/XgHbMkp4kkM.jpg', 'width': 300, 'height': 174}], 'text': '', 'date': 1578742444, 'access_key': 'da75735018b64be2e3'}}], 'post_source': {'type': 'vk'}, 'comments': {'count': 0, 'can_post': 1, 'groups_can_post': True}, 'likes': {'count': 4, 'user_likes': 0, 'can_like': 1, 'can_publish': 1}, 'reposts': {'count': 0, 'user_reposted': 0}, 'views': {'count': 212}}, {'id': 4312, 'from_id': 2956433, 'owner_id': 2956433, 'date': 1578052433, 'post_type': 'post', 'text': 'Распродаем остатки рюкзаков с ох///тельными скидками \\nhttps://tvoytotem.kiiiosk.store/', 'attachments': [{'type': 'photo', 'photo': {'id': 457239737, 'album_id': -7, 'owner_id': 2956433, 'sizes': [{'type': 'm', 'url': 'https://sun9-30.userapi.com/c206724/v206724243/2a819/C2v-GQ_5-rM.jpg', 'width': 130, 'height': 130}, {'type': 'o', 'url': 'https://sun9-69.userapi.com/c206724/v206724243/2a81e/rqj20OePxVU.jpg', 'width': 130, 'height': 130}, {'type': 'p', 'url': 'https://sun9-46.userapi.com/c206724/v206724243/2a81f/GZXMSPZoLeg.jpg', 'width': 200, 'height': 200}, {'type': 'q', 'url': 'https://sun9-42.userapi.com/c206724/v206724243/2a820/UUOfN7c_330.jpg', 'width': 320, 'height': 320}, {'type': 'r', 'url': 'https://sun9-23.userapi.com/c206724/v206724243/2a821/F25eB7nT0os.jpg', 'width': 510, 'height': 510}, {'type': 's', 'url': 'https://sun9-12.userapi.com/c206724/v206724243/2a818/rutAwGA9Vso.jpg', 'width': 75, 'height': 75}, {'type': 'w', 'url': 'https://sun9-63.userapi.com/c206724/v206724243/2a81d/tm4ARNx5xww.jpg', 'width': 1352, 'height': 1352}, {'type': 'x', 'url': 'https://sun9-8.userapi.com/c206724/v206724243/2a81a/dfBiEnGQ4-Q.jpg', 'width': 604, 'height': 604}, {'type': 'y', 'url': 'https://sun9-60.userapi.com/c206724/v206724243/2a81b/lZpFFB0TZcE.jpg', 'width': 807, 'height': 807}, {'type': 'z', 'url': 'https://sun9-44.userapi.com/c206724/v206724243/2a81c/gESnf3UNDDM.jpg', 'width': 1080, 'height': 1080}], 'text': '', 'date': 1578052391, 'access_key': 'deb47b02ed9c7fef8e'}}, {'type': 'photo', 'photo': {'id': 457239735, 'album_id': -7, 'owner_id': 2956433, 'sizes': [{'type': 'm', 'url': 'https://sun9-65.userapi.com/c206724/v206724243/2a805/lqU1CGnB6Ug.jpg', 'width': 130, 'height': 127}, {'type': 'o', 'url': 'https://sun9-46.userapi.com/c206724/v206724243/2a80a/0gKU_8UkhLo.jpg', 'width': 130, 'height': 127}, {'type': 'p', 'url': 'https://sun9-62.userapi.com/c206724/v206724243/2a80b/nN-YWWUg1pU.jpg', 'width': 200, 'height': 196}, {'type': 'q', 'url': 'https://sun9-66.userapi.com/c206724/v206724243/2a80c/0fYvdfvRCF4.jpg', 'width': 320, 'height': 314}, {'type': 'r', 'url': 'https://sun9-48.userapi.com/c206724/v206724243/2a80d/PYzJkIaUoj4.jpg', 'width': 510, 'height': 500}, {'type': 's', 'url': 'https://sun9-37.userapi.com/c206724/v206724243/2a804/-CglZszZd9U.jpg', 'width': 75, 'height': 73}, {'type': 'w', 'url': 'https://sun9-46.userapi.com/c206724/v206724243/2a809/WnBpOAXisIk.jpg', 'width': 1304, 'height': 1278}, {'type': 'x', 'url': 'https://sun9-7.userapi.com/c206724/v206724243/2a806/rWhMSQZLYzk.jpg', 'width': 604, 'height': 592}, {'type': 'y', 'url': 'https://sun9-32.userapi.com/c206724/v206724243/2a807/dtm9HNGf1ps.jpg', 'width': 807, 'height': 791}, {'type': 'z', 'url': 'https://sun9-11.userapi.com/c206724/v206724243/2a808/YnePPOhZq7s.jpg', 'width': 1102, 'height': 1080}], 'text': '', 'date': 1578052389, 'access_key': '0d074fda1c9559067a'}}, {'type': 'photo', 'photo': {'id': 457239736, 'album_id': -7, 'owner_id': 2956433, 'sizes': [{'type': 'm', 'url': 'https://sun9-60.userapi.com/c206724/v206724243/2a80f/AhdFzcA6z3A.jpg', 'width': 115, 'height': 130}, {'type': 'o', 'url': 'https://sun9-13.userapi.com/c206724/v206724243/2a814/Ih2EujKFmPg.jpg', 'width': 130, 'height': 147}, {'type': 'p', 'url': 'https://sun9-36.userapi.com/c206724/v206724243/2a815/zvpkwH2AURE.jpg', 'width': 200, 'height': 226}, {'type': 'q', 'url': 'https://sun9-64.userapi.com/c206724/v206724243/2a816/DyOJNzf8q7o.jpg', 'width': 320, 'height': 362}, {'type': 'r', 'url': 'https://sun9-36.userapi.com/c206724/v206724243/2a817/ROrB14AgTbA.jpg', 'width': 510, 'height': 577}, {'type': 's', 'url': 'https://sun9-53.userapi.com/c206724/v206724243/2a80e/7VaevvQNN9Q.jpg', 'width': 66, 'height': 75}, {'type': 'w', 'url': 'https://sun9-7.userapi.com/c206724/v206724243/2a813/npFP-SYdph0.jpg', 'width': 1210, 'height': 1368}, {'type': 'x', 'url': 'https://sun9-9.userapi.com/c206724/v206724243/2a810/6wpLFB2Jdi8.jpg', 'width': 534, 'height': 604}, {'type': 'y', 'url': 'https://sun9-30.userapi.com/c206724/v206724243/2a811/ONpJMmMCCrw.jpg', 'width': 714, 'height': 807}, {'type': 'z', 'url': 'https://sun9-31.userapi.com/c206724/v206724243/2a812/fa8MXgOQcdo.jpg', 'width': 955, 'height': 1080}], 'text': '', 'date': 1578052390, 'access_key': '668293e6edc9a1297b'}}, {'type': 'link', 'link': {'url': 'https://tvoytotem.kiiiosk.store/', 'title': 'Городские рюкзаки Тотем', 'description': 'Городские рюкзаки Тотем', 'target': 'internal', 'photo': {'id': 457281656, 'album_id': -25, 'owner_id': 2000034433, 'sizes': [{'type': 'm', 'url': 'https://sun9-29.userapi.com/c854428/v854428243/1bf7cf/7Q2qTKISFvo.jpg', 'width': 130, 'height': 28}, {'type': 'p', 'url': 'https://sun9-56.userapi.com/c854428/v854428243/1bf7d1/VJVEcVsFfds.jpg', 'width': 260, 'height': 55}, {'type': 's', 'url': 'https://sun9-32.userapi.com/c854428/v854428243/1bf7ce/vYEsO2RTZO0.jpg', 'width': 75, 'height': 16}, {'type': 'x', 'url': 'https://sun9-28.userapi.com/c854428/v854428243/1bf7d0/gvmlMDusSwI.jpg', 'width': 150, 'height': 32}], 'text': '', 'date': 1578052433}}}], 'post_source': {'type': 'vk'}, 'comments': {'count': 0, 'can_post': 1, 'groups_can_post': True}, 'likes': {'count': 7, 'user_likes': 0, 'can_like': 1, 'can_publish': 1}, 'reposts': {'count': 2, 'user_reposted': 0}, 'views': {'count': 496}}, {'id': 4311, 'from_id': 2956433, 'owner_id': 2956433, 'date': 1577360027, 'post_type': 'post', 'text': 'В животе ураган? принимай Эспумизан \\n(такой продукт плейсмент просрали)\\nhttps://www.youtube.com/watch?v=KrLPqYtwxE4', 'attachments': [{'type': 'video', 'video': {'access_key': 'db538619b8834a76e7', 'can_comment': 0, 'can_like': 0, 'can_repost': 0, 'can_subscribe': 1, 'can_add_to_faves': 0, 'can_add': 0, 'comments': 0, 'date': 1577360024, 'description': 'Directed by Medet Shayakhmetov\\n\\nListen on Apple Music: https://apple.co/2EPYag8\\n\\nFollow Scriptonite:\\nhttps://www.instagram.com/real_scrip/\\nhttps://vk.com/scriptonite/\\n\\nFollow Musica36:\\nhttps://vk.com/musica36/\\nhttps://instagram.com/musica.36/\\nhttps://facebook.com/musica36official/\\nhttps://t.me/musica36/\\n\\n#Musica36 #Скриптонит #Scriptonite', 'duration': 290, 'image': [{'height': 96, 'url': 'https://sun9-42.userapi.com/c856036/v856036338/1ba243/UrFrmH-OwvY.jpg', 'width': 130, 'with_padding': 1}, {'height': 120, 'url': 'https://sun9-67.userapi.com/c856036/v856036338/1ba244/xfiMQZIILso.jpg', 'width': 160, 'with_padding': 1}, {'height': 240, 'url': 'https://sun9-22.userapi.com/c856036/v856036338/1ba245/9JCycVpkMxM.jpg', 'width': 320, 'with_padding': 1}, {'height': 450, 'url': 'https://sun9-64.userapi.com/c856036/v856036338/1ba246/7yFRoRyQ7ZM.jpg', 'width': 800, 'with_padding': 1}], 'id': 456239036, 'owner_id': 2956433, 'title': 'Скриптонит - Як 2', 'track_code': 'video_9b54a56fidYWjIBNBD1q0y6-YAo9mpY6SW30rBNBLR-9dZwqvjzU8xeEhHswDlmMGg', 'type': 'video', 'views': 1, 'local_views': 1, 'platform': 'YouTube'}}], 'post_source': {'type': 'vk'}, 'comments': {'count': 0, 'can_post': 1, 'groups_can_post': True}, 'likes': {'count': 0, 'user_likes': 0, 'can_like': 1, 'can_publish': 1}, 'reposts': {'count': 0, 'user_reposted': 0}, 'views': {'count': 109}}], 'profiles': [{'id': 2956433, 'first_name': 'Andrey', 'last_name': 'Komlev', 'is_closed': False, 'can_access_closed': True, 'sex': 2, 'screen_name': 'fr00st', 'photo_50': 'https://sun9-50.userapi.com/c854416/v854416786/130249/18ybt7X4mTs.jpg?ava=1', 'photo_100': 'https://sun9-28.userapi.com/c854416/v854416786/130248/RePOAcjZ5Og.jpg?ava=1', 'online': 0, 'online_info': {'visible': True, 'last_seen': 1584292926, 'app_id': 2274003, 'is_mobile': True}}, {'id': 14448827, 'first_name': 'Favorit', 'last_name': 'Solntsa', 'is_closed': False, 'can_access_closed': True, 'sex': 1, 'screen_name': 'vladkamorkov', 'photo_50': 'https://sun1-47.userapi.com/c858328/v858328717/18b5b7/Md8Q_kvYCSE.jpg?ava=1', 'photo_100': 'https://sun1-97.userapi.com/c858328/v858328717/18b5b6/N5WiVZTtuX0.jpg?ava=1', 'online': 0, 'online_info': {'visible': True, 'last_seen': 1584299988, 'app_id': 3140623, 'is_mobile': True}}, {'id': 335775796, 'first_name': 'Santa', 'last_name': 'Verona', 'is_closed': False, 'can_access_closed': True, 'sex': 2, 'screen_name': 'santaverona', 'photo_50': 'https://sun9-37.userapi.com/c857024/v857024822/b6cc7/M46CIUADNrE.jpg?ava=1', 'photo_100': 'https://sun9-7.userapi.com/c857024/v857024822/b6cc6/VJCcPk5SDDo.jpg?ava=1', 'online': 0, 'online_info': {'visible': True, 'last_seen': 1584305636, 'app_id': 2274003, 'is_mobile': True}}], 'groups': [{'id': 1315244, 'name': 'ЭКСТРЕМУМ, объединение добровольных спасателей', 'screen_name': 'extremum', 'is_closed': 0, 'type': 'group', 'photo_50': 'https://sun1-87.userapi.com/c844617/v844617093/17ce4/vs9viHTN8Hg.jpg?ava=1', 'photo_100': 'https://sun1-87.userapi.com/c844617/v844617093/17ce3/f5R0Q_sarUM.jpg?ava=1', 'photo_200': 'https://sun1-25.userapi.com/c844617/v844617093/17ce1/a2L5FP0kCr8.jpg?ava=1'}]}, {'count': 41, 'items': [{'id': 1104, 'from_id': 4228387, 'owner_id': 4228387, 'date': 1578985317, 'post_type': 'post', 'text': 'https://yandex.ru/q/question/elizaveta_vtoraia_opublikovala_zaiavlenie_be28cc59/', 'post_source': {'type': 'mvk'}, 'comments': {'count': 0, 'can_post': 0, 'groups_can_post': True}, 'likes': {'count': 0, 'user_likes': 0, 'can_like': 1, 'can_publish': 1}, 'reposts': {'count': 0, 'user_reposted': 0}, 'views': {'count': 75}}, {'id': 1103, 'from_id': 4228387, 'owner_id': 4228387, 'date': 1510138122, 'post_type': 'post', 'text': '', 'copy_history': [{'id': 2767, 'owner_id': 816522, 'from_id': 0, 'date': 0, 'post_type': 'post', 'text': 'Поиска квартиры пост!\\nРазыскивается двухкомнатная квартира в Москве недалеко от метро Юго-Западная/ Тропарево. \\nСрочности нет, готовы ждать подходящего варианта.\\nВ идеале - снять у друзей или друзей друзей со следующего лета.\\nРепост, ребята:)', 'attachments': [{'type': 'photo', 'photo': {'id': 456241840, 'album_id': -7, 'owner_id': 816522, 'sizes': [{'type': 'm', 'url': 'https://sun9-38.userapi.com/c621702/v621702627/2e502/yAZ94Hipmfo.jpg', 'width': 130, 'height': 97}, {'type': 'o', 'url': 'https://sun9-58.userapi.com/c621702/v621702627/2e505/IYe2ltFA_Tc.jpg', 'width': 130, 'height': 98}, {'type': 'p', 'url': 'https://sun9-29.userapi.com/c621702/v621702627/2e506/Y6jV0in12kA.jpg', 'width': 200, 'height': 150}, {'type': 'q', 'url': 'https://sun9-5.userapi.com/c621702/v621702627/2e507/_I9ply7n6d4.jpg', 'width': 320, 'height': 240}, {'type': 'r', 'url': 'https://sun9-66.userapi.com/c621702/v621702627/2e508/V8spdPM06iQ.jpg', 'width': 510, 'height': 383}, {'type': 's', 'url': 'https://sun9-10.userapi.com/c621702/v621702627/2e501/609EjNPXQLY.jpg', 'width': 75, 'height': 56}, {'type': 'x', 'url': 'https://sun9-39.userapi.com/c621702/v621702627/2e503/EcK81Rv7OUk.jpg', 'width': 604, 'height': 453}, {'type': 'y', 'url': 'https://sun9-6.userapi.com/c621702/v621702627/2e504/nB1MoOWzOIA.jpg', 'width': 720, 'height': 540}], 'text': '', 'date': 1509867986, 'access_key': 'a0af495b6efccf26ee'}}], 'post_source': {'type': 'vk'}}], 'post_source': {'type': 'vk'}, 'comments': {'count': 0, 'can_post': 0, 'groups_can_post': True}, 'likes': {'count': 1, 'user_likes': 0, 'can_like': 1, 'can_publish': 1}, 'reposts': {'count': 0, 'user_reposted': 0}, 'views': {'count': 253}}, {'id': 1092, 'from_id': 4228387, 'owner_id': 4228387, 'date': 1452895117, 'post_type': 'post', 'text': '', 'attachments': [{'type': 'photo', 'photo': {'id': 396551883, 'album_id': -6, 'owner_id': 4228387, 'sizes': [{'type': 'm', 'url': 'https://sun9-65.userapi.com/c631125/v631125387/ea8d/kjXQY56zUAo.jpg', 'width': 73, 'height': 130}, {'type': 'o', 'url': 'https://sun9-54.userapi.com/c631125/v631125387/ea92/4qciTgpspIs.jpg', 'width': 130, 'height': 231}, {'type': 'p', 'url': 'https://sun9-58.userapi.com/c631125/v631125387/ea93/0bRiE8hdRsI.jpg', 'width': 200, 'height': 355}, {'type': 'q', 'url': 'https://sun9-35.userapi.com/c631125/v631125387/ea94/6fsEzgil-Zg.jpg', 'width': 320, 'height': 568}, {'type': 'r', 'url': 'https://sun9-5.userapi.com/c631125/v631125387/ea95/hx6AcojvXYg.jpg', 'width': 510, 'height': 900}, {'type': 's', 'url': 'https://sun9-25.userapi.com/c631125/v631125387/ea8c/-i9OyyJBlnY.jpg', 'width': 42, 'height': 75}, {'type': 'w', 'url': 'https://sun9-34.userapi.com/c631125/v631125387/ea91/kMwQ25Y73hQ.jpg', 'width': 640, 'height': 1136}, {'type': 'x', 'url': 'https://sun9-68.userapi.com/c631125/v631125387/ea8e/-yXi6bpoy18.jpg', 'width': 340, 'height': 604}, {'type': 'y', 'url': 'https://sun9-30.userapi.com/c631125/v631125387/ea8f/dwsxNDCwnH8.jpg', 'width': 454, 'height': 807}, {'type': 'z', 'url': 'https://sun9-14.userapi.com/c631125/v631125387/ea90/5BVfagrGOTc.jpg', 'width': 608, 'height': 1080}], 'text': '', 'date': 1452895118, 'post_id': 1092}}], 'post_source': {'type': 'api', 'platform': 'iphone', 'data': 'profile_photo'}, 'comments': {'count': 0, 'can_post': 0, 'groups_can_post': True}, 'likes': {'count': 39, 'user_likes': 0, 'can_like': 1, 'can_publish': 1}, 'reposts': {'count': 0, 'user_reposted': 0}}, {'id': 1089, 'from_id': 4228387, 'owner_id': 4228387, 'date': 1443040507, 'post_type': 'post', 'text': '', 'copy_history': [{'id': 1904, 'owner_id': 4320481, 'from_id': 4320481, 'date': 1443000892, 'post_type': 'post', 'text': 'Сниму квартиру однокомнатную в Москве. Со свежим ремонтом и в хорошей пешей доступности от метро. в диапазоне 1-2 станций до кольца и 1-2 станции от конечных. Прошу максимальный репост. (фото для привлечения внимания =)) )', 'attachments': [{'type': 'photo', 'photo': {'id': 382867042, 'album_id': -7, 'owner_id': 4320481, 'sizes': [{'type': 'm', 'url': 'https://sun9-43.userapi.com/c622420/v622420481/49c1b/xUGsccozI3k.jpg', 'width': 130, 'height': 81}, {'type': 'o', 'url': 'https://sun9-62.userapi.com/c622420/v622420481/49c1e/VDaddHrZIuo.jpg', 'width': 130, 'height': 87}, {'type': 'p', 'url': 'https://sun9-67.userapi.com/c622420/v622420481/49c1f/P_10fTnVMbM.jpg', 'width': 200, 'height': 133}, {'type': 'q', 'url': 'https://sun9-45.userapi.com/c622420/v622420481/49c20/9G3XyGgtwSc.jpg', 'width': 320, 'height': 213}, {'type': 'r', 'url': 'https://sun9-12.userapi.com/c622420/v622420481/49c21/sKVfckezetg.jpg', 'width': 510, 'height': 340}, {'type': 's', 'url': 'https://sun9-24.userapi.com/c622420/v622420481/49c1a/fj0g4l28b-Q.jpg', 'width': 75, 'height': 47}, {'type': 'x', 'url': 'https://sun9-50.userapi.com/c622420/v622420481/49c1c/Jeiqu9nDgI0.jpg', 'width': 604, 'height': 377}, {'type': 'y', 'url': 'https://sun9-46.userapi.com/c622420/v622420481/49c1d/EbCwkq8Tvtk.jpg', 'width': 695, 'height': 434}], 'text': '', 'date': 1443001050, 'access_key': '0639d3d2de9b9d167d'}}], 'post_source': {'type': 'vk'}}], 'post_source': {'type': 'vk'}, 'comments': {'count': 0, 'can_post': 0, 'groups_can_post': True}, 'likes': {'count': 2, 'user_likes': 0, 'can_like': 1, 'can_publish': 1}, 'reposts': {'count': 1, 'user_reposted': 0}}, {'id': 1081, 'from_id': 4228387, 'owner_id': 4228387, 'date': 1439847828, 'post_type': 'post', 'text': '', 'attachments': [{'type': 'photo', 'photo': {'id': 376494960, 'album_id': -6, 'owner_id': 4228387, 'sizes': [{'type': 'm', 'url': 'https://sun9-15.userapi.com/c628323/v628323387/12e3c/VBw7V6AHYSY.jpg', 'width': 97, 'height': 130}, {'type': 'o', 'url': 'https://sun9-60.userapi.com/c628323/v628323387/12e40/POFs97EF1Ok.jpg', 'width': 130, 'height': 173}, {'type': 'p', 'url': 'https://sun9-21.userapi.com/c628323/v628323387/12e41/keY7L8ek_xc.jpg', 'width': 200, 'height': 267}, {'type': 'q', 'url': 'https://sun9-61.userapi.com/c628323/v628323387/12e42/gyEsbPef_-8.jpg', 'width': 320, 'height': 427}, {'type': 'r', 'url': 'https://sun9-26.userapi.com/c628323/v628323387/12e43/X8ZY4D0AgeU.jpg', 'width': 510, 'height': 680}, {'type': 's', 'url': 'https://sun9-34.userapi.com/c628323/v628323387/12e3b/dtoi0YiI_Yw.jpg', 'width': 56, 'height': 75}, {'type': 'x', 'url': 'https://sun9-27.userapi.com/c628323/v628323387/12e3d/Rpxicc35bTY.jpg', 'width': 453, 'height': 604}, {'type': 'y', 'url': 'https://sun9-47.userapi.com/c628323/v628323387/12e3e/O061DptStQo.jpg', 'width': 605, 'height': 807}, {'type': 'z', 'url': 'https://sun9-30.userapi.com/c628323/v628323387/12e3f/BWEW1h1xPac.jpg', 'width': 720, 'height': 960}], 'text': '', 'date': 1439847828, 'post_id': 1081}}], 'post_source': {'type': 'vk', 'data': 'profile_photo'}, 'comments': {'count': 0, 'can_post': 0, 'groups_can_post': True}, 'likes': {'count': 25, 'user_likes': 0, 'can_like': 1, 'can_publish': 1}, 'reposts': {'count': 0, 'user_reposted': 0}}, {'id': 1079, 'from_id': 4228387, 'owner_id': 4228387, 'date': 1430079750, 'post_type': 'post', 'text': 'дерьмо!', 'post_source': {'link': {'url': 'http://autoustroistvo.ru/dvigatel-dvs/obschee-ustroystvo-odnotsilindrovogo-benzinovogo-dvigatelya/', 'title': 'Устройство двигателя автомобиля', 'description': 'Для того, чтобы понять принцип работы двигателя, нужно иметь некоторые представления о устройстве двигателя автомобиля.'}, 'type': 'widget', 'data': 'comments'}, 'comments': {'count': 0, 'can_post': 0, 'groups_can_post': True}, 'likes': {'count': 0, 'user_likes': 0, 'can_like': 1, 'can_publish': 1}, 'reposts': {'count': 0, 'user_reposted': 0}}, {'id': 1073, 'from_id': 4228387, 'owner_id': 4228387, 'date': 1429919038, 'post_type': 'post', 'text': 'Про меня!!!', 'copy_history': [{'id': 106101, 'owner_id': -24036559, 'from_id': -24036559, 'date': 1429464720, 'post_type': 'post', 'text': 'Я своенравная, вредная, высокомерная и вообще противная. Тех, кого я не устраиваю такой, какая есть, не держу в своей жизни. Идите с миром, но мимо меня.', 'attachments': [{'type': 'photo', 'photo': {'id': 363794720, 'album_id': -7, 'owner_id': -24036559, 'user_id': 100, 'sizes': [{'type': 'm', 'url': 'https://sun9-10.userapi.com/c540102/v540102926/242c8/biPvMKgzp_I.jpg', 'width': 130, 'height': 81}, {'type': 'o', 'url': 'https://sun9-56.userapi.com/c540102/v540102926/242ca/vBUxEpCDyVA.jpg', 'width': 130, 'height': 87}, {'type': 'p', 'url': 'https://sun9-10.userapi.com/c540102/v540102926/242cb/g5SG6hPGDwU.jpg', 'width': 200, 'height': 133}, {'type': 'q', 'url': 'https://sun9-12.userapi.com/c540102/v540102926/242cc/iXUbcMsNsFY.jpg', 'width': 320, 'height': 213}, {'type': 'r', 'url': 'https://sun9-62.userapi.com/c540102/v540102926/242cd/kRQxTZsSMn0.jpg', 'width': 510, 'height': 340}, {'type': 's', 'url': 'https://sun9-33.userapi.com/c540102/v540102926/242c7/j7CR-ghGBpI.jpg', 'width': 75, 'height': 47}, {'type': 'x', 'url': 'https://sun9-44.userapi.com/c540102/v540102926/242c9/FAIM3BRvVqo.jpg', 'width': 604, 'height': 377}], 'text': '', 'date': 1429464720, 'post_id': 106101, 'access_key': '4ae1d652483f247472'}}], 'post_source': {'type': 'api'}}], 'post_source': {'type': 'vk'}, 'comments': {'count': 0, 'can_post': 0, 'groups_can_post': True}, 'likes': {'count': 1, 'user_likes': 0, 'can_like': 1, 'can_publish': 1}, 'reposts': {'count': 0, 'user_reposted': 0}}, {'id': 1053, 'from_id': 4228387, 'owner_id': 4228387, 'date': 1419279738, 'post_type': 'post', 'text': '', 'copy_history': [{'id': 7, 'owner_id': -81003818, 'from_id': -81003818, 'date': 1416843687, 'post_type': 'post', 'text': 'ВНИМАНИЕ! Любое Худи за РЕПОСТ! \\n\\n❄В честь Нового года 🎅 Разыгрываем худи. \\n\\nВсего 2 пункта для участия!\\n1. Сделать РЕПОСТ этой записи.\\n2. Вступить в группу - https://vk.com/goodhoodie\\n\\nКонкурс окончится 30 декабря 2014 года. \\nПобедитель будет выбран с помощью http://mrandom.com/', 'signer_id': 238921993, 'attachments': [{'type': 'photo', 'photo': {'id': 344332641, 'album_id': 206295794, 'owner_id': -81003818, 'user_id': 100, 'sizes': [{'type': 'm', 'url': 'https://sun9-52.userapi.com/c623120/v623120691/a815/I78emKRL5vE.jpg', 'width': 130, 'height': 120}, {'type': 'o', 'url': 'https://sun9-27.userapi.com/c623120/v623120691/a819/5a92lZoH8GE.jpg', 'width': 130, 'height': 120}, {'type': 'p', 'url': 'https://sun9-35.userapi.com/c623120/v623120691/a81a/_adn7ut-LW4.jpg', 'width': 200, 'height': 185}, {'type': 'q', 'url': 'https://sun9-14.userapi.com/c623120/v623120691/a81b/8EbVkge_tYY.jpg', 'width': 320, 'height': 295}, {'type': 'r', 'url': 'https://sun9-44.userapi.com/c623120/v623120691/a81c/vn6Ii0akEF0.jpg', 'width': 510, 'height': 471}, {'type': 's', 'url': 'https://sun9-50.userapi.com/c623120/v623120691/a814/fsFvY8fqyWY.jpg', 'width': 75, 'height': 69}, {'type': 'x', 'url': 'https://sun9-51.userapi.com/c623120/v623120691/a816/v3ULPbRh7vM.jpg', 'width': 604, 'height': 558}, {'type': 'y', 'url': 'https://sun9-26.userapi.com/c623120/v623120691/a817/b38QWo1Usks.jpg', 'width': 807, 'height': 745}, {'type': 'z', 'url': 'https://sun9-32.userapi.com/c623120/v623120691/a818/4ZHxrfTPbPM.jpg', 'width': 1109, 'height': 1024}], 'text': 'Как заказать? - goo.gl/uzfNCM ЖМИ!\\n\\nСноубордические толстовки\\nСделаны вручную\\n\\ntº катания до -20\\nПроизводство: Южная Корея\\nМатериал: хлопок, плюш\\nЦена 6290 р.\\n-\\nПо всем вопросам пишите сюда - https://vk.com/wild.virginsnow', 'date': 1416510510, 'access_key': '1a6a59a47af390f4c5'}}, {'type': 'photo', 'photo': {'id': 344332831, 'album_id': 206295794, 'owner_id': -81003818, 'user_id': 100, 'sizes': [{'type': 'm', 'url': 'https://sun9-56.userapi.com/c623120/v623120691/a854/dmqaeg5M5-E.jpg', 'width': 125, 'height': 130}, {'type': 'o', 'url': 'https://sun9-30.userapi.com/c623120/v623120691/a858/yIHoYZZvOJc.jpg', 'width': 130, 'height': 136}, {'type': 'p', 'url': 'https://sun9-12.userapi.com/c623120/v623120691/a859/Z0oT1TCXwAk.jpg', 'width': 200, 'height': 209}, {'type': 'q', 'url': 'https://sun9-65.userapi.com/c623120/v623120691/a85a/hxfchUHFsBQ.jpg', 'width': 320, 'height': 334}, {'type': 'r', 'url': 'https://sun9-25.userapi.com/c623120/v623120691/a85b/5rDHJxM3McU.jpg', 'width': 510, 'height': 532}, {'type': 's', 'url': 'https://sun9-32.userapi.com/c623120/v623120691/a853/Ym4QqSh-QRU.jpg', 'width': 72, 'height': 75}, {'type': 'x', 'url': 'https://sun9-41.userapi.com/c623120/v623120691/a855/7W3H5oBfu8s.jpg', 'width': 579, 'height': 604}, {'type': 'y', 'url': 'https://sun9-35.userapi.com/c623120/v623120691/a856/EFZRjyqYakA.jpg', 'width': 774, 'height': 807}, {'type': 'z', 'url': 'https://sun9-34.userapi.com/c623120/v623120691/a857/vWAtuRERvOo.jpg', 'width': 982, 'height': 1024}], 'text': 'Как заказать? - goo.gl/uzfNCM ЖМИ!\\n\\nСноубордические толстовки\\nСделаны вручную\\n\\ntº катания до -20\\nПроизводство: Южная Корея\\nМатериал: хлопок, плюш\\nЦена 6290 р.\\n-\\nПо всем вопросам пишите сюда - https://vk.com/wild.virginsnow', 'date': 1416510597, 'access_key': 'd995b836369946060d'}}, {'type': 'photo', 'photo': {'id': 344333147, 'album_id': 206295794, 'owner_id': -81003818, 'user_id': 100, 'sizes': [{'type': 'm', 'url': 'https://sun9-23.userapi.com/c623120/v623120691/a908/Tz1pOO0T7-o.jpg', 'width': 130, 'height': 130}, {'type': 'o', 'url': 'https://sun9-58.userapi.com/c623120/v623120691/a90c/aSQRuA_z3KM.jpg', 'width': 130, 'height': 130}, {'type': 'p', 'url': 'https://sun9-71.userapi.com/c623120/v623120691/a90d/ykHZYrNQVfo.jpg', 'width': 200, 'height': 200}, {'type': 'q', 'url': 'https://sun9-32.userapi.com/c623120/v623120691/a90e/RvtNbWDXUdY.jpg', 'width': 320, 'height': 320}, {'type': 'r', 'url': 'https://sun9-38.userapi.com/c623120/v623120691/a90f/Ck4tuSp6qY8.jpg', 'width': 510, 'height': 510}, {'type': 's', 'url': 'https://sun9-64.userapi.com/c623120/v623120691/a907/SD2oU-W7j48.jpg', 'width': 75, 'height': 75}, {'type': 'x', 'url': 'https://sun9-51.userapi.com/c623120/v623120691/a909/G0TElc-OJfQ.jpg', 'width': 604, 'height': 604}, {'type': 'y', 'url': 'https://sun9-34.userapi.com/c623120/v623120691/a90a/XGDJmsXEqu4.jpg', 'width': 807, 'height': 807}, {'type': 'z', 'url': 'https://sun9-34.userapi.com/c623120/v623120691/a90b/VfxbPKU3izA.jpg', 'width': 1024, 'height': 1024}], 'text': 'Как заказать? - goo.gl/uzfNCM ЖМИ!\\n\\nСноуборд кофты для катания. \\nСделаны вручную.\\n\\ntº катания до -20\\nПроизводство: Южная Корея\\nМатериал: хлопок, плюш\\nЦена 6290 р.\\n-\\nПо всем вопросам пишите сюда - https://vk.com/wild.virginsnow', 'date': 1416510730, 'access_key': 'b57b8e2e62383f8310'}}, {'type': 'photo', 'photo': {'id': 344334765, 'album_id': 206295794, 'owner_id': -81003818, 'user_id': 100, 'sizes': [{'type': 'm', 'url': 'https://sun9-60.userapi.com/c623120/v623120691/a9c6/yM-p1liIdCc.jpg', 'width': 130, 'height': 130}, {'type': 'o', 'url': 'https://sun9-23.userapi.com/c623120/v623120691/a9ca/xfWlBd13zgg.jpg', 'width': 130, 'height': 130}, {'type': 'p', 'url': 'https://sun9-65.userapi.com/c623120/v623120691/a9cb/f2RbwpX9xEg.jpg', 'width': 200, 'height': 200}, {'type': 'q', 'url': 'https://sun9-26.userapi.com/c623120/v623120691/a9cc/t2S1K8TcQM0.jpg', 'width': 320, 'height': 320}, {'type': 'r', 'url': 'https://sun9-57.userapi.com/c623120/v623120691/a9cd/DGnbFd8mP3U.jpg', 'width': 510, 'height': 510}, {'type': 's', 'url': 'https://sun9-57.userapi.com/c623120/v623120691/a9c5/3Hf6ZxlmjoA.jpg', 'width': 75, 'height': 75}, {'type': 'x', 'url': 'https://sun9-47.userapi.com/c623120/v623120691/a9c7/8fwv72C1JmI.jpg', 'width': 604, 'height': 604}, {'type': 'y', 'url': 'https://sun9-49.userapi.com/c623120/v623120691/a9c8/n-E7kQXxxgg.jpg', 'width': 807, 'height': 807}, {'type': 'z', 'url': 'https://sun9-12.userapi.com/c623120/v623120691/a9c9/ClM1OpOjZ3c.jpg', 'width': 1024, 'height': 1024}], 'text': 'Как заказать? - goo.gl/uzfNCM ЖМИ!\\n\\nСноуборд кофты для катания. \\nСделаны вручную.\\n\\ntº катания до -20\\nПроизводство: Южная Корея\\nМатериал: хлопок, плюш\\nЦена 6290 р.\\n-\\nПо всем вопросам пишите сюда - https://vk.com/wild.virginsnow', 'date': 1416511520, 'access_key': 'b54288f7e5fbd696d5'}}, {'type': 'photo', 'photo': {'id': 344335140, 'album_id': 206295794, 'owner_id': -81003818, 'user_id': 100, 'sizes': [{'type': 'm', 'url': 'https://sun9-61.userapi.com/c623120/v623120691/aa72/p6-lMgsUFok.jpg', 'width': 97, 'height': 130}, {'type': 'o', 'url': 'https://sun9-14.userapi.com/c623120/v623120691/aa76/rUgAlMS8acg.jpg', 'width': 130, 'height': 174}, {'type': 'p', 'url': 'https://sun9-12.userapi.com/c623120/v623120691/aa77/7cdbiMx_AxE.jpg', 'width': 200, 'height': 268}, {'type': 'q', 'url': 'https://sun9-44.userapi.com/c623120/v623120691/aa78/5x2tYpw_s2I.jpg', 'width': 320, 'height': 430}, {'type': 'r', 'url': 'https://sun9-12.userapi.com/c623120/v623120691/aa79/OuiTnS7tDjg.jpg', 'width': 510, 'height': 685}, {'type': 's', 'url': 'https://sun9-66.userapi.com/c623120/v623120691/aa71/gbZfXT1pq0I.jpg', 'width': 56, 'height': 75}, {'type': 'x', 'url': 'https://sun9-56.userapi.com/c623120/v623120691/aa73/OSOxhj7ml0E.jpg', 'width': 450, 'height': 604}, {'type': 'y', 'url': 'https://sun9-71.userapi.com/c623120/v623120691/aa74/R_HlBCEniJ4.jpg', 'width': 601, 'height': 807}, {'type': 'z', 'url': 'https://sun9-46.userapi.com/c623120/v623120691/aa75/xooibTODQO0.jpg', 'width': 720, 'height': 967}], 'text': 'Как заказать? - goo.gl/uzfNCM ЖМИ!\\n\\nСноуборд кофты для катания. \\nСделаны вручную.\\n\\ntº катания до -20\\nПроизводство: Южная Корея\\nМатериал: хлопок, плюш\\nЦена 6290 р.\\n-\\nПо всем вопросам пишите сюда - https://vk.com/wild.virginsnow', 'date': 1416511675, 'access_key': '37d48e5c7643abfe8d'}}, {'type': 'photo', 'photo': {'id': 344335306, 'album_id': 206295794, 'owner_id': -81003818, 'user_id': 100, 'sizes': [{'type': 'm', 'url': 'https://sun9-10.userapi.com/c623120/v623120691/ab28/jl6dTWShCYs.jpg', 'width': 123, 'height': 130}, {'type': 'o', 'url': 'https://sun9-4.userapi.com/c623120/v623120691/ab2b/njGMqafDbEA.jpg', 'width': 130, 'height': 138}, {'type': 'p', 'url': 'https://sun9-48.userapi.com/c623120/v623120691/ab2c/CQIAa8q6YJY.jpg', 'width': 200, 'height': 212}, {'type': 'q', 'url': 'https://sun9-66.userapi.com/c623120/v623120691/ab2d/1FlLDyHPonk.jpg', 'width': 320, 'height': 339}, {'type': 'r', 'url': 'https://sun9-61.userapi.com/c623120/v623120691/ab2e/0KHVUpRbHJg.jpg', 'width': 510, 'height': 541}, {'type': 's', 'url': 'https://sun9-49.userapi.com/c623120/v623120691/ab27/MqaiLvbGHKs.jpg', 'width': 71, 'height': 75}, {'type': 'x', 'url': 'https://sun9-25.userapi.com/c623120/v623120691/ab29/pd-TcjoxYns.jpg', 'width': 570, 'height': 604}, {'type': 'y', 'url': 'https://sun9-39.userapi.com/c623120/v623120691/ab2a/2Mb99-IdTMw.jpg', 'width': 695, 'height': 737}], 'text': 'Как заказать? - goo.gl/uzfNCM ЖМИ!\\n\\nСноуборд кофты для катания. \\nСделаны вручную.\\n\\ntº катания до -20\\nПроизводство: Южная Корея\\nМатериал: хлопок, плюш\\nЦена 6290 р.\\n-\\nПо всем вопросам пишите сюда - https://vk.com/wild.virginsnow', 'date': 1416511749, 'access_key': '2268eb1a656303bb69'}}, {'type': 'album', 'album': {'id': '206295794', 'thumb': {'id': 344332621, 'album_id': 206295794, 'owner_id': -81003818, 'user_id': 100, 'sizes': [{'type': 'm', 'url': 'https://sun9-52.userapi.com/c623120/v623120691/a803/wS6USueU1lY.jpg', 'width': 130, 'height': 130}, {'type': 'o', 'url': 'https://sun9-55.userapi.com/c623120/v623120691/a807/SWuEHtFFZPM.jpg', 'width': 130, 'height': 130}, {'type': 'p', 'url': 'https://sun9-37.userapi.com/c623120/v623120691/a808/gcBecCVEaOw.jpg', 'width': 200, 'height': 200}, {'type': 'q', 'url': 'https://sun9-43.userapi.com/c623120/v623120691/a809/mspc-EpMBk0.jpg', 'width': 320, 'height': 320}, {'type': 'r', 'url': 'https://sun9-35.userapi.com/c623120/v623120691/a80a/L-n5OMX-DSY.jpg', 'width': 510, 'height': 510}, {'type': 's', 'url': 'https://sun9-41.userapi.com/c623120/v623120691/a802/9NV_NLYRtEA.jpg', 'width': 75, 'height': 75}, {'type': 'x', 'url': 'https://sun9-40.userapi.com/c623120/v623120691/a804/8HwxPypFc6U.jpg', 'width': 604, 'height': 604}, {'type': 'y', 'url': 'https://sun9-5.userapi.com/c623120/v623120691/a805/4fgzZpAXND8.jpg', 'width': 807, 'height': 807}, {'type': 'z', 'url': 'https://sun9-27.userapi.com/c623120/v623120691/a806/mPaUwvWRl1o.jpg', 'width': 1024, 'height': 1024}], 'text': 'Как заказать? - goo.gl/uzfNCM ЖМИ!\\n\\nСноубордические толстовки\\nСделаны вручную\\n\\ntº катания до -20\\nПроизводство: Южная Корея\\nМатериал: хлопок, плюш\\nЦена 6290 р.\\n-\\nПо всем вопросам пишите сюда - https://vk.com/wild.virginsnow', 'date': 1416510504, 'access_key': 'bd1d161e89a6decd70'}, 'owner_id': -81003818, 'title': 'Утепленные кофты с капюшоном (Худи)', 'description': 'Очень теплые худи ручной работы из Кореи.', 'created': 1416509963, 'updated': 1581335601, 'size': 764}}], 'post_source': {'type': 'vk'}}], 'post_source': {'type': 'vk'}, 'comments': {'count': 0, 'can_post': 0, 'groups_can_post': True}, 'likes': {'count': 0, 'user_likes': 0, 'can_like': 1, 'can_publish': 1}, 'reposts': {'count': 0, 'user_reposted': 0}}, {'id': 1052, 'from_id': 4228387, 'owner_id': 4228387, 'date': 1418676178, 'post_type': 'post', 'text': '', 'copy_history': [{'id': 98431, 'owner_id': -24036559, 'from_id': -24036559, 'date': 1418659500, 'post_type': 'post', 'text': 'Мне с тобой даже молчать приятно... Потому что я знаю, что даже находясь далеко друг от друга, мы думаем об одном, и в наших мыслях мы вместе... Рядом... Всегда...', 'attachments': [{'type': 'photo', 'photo': {'id': 348166089, 'album_id': -7, 'owner_id': -24036559, 'user_id': 100, 'sizes': [{'type': 'm', 'url': 'https://sun9-37.userapi.com/c540104/v540104926/176f0/RWR5HJsOiEg.jpg', 'width': 130, 'height': 87}, {'type': 'o', 'url': 'https://sun9-37.userapi.com/c540104/v540104926/176f2/jmpdMtduCVw.jpg', 'width': 130, 'height': 87}, {'type': 'p', 'url': 'https://sun9-40.userapi.com/c540104/v540104926/176f3/kDuNE0c7alE.jpg', 'width': 200, 'height': 134}, {'type': 'q', 'url': 'https://sun9-57.userapi.com/c540104/v540104926/176f4/HzHSYoj3MNA.jpg', 'width': 320, 'height': 214}, {'type': 'r', 'url': 'https://sun9-63.userapi.com/c540104/v540104926/176f5/YsgrXi0xYkQ.jpg', 'width': 500, 'height': 334}, {'type': 's', 'url': 'https://sun9-61.userapi.com/c540104/v540104926/176ef/sATfabgjGHA.jpg', 'width': 75, 'height': 50}, {'type': 'x', 'url': 'https://sun9-42.userapi.com/c540104/v540104926/176f1/-xTq-xb_zbk.jpg', 'width': 500, 'height': 334}], 'text': '', 'date': 1418467566, 'post_id': 98431, 'access_key': 'e3b4b5831a7357d471'}}], 'post_source': {'type': 'vk'}}], 'post_source': {'type': 'vk'}, 'comments': {'count': 0, 'can_post': 0, 'groups_can_post': True}, 'likes': {'count': 1, 'user_likes': 0, 'can_like': 1, 'can_publish': 1}, 'reposts': {'count': 0, 'user_reposted': 0}}, {'id': 1047, 'from_id': 4228387, 'owner_id': 4228387, 'date': 1418156968, 'post_type': 'post', 'text': '', 'copy_history': [{'id': 98024, 'owner_id': -24036559, 'from_id': -24036559, 'date': 1418151720, 'post_type': 'post', 'text': '\"Можно полюбить душу, не зная тела, а потом сходить с ума, прикасаясь к телу любимой души.\"', 'attachments': [{'type': 'photo', 'photo': {'id': 347832582, 'album_id': -7, 'owner_id': -24036559, 'user_id': 100, 'sizes': [{'type': 'm', 'url': 'https://sun9-6.userapi.com/c624630/v624630707/ec3c/RlXeQA004Ec.jpg', 'width': 130, 'height': 87}, {'type': 'o', 'url': 'https://sun9-31.userapi.com/c624630/v624630707/ec3e/wkuO7phSS14.jpg', 'width': 130, 'height': 87}, {'type': 'p', 'url': 'https://sun9-54.userapi.com/c624630/v624630707/ec3f/iGIurMMuQlM.jpg', 'width': 200, 'height': 133}, {'type': 'q', 'url': 'https://sun9-26.userapi.com/c624630/v624630707/ec40/UDpAS_rhj_o.jpg', 'width': 320, 'height': 213}, {'type': 'r', 'url': 'https://sun9-43.userapi.com/c624630/v624630707/ec41/4lEkO2UvWQo.jpg', 'width': 500, 'height': 333}, {'type': 's', 'url': 'https://sun9-52.userapi.com/c624630/v624630707/ec3b/2QWyrVZTbac.jpg', 'width': 75, 'height': 50}, {'type': 'x', 'url': 'https://sun9-40.userapi.com/c624630/v624630707/ec3d/uBq1IWT3cAs.jpg', 'width': 500, 'height': 333}], 'text': '', 'date': 1418151722, 'post_id': 98024, 'access_key': '6bce4fec9962dfbc20'}}], 'post_source': {'type': 'api'}}], 'post_source': {'type': 'vk'}, 'comments': {'count': 0, 'can_post': 0, 'groups_can_post': True}, 'likes': {'count': 3, 'user_likes': 0, 'can_like': 1, 'can_publish': 1}, 'reposts': {'count': 0, 'user_reposted': 0}}], 'profiles': [{'id': 816522, 'first_name': 'Fedor', 'last_name': 'Volkov', 'is_closed': False, 'can_access_closed': True, 'sex': 2, 'screen_name': 'volkovfa', 'photo_50': 'https://sun9-16.userapi.com/c846521/v846521860/b81f3/RxxehYX9W-c.jpg?ava=1', 'photo_100': 'https://sun9-39.userapi.com/c846521/v846521860/b81f2/uKPJxSkQxAg.jpg?ava=1', 'online': 0, 'online_info': {'visible': True, 'last_seen': 1584292028, 'app_id': 2274003, 'is_mobile': True}}, {'id': 4228387, 'first_name': 'Alexey', 'last_name': 'Panov', 'is_closed': False, 'can_access_closed': True, 'sex': 2, 'screen_name': 'notfat100kg', 'photo_50': 'https://sun9-51.userapi.com/c631125/v631125387/ea9a/kclTJWL6SGU.jpg?ava=1', 'photo_100': 'https://sun9-67.userapi.com/c631125/v631125387/ea99/uD_8LF2I8qc.jpg?ava=1', 'online': 0, 'online_info': {'visible': True, 'last_seen': 1583745666}}, {'id': 4320481, 'first_name': 'Danil', 'last_name': 'Petrunko', 'is_closed': True, 'can_access_closed': False, 'sex': 2, 'screen_name': 'petrunkodg', 'photo_50': 'https://sun9-62.userapi.com/c824411/v824411006/69/oTKc7hDwxPU.jpg?ava=1', 'photo_100': 'https://sun9-16.userapi.com/c824411/v824411006/68/PRldMUPqDgM.jpg?ava=1', 'online': 0, 'online_info': {'visible': True, 'last_seen': 1583558466}}, {'id': 238921993, 'first_name': 'Sergey', 'last_name': 'Virginsnow', 'is_closed': False, 'can_access_closed': True, 'sex': 2, 'screen_name': 'wild.virginsnow', 'photo_50': 'https://sun1-21.userapi.com/c633722/v633722993/36b7a/LzohO9CA4sU.jpg?ava=1', 'photo_100': 'https://sun1-28.userapi.com/c633722/v633722993/36b79/78LWJPBk8_4.jpg?ava=1', 'online': 0, 'online_info': {'visible': True, 'last_seen': 1584293413, 'is_mobile': True}}], 'groups': [{'id': 24036559, 'name': 'Дневник успешной девушки', 'screen_name': 'vk.drug', 'is_closed': 0, 'type': 'page', 'photo_50': 'https://sun1-91.userapi.com/c845218/v845218545/38543/nxxBUxgLSLw.jpg?ava=1', 'photo_100': 'https://sun1-21.userapi.com/c845218/v845218545/38542/zjj67oNket0.jpg?ava=1', 'photo_200': 'https://sun1-26.userapi.com/c845218/v845218545/38541/xsFCdNonj78.jpg?ava=1'}, {'id': 81003818, 'name': 'Сноубордические толстовки  | Сделаны вручную', 'screen_name': 'goodhoody', 'is_closed': 0, 'type': 'group', 'photo_50': 'https://sun1-28.userapi.com/c855728/v855728686/165e69/YVlGSq9cvAg.jpg?ava=1', 'photo_100': 'https://sun1-27.userapi.com/c855728/v855728686/165e68/NpK3RSkRcgg.jpg?ava=1', 'photo_200': 'https://sun1-83.userapi.com/c855728/v855728686/165e67/-cMZH8pM1m4.jpg?ava=1'}]}]\n"
     ]
    }
   ],
   "source": [
    "# Соберем последние записи со стен друзей\n",
    "posts = []\n",
    "for item in freinds_to_anallize:\n",
    "    try:\n",
    "        posts.append(my_api.wall.get(\n",
    "            owner_id=item,\n",
    "            count=10, #ограничимся последним 10 записями\n",
    "            filter='owner', # берем только записи от самого пользователя\n",
    "            extended=1,\n",
    "        ))\n",
    "    except:\n",
    "        print('User {} hide his wall'.format(item))\n",
    "print(posts[:2])"
   ]
  },
  {
   "cell_type": "markdown",
   "metadata": {},
   "source": [
    "Вместо послесловия:\n",
    "\n",
    "Работа с личным ключем может дать заметно больше информации и простора для аналитики. большая часть профилей логично скрыта от такого обхода.\n",
    "\n",
    "В рамках самостоятельного исследования можете обратить внимание еще на функционал групп, который позволяет аналогично так же строить диалоговые системы от имени группы.\n",
    "\n",
    "А так же можете обратить внимания на методы связанные с получаением лайков, коментов и репостов, там тоже много полезного."
   ]
  },
  {
   "cell_type": "code",
   "execution_count": null,
   "metadata": {},
   "outputs": [],
   "source": []
  }
 ],
 "metadata": {
  "kernelspec": {
   "display_name": "Python 3",
   "language": "python",
   "name": "python3"
  },
  "language_info": {
   "codemirror_mode": {
    "name": "ipython",
    "version": 3
   },
   "file_extension": ".py",
   "mimetype": "text/x-python",
   "name": "python",
   "nbconvert_exporter": "python",
   "pygments_lexer": "ipython3",
   "version": "3.7.0"
  }
 },
 "nbformat": 4,
 "nbformat_minor": 2
}