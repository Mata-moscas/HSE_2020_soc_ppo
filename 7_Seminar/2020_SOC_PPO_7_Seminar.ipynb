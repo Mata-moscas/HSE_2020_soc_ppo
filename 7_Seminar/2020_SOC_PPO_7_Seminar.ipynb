{
 "cells": [
  {
   "cell_type": "markdown",
   "metadata": {},
   "source": [
    "# Прикладное программное обеспечение\n",
    "#### Python для извлечения и обработки данных\n",
    "\n",
    "\n",
    "## API - telegram, vk, бонусы\n",
    "Социлогия | 1 курс | 3 модуль | Семинар 7\n",
    "\n",
    "*Авторы: Валентин Бирюков, НИУ ВШЭ*"
   ]
  },
  {
   "cell_type": "markdown",
   "metadata": {},
   "source": [
    "Это занятие является скорее показательным навыком того, что вы уже можете делать, используя полученные знания, а так же cntl+c-cntl+v с гугла. В ней проведены каркасы и пояснения к некоторым базовым оболочкам кода для взаимодействия с Вк и телеграмм."
   ]
  },
  {
   "cell_type": "markdown",
   "metadata": {},
   "source": [
    "## Ссылки\n",
    "\n",
    "Возпользовавшись источниками ниже данный блокнот можно и вообще пропустить =)\n",
    "Как и многое другое по программированию все уже возможно где то сделано, нам же предстоит заиспользовать это для своих нужд. Список ниже - ссылки и статьи на основе которых написан данный блокнот.\n",
    "\n",
    "1) https://python-telegram-bot.org/ - лендинг почти официальной библиотеки модуля для телеграм\n",
    "\n",
    "2) https://github.com/python-telegram-bot/python-telegram-bot - он же на гитхабе\n",
    "\n",
    "3) https://habr.com/ru/post/448310/ - туториал по нему, в придачу еще искусственный интеллект.\n",
    "\n",
    "4) https://github.com/eternnoir/pyTelegramBotAPI - похожая версия\n",
    "\n",
    "5) https://habr.com/ru/post/442800/ - другой туториал. по похожему модулю, только \n"
   ]
  },
  {
   "cell_type": "markdown",
   "metadata": {},
   "source": [
    "## Быстрый старт"
   ]
  },
  {
   "cell_type": "markdown",
   "metadata": {},
   "source": [
    "Самая простая и описанная часть. Очень коротко: нужно найти бота @BotFather, написать ему /start, или /newbot, заполнить поля, которые он спросит (название бота и его короткое имя), и получить сообщение с токеном бота и ссылкой на документацию. Токен нужно сохранить, желательно надёжно, так как это единственный ключ для авторизации бота и взаимодействия с ним."
   ]
  },
  {
   "cell_type": "markdown",
   "metadata": {},
   "source": [
    "Так же нужно поставить первую библиотеку."
   ]
  },
  {
   "cell_type": "code",
   "execution_count": 14,
   "metadata": {},
   "outputs": [
    {
     "name": "stdout",
     "output_type": "stream",
     "text": [
      "Requirement already satisfied: python-telegram-bot in /Users/biryuk/anaconda3/lib/python3.7/site-packages (12.4.2)\n",
      "Requirement already satisfied: tornado>=5.1 in /Users/biryuk/anaconda3/lib/python3.7/site-packages (from python-telegram-bot) (5.1)\n",
      "Requirement already satisfied: cryptography in /Users/biryuk/anaconda3/lib/python3.7/site-packages (from python-telegram-bot) (2.3.1)\n",
      "Requirement already satisfied: certifi in /Users/biryuk/anaconda3/lib/python3.7/site-packages (from python-telegram-bot) (2019.3.9)\n",
      "Requirement already satisfied: future>=0.16.0 in /Users/biryuk/anaconda3/lib/python3.7/site-packages (from python-telegram-bot) (0.18.2)\n",
      "Requirement already satisfied: decorator>=4.4.0 in /Users/biryuk/anaconda3/lib/python3.7/site-packages (from python-telegram-bot) (4.4.0)\n",
      "Requirement already satisfied: idna>=2.1 in /Users/biryuk/anaconda3/lib/python3.7/site-packages (from cryptography->python-telegram-bot) (2.8)\n",
      "Requirement already satisfied: asn1crypto>=0.21.0 in /Users/biryuk/anaconda3/lib/python3.7/site-packages (from cryptography->python-telegram-bot) (0.24.0)\n",
      "Requirement already satisfied: six>=1.4.1 in /Users/biryuk/anaconda3/lib/python3.7/site-packages (from cryptography->python-telegram-bot) (1.11.0)\n",
      "Requirement already satisfied: cffi!=1.11.3,>=1.7 in /Users/biryuk/anaconda3/lib/python3.7/site-packages (from cryptography->python-telegram-bot) (1.11.5)\n",
      "Requirement already satisfied: pycparser in /Users/biryuk/anaconda3/lib/python3.7/site-packages (from cffi!=1.11.3,>=1.7->cryptography->python-telegram-bot) (2.18)\n",
      "\u001b[33mYou are using pip version 19.0.3, however version 20.0.2 is available.\n",
      "You should consider upgrading via the 'pip install --upgrade pip' command.\u001b[0m\n"
     ]
    }
   ],
   "source": [
    "!pip install python-telegram-bot"
   ]
  },
  {
   "cell_type": "code",
   "execution_count": 15,
   "metadata": {},
   "outputs": [],
   "source": [
    "# настройки для бота:\n",
    "API_TOKEN = '1005315252:AAH3vw40Y3WJnSWanSCjD2ywyS8xqe-pBZ8'\n",
    "BOT_NAME = 'HseSocExperimentBot'"
   ]
  },
  {
   "cell_type": "markdown",
   "metadata": {},
   "source": [
    "Напишем простого бота который запоминает имя, а потом отпрашивется немного поучиться."
   ]
  },
  {
   "cell_type": "code",
   "execution_count": 16,
   "metadata": {},
   "outputs": [],
   "source": [
    "import logging # модуль для логирования, будет писать нам в консоль о происходящем\n",
    "from telegram import (ReplyKeyboardMarkup, ReplyKeyboardRemove) # методы для работы ответа \"кнопочками\"\n",
    "from telegram.ext import (\n",
    "    Updater,\n",
    "    CommandHandler,\n",
    "    MessageHandler,\n",
    "    Filters,\n",
    "    ConversationHandler\n",
    ")\n",
    "\n",
    "# Enable logging\n",
    "logging.basicConfig(format='%(asctime)s - %(name)s - %(levelname)s - %(message)s', level=logging.INFO) \n",
    "\n",
    "logger = logging.getLogger(__name__)"
   ]
  },
  {
   "cell_type": "code",
   "execution_count": 18,
   "metadata": {},
   "outputs": [],
   "source": [
    "GROUP, NAKOP = range(2) # состояния в которых пребывает бот\n",
    "# GROUP - мы спроисли и получили номер группы\n",
    "# NAKOP - докапываемся на счет накопа"
   ]
  },
  {
   "cell_type": "code",
   "execution_count": 19,
   "metadata": {},
   "outputs": [],
   "source": [
    "def start(update, context):\n",
    "    group_number = [list(map(str, range(191, 199)))] # Варианты доступные для ответа: числа 191-198\n",
    "    hellow_text = ''' \n",
    "Привет! я бот - вышкинец. Я пока только учусь.\n",
    "Отправь мне /cancel чтобы отправить меня ботать.\n",
    "    \n",
    "Расскажи из какой ты группы?\n",
    "    ''' \n",
    "    update.message.reply_text( # отправим сообщение и предложим на выбор варианты из списка\n",
    "        hellow_text,\n",
    "        reply_markup=ReplyKeyboardMarkup(group_number, one_time_keyboard=True)\n",
    "    )\n",
    "    return GROUP # мы переходим в следующее сосотяние - в нем заберем номер группы и спросим имя"
   ]
  },
  {
   "cell_type": "code",
   "execution_count": 24,
   "metadata": {},
   "outputs": [],
   "source": [
    "def group(update, context):\n",
    "    user = update.message.from_user\n",
    "    group_id = update.message.text\n",
    "    # Выведем номер группы пользователя себе локально\n",
    "    logger.info(\"Получен номер группы пользователя  %s: %s\", user.first_name, group_id)\n",
    "    update.message.reply_text(\n",
    "        'ох, слышал в группе {} нелегко. Вот какой у тебя накоп?'.format(group_id), \n",
    "        reply_markup=ReplyKeyboardRemove() # уберем клавиатуру с прошлого раза, теперь надо написать текстом.\n",
    "    )\n",
    "\n",
    "    return NAKOP"
   ]
  },
  {
   "cell_type": "code",
   "execution_count": 25,
   "metadata": {},
   "outputs": [],
   "source": [
    "import time\n",
    "\n",
    "def nakop(update, context):\n",
    "    # \n",
    "    user = update.message.from_user\n",
    "    mark_text = update.message.text\n",
    "    logger.info(\"У пользователя %s накоп: %s\", user.first_name, mark_text)\n",
    "    # теперь реализуем такую логику:\n",
    "    # если пользователь отправил и не особо то число - повторим процедуру еще раз\n",
    "    # если все таки число - то посмотрим хватает ли на зачет =)\n",
    "    try: # эта конструкция спасет нас от ошибок.\n",
    "        mark = float(mark_text) # если это не число и преобразованиие не получится\n",
    "    except: # то мы провалимся в этот блок\n",
    "        update.message.reply_text(\n",
    "            'Это разве накоп? да это и не число то особо. Давай еще раз: какой у тебя накоп?'\n",
    "        )\n",
    "        return NAKOP\n",
    "    \n",
    "    # если дошли сюда - значит в mark лежит число\n",
    "    if mark > 3.5:\n",
    "        update.message.reply_text('Ого! да у тебя уже зачет. А у меня нет. пойду ботать.')\n",
    "        return ConversationHandler.END\n",
    "    else:\n",
    "        update.message.reply_text('Ой, какой то он маленький. Давай я подожду чуть чуть.')\n",
    "        time.sleep(10)\n",
    "        update.message.reply_text('А теперь какой?')\n",
    "        return NAKOP"
   ]
  },
  {
   "cell_type": "code",
   "execution_count": 26,
   "metadata": {},
   "outputs": [],
   "source": [
    "'''Это системные функции для обработки ошибок и исключений, а также конца разговора. на всякий случай'''\n",
    "\n",
    "def cancel(update, context):\n",
    "    user = update.message.from_user\n",
    "    logger.info(\"Пользователь %s закончил разговор\", user.first_name)\n",
    "    update.message.reply_text('Ну ладно, пойду ботать',reply_markup=ReplyKeyboardRemove())\n",
    "    return ConversationHandler.END\n",
    "\n",
    "\n",
    "def error(update, context):\n",
    "    \"\"\"Log Errors caused by Updates.\"\"\"\n",
    "    logger.warning('Update \"%s\" caused error \"%s\"', update, context.error)"
   ]
  },
  {
   "cell_type": "code",
   "execution_count": 27,
   "metadata": {},
   "outputs": [],
   "source": [
    "def main():\n",
    "    # создаем канал для обещния с телеграмом. потребуется ключ для общения с ботом\n",
    "    updater = Updater(API_TOKEN, use_context=True)\n",
    "    dp = updater.dispatcher\n",
    "\n",
    "    # конфигурируем какие у нас могут быть состояния\n",
    "    conv_handler = ConversationHandler(\n",
    "        entry_points=[CommandHandler('start', start)], # начинамем с того что описали в функции start\n",
    "        states={\n",
    "            GROUP: [MessageHandler(Filters.regex('^19.$'), group)],\n",
    "            # описываем состояние \"группы\" - по сути то что описано в функции group\n",
    "            # фильтруем в этом состоянии все сообщения которые не начинаются на 19*\n",
    "            NAKOP: [MessageHandler(Filters.text, nakop)]\n",
    "            # наше второе состояние - докапываем до накопленной оценки\n",
    "        },\n",
    "        fallbacks=[CommandHandler('cancel', cancel)]\n",
    "        # что делать в случае отмены - завершаем диалог функцией cancel\n",
    "    )\n",
    "\n",
    "    # собираем и запускаем нашу конфигурацию\n",
    "    dp.add_handler(conv_handler)\n",
    "    # log all errors\n",
    "    dp.add_error_handler(error)\n",
    "    # Start the Bot\n",
    "    updater.start_polling()\n",
    "\n",
    "    # Run the bot until you press Ctrl-C or the process receives SIGINT,\n",
    "    # SIGTERM or SIGABRT. This should be used most of the time, since\n",
    "    # start_polling() is non-blocking and will stop the bot gracefully.\n",
    "    updater.idle()"
   ]
  },
  {
   "cell_type": "code",
   "execution_count": 28,
   "metadata": {},
   "outputs": [
    {
     "name": "stderr",
     "output_type": "stream",
     "text": [
      "2020-03-16 10:54:33,482 - telegram.vendor.ptb_urllib3.urllib3.connectionpool - WARNING - Retrying (Retry(total=2, connect=None, read=None, redirect=None)) after connection broken by 'NewConnectionError('<telegram.vendor.ptb_urllib3.urllib3.connection.VerifiedHTTPSConnection object at 0x10d048828>: Failed to establish a new connection: [Errno 61] Connection refused')': /bot1005315252:AAH3vw40Y3WJnSWanSCjD2ywyS8xqe-pBZ8/getMe\n",
      "2020-03-16 10:54:33,508 - telegram.vendor.ptb_urllib3.urllib3.connectionpool - WARNING - Retrying (Retry(total=1, connect=None, read=None, redirect=None)) after connection broken by 'NewConnectionError('<telegram.vendor.ptb_urllib3.urllib3.connection.VerifiedHTTPSConnection object at 0x10d23cba8>: Failed to establish a new connection: [Errno 61] Connection refused')': /bot1005315252:AAH3vw40Y3WJnSWanSCjD2ywyS8xqe-pBZ8/getMe\n",
      "2020-03-16 10:54:33,542 - telegram.vendor.ptb_urllib3.urllib3.connectionpool - WARNING - Retrying (Retry(total=0, connect=None, read=None, redirect=None)) after connection broken by 'NewConnectionError('<telegram.vendor.ptb_urllib3.urllib3.connection.VerifiedHTTPSConnection object at 0x10d23c710>: Failed to establish a new connection: [Errno 61] Connection refused')': /bot1005315252:AAH3vw40Y3WJnSWanSCjD2ywyS8xqe-pBZ8/getMe\n"
     ]
    },
    {
     "ename": "NetworkError",
     "evalue": "urllib3 HTTPError HTTPSConnectionPool(host='api.telegram.org', port=443): Max retries exceeded with url: /bot1005315252:AAH3vw40Y3WJnSWanSCjD2ywyS8xqe-pBZ8/getMe (Caused by NewConnectionError('<telegram.vendor.ptb_urllib3.urllib3.connection.VerifiedHTTPSConnection object at 0x10d23ccc0>: Failed to establish a new connection: [Errno 61] Connection refused'))",
     "output_type": "error",
     "traceback": [
      "\u001b[0;31m------------------------------------------------------\u001b[0m",
      "\u001b[0;31mConnectionRefusedError\u001b[0mTraceback (most recent call last)",
      "\u001b[0;32m~/anaconda3/lib/python3.7/site-packages/telegram/vendor/ptb_urllib3/urllib3/connection.py\u001b[0m in \u001b[0;36m_new_conn\u001b[0;34m(self)\u001b[0m\n\u001b[1;32m    140\u001b[0m             conn = connection.create_connection(\n\u001b[0;32m--> 141\u001b[0;31m                 (self.host, self.port), self.timeout, **extra_kw)\n\u001b[0m\u001b[1;32m    142\u001b[0m \u001b[0;34m\u001b[0m\u001b[0m\n",
      "\u001b[0;32m~/anaconda3/lib/python3.7/site-packages/telegram/vendor/ptb_urllib3/urllib3/util/connection.py\u001b[0m in \u001b[0;36mcreate_connection\u001b[0;34m(address, timeout, source_address, socket_options)\u001b[0m\n\u001b[1;32m     82\u001b[0m     \u001b[0;32mif\u001b[0m \u001b[0merr\u001b[0m \u001b[0;32mis\u001b[0m \u001b[0;32mnot\u001b[0m \u001b[0;32mNone\u001b[0m\u001b[0;34m:\u001b[0m\u001b[0;34m\u001b[0m\u001b[0m\n\u001b[0;32m---> 83\u001b[0;31m         \u001b[0;32mraise\u001b[0m \u001b[0merr\u001b[0m\u001b[0;34m\u001b[0m\u001b[0m\n\u001b[0m\u001b[1;32m     84\u001b[0m \u001b[0;34m\u001b[0m\u001b[0m\n",
      "\u001b[0;32m~/anaconda3/lib/python3.7/site-packages/telegram/vendor/ptb_urllib3/urllib3/util/connection.py\u001b[0m in \u001b[0;36mcreate_connection\u001b[0;34m(address, timeout, source_address, socket_options)\u001b[0m\n\u001b[1;32m     72\u001b[0m                 \u001b[0msock\u001b[0m\u001b[0;34m.\u001b[0m\u001b[0mbind\u001b[0m\u001b[0;34m(\u001b[0m\u001b[0msource_address\u001b[0m\u001b[0;34m)\u001b[0m\u001b[0;34m\u001b[0m\u001b[0m\n\u001b[0;32m---> 73\u001b[0;31m             \u001b[0msock\u001b[0m\u001b[0;34m.\u001b[0m\u001b[0mconnect\u001b[0m\u001b[0;34m(\u001b[0m\u001b[0msa\u001b[0m\u001b[0;34m)\u001b[0m\u001b[0;34m\u001b[0m\u001b[0m\n\u001b[0m\u001b[1;32m     74\u001b[0m             \u001b[0;32mreturn\u001b[0m \u001b[0msock\u001b[0m\u001b[0;34m\u001b[0m\u001b[0m\n",
      "\u001b[0;31mConnectionRefusedError\u001b[0m: [Errno 61] Connection refused",
      "\nDuring handling of the above exception, another exception occurred:\n",
      "\u001b[0;31mNewConnectionError\u001b[0m   Traceback (most recent call last)",
      "\u001b[0;32m~/anaconda3/lib/python3.7/site-packages/telegram/vendor/ptb_urllib3/urllib3/connectionpool.py\u001b[0m in \u001b[0;36murlopen\u001b[0;34m(self, method, url, body, headers, retries, redirect, assert_same_host, timeout, pool_timeout, release_conn, chunked, body_pos, **response_kw)\u001b[0m\n\u001b[1;32m    616\u001b[0m                                                   \u001b[0mbody\u001b[0m\u001b[0;34m=\u001b[0m\u001b[0mbody\u001b[0m\u001b[0;34m,\u001b[0m \u001b[0mheaders\u001b[0m\u001b[0;34m=\u001b[0m\u001b[0mheaders\u001b[0m\u001b[0;34m,\u001b[0m\u001b[0;34m\u001b[0m\u001b[0m\n\u001b[0;32m--> 617\u001b[0;31m                                                   chunked=chunked)\n\u001b[0m\u001b[1;32m    618\u001b[0m \u001b[0;34m\u001b[0m\u001b[0m\n",
      "\u001b[0;32m~/anaconda3/lib/python3.7/site-packages/telegram/vendor/ptb_urllib3/urllib3/connectionpool.py\u001b[0m in \u001b[0;36m_make_request\u001b[0;34m(self, conn, method, url, timeout, chunked, **httplib_request_kw)\u001b[0m\n\u001b[1;32m    359\u001b[0m         \u001b[0;32mtry\u001b[0m\u001b[0;34m:\u001b[0m\u001b[0;34m\u001b[0m\u001b[0m\n\u001b[0;32m--> 360\u001b[0;31m             \u001b[0mself\u001b[0m\u001b[0;34m.\u001b[0m\u001b[0m_validate_conn\u001b[0m\u001b[0;34m(\u001b[0m\u001b[0mconn\u001b[0m\u001b[0;34m)\u001b[0m\u001b[0;34m\u001b[0m\u001b[0m\n\u001b[0m\u001b[1;32m    361\u001b[0m         \u001b[0;32mexcept\u001b[0m \u001b[0;34m(\u001b[0m\u001b[0mSocketTimeout\u001b[0m\u001b[0;34m,\u001b[0m \u001b[0mBaseSSLError\u001b[0m\u001b[0;34m)\u001b[0m \u001b[0;32mas\u001b[0m \u001b[0me\u001b[0m\u001b[0;34m:\u001b[0m\u001b[0;34m\u001b[0m\u001b[0m\n",
      "\u001b[0;32m~/anaconda3/lib/python3.7/site-packages/telegram/vendor/ptb_urllib3/urllib3/connectionpool.py\u001b[0m in \u001b[0;36m_validate_conn\u001b[0;34m(self, conn)\u001b[0m\n\u001b[1;32m    856\u001b[0m         \"\"\"\n\u001b[0;32m--> 857\u001b[0;31m         \u001b[0msuper\u001b[0m\u001b[0;34m(\u001b[0m\u001b[0mHTTPSConnectionPool\u001b[0m\u001b[0;34m,\u001b[0m \u001b[0mself\u001b[0m\u001b[0;34m)\u001b[0m\u001b[0;34m.\u001b[0m\u001b[0m_validate_conn\u001b[0m\u001b[0;34m(\u001b[0m\u001b[0mconn\u001b[0m\u001b[0;34m)\u001b[0m\u001b[0;34m\u001b[0m\u001b[0m\n\u001b[0m\u001b[1;32m    858\u001b[0m \u001b[0;34m\u001b[0m\u001b[0m\n",
      "\u001b[0;32m~/anaconda3/lib/python3.7/site-packages/telegram/vendor/ptb_urllib3/urllib3/connectionpool.py\u001b[0m in \u001b[0;36m_validate_conn\u001b[0;34m(self, conn)\u001b[0m\n\u001b[1;32m    288\u001b[0m         \u001b[0;32mif\u001b[0m \u001b[0;32mnot\u001b[0m \u001b[0mgetattr\u001b[0m\u001b[0;34m(\u001b[0m\u001b[0mconn\u001b[0m\u001b[0;34m,\u001b[0m \u001b[0;34m'sock'\u001b[0m\u001b[0;34m,\u001b[0m \u001b[0;32mNone\u001b[0m\u001b[0;34m)\u001b[0m\u001b[0;34m:\u001b[0m  \u001b[0;31m# AppEngine might not have  `.sock`\u001b[0m\u001b[0;34m\u001b[0m\u001b[0m\n\u001b[0;32m--> 289\u001b[0;31m             \u001b[0mconn\u001b[0m\u001b[0;34m.\u001b[0m\u001b[0mconnect\u001b[0m\u001b[0;34m(\u001b[0m\u001b[0;34m)\u001b[0m\u001b[0;34m\u001b[0m\u001b[0m\n\u001b[0m\u001b[1;32m    290\u001b[0m \u001b[0;34m\u001b[0m\u001b[0m\n",
      "\u001b[0;32m~/anaconda3/lib/python3.7/site-packages/telegram/vendor/ptb_urllib3/urllib3/connection.py\u001b[0m in \u001b[0;36mconnect\u001b[0;34m(self)\u001b[0m\n\u001b[1;32m    283\u001b[0m         \u001b[0;31m# Add certificate verification\u001b[0m\u001b[0;34m\u001b[0m\u001b[0;34m\u001b[0m\u001b[0m\n\u001b[0;32m--> 284\u001b[0;31m         \u001b[0mconn\u001b[0m \u001b[0;34m=\u001b[0m \u001b[0mself\u001b[0m\u001b[0;34m.\u001b[0m\u001b[0m_new_conn\u001b[0m\u001b[0;34m(\u001b[0m\u001b[0;34m)\u001b[0m\u001b[0;34m\u001b[0m\u001b[0m\n\u001b[0m\u001b[1;32m    285\u001b[0m \u001b[0;34m\u001b[0m\u001b[0m\n",
      "\u001b[0;32m~/anaconda3/lib/python3.7/site-packages/telegram/vendor/ptb_urllib3/urllib3/connection.py\u001b[0m in \u001b[0;36m_new_conn\u001b[0;34m(self)\u001b[0m\n\u001b[1;32m    149\u001b[0m             raise NewConnectionError(\n\u001b[0;32m--> 150\u001b[0;31m                 self, \"Failed to establish a new connection: %s\" % e)\n\u001b[0m\u001b[1;32m    151\u001b[0m \u001b[0;34m\u001b[0m\u001b[0m\n",
      "\u001b[0;31mNewConnectionError\u001b[0m: <telegram.vendor.ptb_urllib3.urllib3.connection.VerifiedHTTPSConnection object at 0x10d23ccc0>: Failed to establish a new connection: [Errno 61] Connection refused",
      "\nDuring handling of the above exception, another exception occurred:\n",
      "\u001b[0;31mMaxRetryError\u001b[0m        Traceback (most recent call last)",
      "\u001b[0;32m~/anaconda3/lib/python3.7/site-packages/telegram/utils/request.py\u001b[0m in \u001b[0;36m_request_wrapper\u001b[0;34m(self, *args, **kwargs)\u001b[0m\n\u001b[1;32m    224\u001b[0m         \u001b[0;32mtry\u001b[0m\u001b[0;34m:\u001b[0m\u001b[0;34m\u001b[0m\u001b[0m\n\u001b[0;32m--> 225\u001b[0;31m             \u001b[0mresp\u001b[0m \u001b[0;34m=\u001b[0m \u001b[0mself\u001b[0m\u001b[0;34m.\u001b[0m\u001b[0m_con_pool\u001b[0m\u001b[0;34m.\u001b[0m\u001b[0mrequest\u001b[0m\u001b[0;34m(\u001b[0m\u001b[0;34m*\u001b[0m\u001b[0margs\u001b[0m\u001b[0;34m,\u001b[0m \u001b[0;34m**\u001b[0m\u001b[0mkwargs\u001b[0m\u001b[0;34m)\u001b[0m\u001b[0;34m\u001b[0m\u001b[0m\n\u001b[0m\u001b[1;32m    226\u001b[0m         \u001b[0;32mexcept\u001b[0m \u001b[0murllib3\u001b[0m\u001b[0;34m.\u001b[0m\u001b[0mexceptions\u001b[0m\u001b[0;34m.\u001b[0m\u001b[0mTimeoutError\u001b[0m\u001b[0;34m:\u001b[0m\u001b[0;34m\u001b[0m\u001b[0m\n",
      "\u001b[0;32m~/anaconda3/lib/python3.7/site-packages/telegram/vendor/ptb_urllib3/urllib3/request.py\u001b[0m in \u001b[0;36mrequest\u001b[0;34m(self, method, url, fields, headers, **urlopen_kw)\u001b[0m\n\u001b[1;32m     65\u001b[0m                                            \u001b[0mheaders\u001b[0m\u001b[0;34m=\u001b[0m\u001b[0mheaders\u001b[0m\u001b[0;34m,\u001b[0m\u001b[0;34m\u001b[0m\u001b[0m\n\u001b[0;32m---> 66\u001b[0;31m                                            **urlopen_kw)\n\u001b[0m\u001b[1;32m     67\u001b[0m         \u001b[0;32melse\u001b[0m\u001b[0;34m:\u001b[0m\u001b[0;34m\u001b[0m\u001b[0m\n",
      "\u001b[0;32m~/anaconda3/lib/python3.7/site-packages/telegram/vendor/ptb_urllib3/urllib3/request.py\u001b[0m in \u001b[0;36mrequest_encode_url\u001b[0;34m(self, method, url, fields, headers, **urlopen_kw)\u001b[0m\n\u001b[1;32m     86\u001b[0m \u001b[0;34m\u001b[0m\u001b[0m\n\u001b[0;32m---> 87\u001b[0;31m         \u001b[0;32mreturn\u001b[0m \u001b[0mself\u001b[0m\u001b[0;34m.\u001b[0m\u001b[0murlopen\u001b[0m\u001b[0;34m(\u001b[0m\u001b[0mmethod\u001b[0m\u001b[0;34m,\u001b[0m \u001b[0murl\u001b[0m\u001b[0;34m,\u001b[0m \u001b[0;34m**\u001b[0m\u001b[0mextra_kw\u001b[0m\u001b[0;34m)\u001b[0m\u001b[0;34m\u001b[0m\u001b[0m\n\u001b[0m\u001b[1;32m     88\u001b[0m \u001b[0;34m\u001b[0m\u001b[0m\n",
      "\u001b[0;32m~/anaconda3/lib/python3.7/site-packages/telegram/vendor/ptb_urllib3/urllib3/poolmanager.py\u001b[0m in \u001b[0;36murlopen\u001b[0;34m(self, method, url, redirect, **kw)\u001b[0m\n\u001b[1;32m    243\u001b[0m         \u001b[0;32melse\u001b[0m\u001b[0;34m:\u001b[0m\u001b[0;34m\u001b[0m\u001b[0m\n\u001b[0;32m--> 244\u001b[0;31m             \u001b[0mresponse\u001b[0m \u001b[0;34m=\u001b[0m \u001b[0mconn\u001b[0m\u001b[0;34m.\u001b[0m\u001b[0murlopen\u001b[0m\u001b[0;34m(\u001b[0m\u001b[0mmethod\u001b[0m\u001b[0;34m,\u001b[0m \u001b[0mu\u001b[0m\u001b[0;34m.\u001b[0m\u001b[0mrequest_uri\u001b[0m\u001b[0;34m,\u001b[0m \u001b[0;34m**\u001b[0m\u001b[0mkw\u001b[0m\u001b[0;34m)\u001b[0m\u001b[0;34m\u001b[0m\u001b[0m\n\u001b[0m\u001b[1;32m    245\u001b[0m \u001b[0;34m\u001b[0m\u001b[0m\n",
      "\u001b[0;32m~/anaconda3/lib/python3.7/site-packages/telegram/vendor/ptb_urllib3/urllib3/connectionpool.py\u001b[0m in \u001b[0;36murlopen\u001b[0;34m(self, method, url, body, headers, retries, redirect, assert_same_host, timeout, pool_timeout, release_conn, chunked, body_pos, **response_kw)\u001b[0m\n\u001b[1;32m    694\u001b[0m                                 \u001b[0mrelease_conn\u001b[0m\u001b[0;34m=\u001b[0m\u001b[0mrelease_conn\u001b[0m\u001b[0;34m,\u001b[0m \u001b[0mbody_pos\u001b[0m\u001b[0;34m=\u001b[0m\u001b[0mbody_pos\u001b[0m\u001b[0;34m,\u001b[0m\u001b[0;34m\u001b[0m\u001b[0m\n\u001b[0;32m--> 695\u001b[0;31m                                 **response_kw)\n\u001b[0m\u001b[1;32m    696\u001b[0m \u001b[0;34m\u001b[0m\u001b[0m\n",
      "\u001b[0;32m~/anaconda3/lib/python3.7/site-packages/telegram/vendor/ptb_urllib3/urllib3/connectionpool.py\u001b[0m in \u001b[0;36murlopen\u001b[0;34m(self, method, url, body, headers, retries, redirect, assert_same_host, timeout, pool_timeout, release_conn, chunked, body_pos, **response_kw)\u001b[0m\n\u001b[1;32m    694\u001b[0m                                 \u001b[0mrelease_conn\u001b[0m\u001b[0;34m=\u001b[0m\u001b[0mrelease_conn\u001b[0m\u001b[0;34m,\u001b[0m \u001b[0mbody_pos\u001b[0m\u001b[0;34m=\u001b[0m\u001b[0mbody_pos\u001b[0m\u001b[0;34m,\u001b[0m\u001b[0;34m\u001b[0m\u001b[0m\n\u001b[0;32m--> 695\u001b[0;31m                                 **response_kw)\n\u001b[0m\u001b[1;32m    696\u001b[0m \u001b[0;34m\u001b[0m\u001b[0m\n",
      "\u001b[0;32m~/anaconda3/lib/python3.7/site-packages/telegram/vendor/ptb_urllib3/urllib3/connectionpool.py\u001b[0m in \u001b[0;36murlopen\u001b[0;34m(self, method, url, body, headers, retries, redirect, assert_same_host, timeout, pool_timeout, release_conn, chunked, body_pos, **response_kw)\u001b[0m\n\u001b[1;32m    694\u001b[0m                                 \u001b[0mrelease_conn\u001b[0m\u001b[0;34m=\u001b[0m\u001b[0mrelease_conn\u001b[0m\u001b[0;34m,\u001b[0m \u001b[0mbody_pos\u001b[0m\u001b[0;34m=\u001b[0m\u001b[0mbody_pos\u001b[0m\u001b[0;34m,\u001b[0m\u001b[0;34m\u001b[0m\u001b[0m\n\u001b[0;32m--> 695\u001b[0;31m                                 **response_kw)\n\u001b[0m\u001b[1;32m    696\u001b[0m \u001b[0;34m\u001b[0m\u001b[0m\n",
      "\u001b[0;32m~/anaconda3/lib/python3.7/site-packages/telegram/vendor/ptb_urllib3/urllib3/connectionpool.py\u001b[0m in \u001b[0;36murlopen\u001b[0;34m(self, method, url, body, headers, retries, redirect, assert_same_host, timeout, pool_timeout, release_conn, chunked, body_pos, **response_kw)\u001b[0m\n\u001b[1;32m    665\u001b[0m             retries = retries.increment(method, url, error=e, _pool=self,\n\u001b[0;32m--> 666\u001b[0;31m                                         _stacktrace=sys.exc_info()[2])\n\u001b[0m\u001b[1;32m    667\u001b[0m             \u001b[0mretries\u001b[0m\u001b[0;34m.\u001b[0m\u001b[0msleep\u001b[0m\u001b[0;34m(\u001b[0m\u001b[0;34m)\u001b[0m\u001b[0;34m\u001b[0m\u001b[0m\n",
      "\u001b[0;32m~/anaconda3/lib/python3.7/site-packages/telegram/vendor/ptb_urllib3/urllib3/util/retry.py\u001b[0m in \u001b[0;36mincrement\u001b[0;34m(self, method, url, response, error, _pool, _stacktrace)\u001b[0m\n\u001b[1;32m    375\u001b[0m         \u001b[0;32mif\u001b[0m \u001b[0mnew_retry\u001b[0m\u001b[0;34m.\u001b[0m\u001b[0mis_exhausted\u001b[0m\u001b[0;34m(\u001b[0m\u001b[0;34m)\u001b[0m\u001b[0;34m:\u001b[0m\u001b[0;34m\u001b[0m\u001b[0m\n\u001b[0;32m--> 376\u001b[0;31m             \u001b[0;32mraise\u001b[0m \u001b[0mMaxRetryError\u001b[0m\u001b[0;34m(\u001b[0m\u001b[0m_pool\u001b[0m\u001b[0;34m,\u001b[0m \u001b[0murl\u001b[0m\u001b[0;34m,\u001b[0m \u001b[0merror\u001b[0m \u001b[0;32mor\u001b[0m \u001b[0mResponseError\u001b[0m\u001b[0;34m(\u001b[0m\u001b[0mcause\u001b[0m\u001b[0;34m)\u001b[0m\u001b[0;34m)\u001b[0m\u001b[0;34m\u001b[0m\u001b[0m\n\u001b[0m\u001b[1;32m    377\u001b[0m \u001b[0;34m\u001b[0m\u001b[0m\n",
      "\u001b[0;31mMaxRetryError\u001b[0m: HTTPSConnectionPool(host='api.telegram.org', port=443): Max retries exceeded with url: /bot1005315252:AAH3vw40Y3WJnSWanSCjD2ywyS8xqe-pBZ8/getMe (Caused by NewConnectionError('<telegram.vendor.ptb_urllib3.urllib3.connection.VerifiedHTTPSConnection object at 0x10d23ccc0>: Failed to establish a new connection: [Errno 61] Connection refused'))",
      "\nDuring handling of the above exception, another exception occurred:\n",
      "\u001b[0;31mNetworkError\u001b[0m         Traceback (most recent call last)",
      "\u001b[0;32m<ipython-input-28-d58eb653fdf3>\u001b[0m in \u001b[0;36m<module>\u001b[0;34m()\u001b[0m\n\u001b[1;32m      1\u001b[0m \u001b[0;31m# эта ячейка зависнет при запуске - потому что пока она запущена\u001b[0m\u001b[0;34m\u001b[0m\u001b[0;34m\u001b[0m\u001b[0m\n\u001b[1;32m      2\u001b[0m \u001b[0;31m# она контролирует работу бота в телеграме. если она не запущена - бот в телеграме не отвечает\u001b[0m\u001b[0;34m\u001b[0m\u001b[0;34m\u001b[0m\u001b[0m\n\u001b[0;32m----> 3\u001b[0;31m \u001b[0mmain\u001b[0m\u001b[0;34m(\u001b[0m\u001b[0;34m)\u001b[0m\u001b[0;34m\u001b[0m\u001b[0m\n\u001b[0m",
      "\u001b[0;32m<ipython-input-27-bb10ef391605>\u001b[0m in \u001b[0;36mmain\u001b[0;34m()\u001b[0m\n\u001b[1;32m     23\u001b[0m     \u001b[0mdp\u001b[0m\u001b[0;34m.\u001b[0m\u001b[0madd_error_handler\u001b[0m\u001b[0;34m(\u001b[0m\u001b[0merror\u001b[0m\u001b[0;34m)\u001b[0m\u001b[0;34m\u001b[0m\u001b[0m\n\u001b[1;32m     24\u001b[0m     \u001b[0;31m# Start the Bot\u001b[0m\u001b[0;34m\u001b[0m\u001b[0;34m\u001b[0m\u001b[0m\n\u001b[0;32m---> 25\u001b[0;31m     \u001b[0mupdater\u001b[0m\u001b[0;34m.\u001b[0m\u001b[0mstart_polling\u001b[0m\u001b[0;34m(\u001b[0m\u001b[0;34m)\u001b[0m\u001b[0;34m\u001b[0m\u001b[0m\n\u001b[0m\u001b[1;32m     26\u001b[0m \u001b[0;34m\u001b[0m\u001b[0m\n\u001b[1;32m     27\u001b[0m     \u001b[0;31m# Run the bot until you press Ctrl-C or the process receives SIGINT,\u001b[0m\u001b[0;34m\u001b[0m\u001b[0;34m\u001b[0m\u001b[0m\n",
      "\u001b[0;32m~/anaconda3/lib/python3.7/site-packages/telegram/ext/updater.py\u001b[0m in \u001b[0;36mstart_polling\u001b[0;34m(self, poll_interval, timeout, clean, bootstrap_retries, read_latency, allowed_updates)\u001b[0m\n\u001b[1;32m    256\u001b[0m \u001b[0;34m\u001b[0m\u001b[0m\n\u001b[1;32m    257\u001b[0m                 \u001b[0;31m# Create & start threads\u001b[0m\u001b[0;34m\u001b[0m\u001b[0;34m\u001b[0m\u001b[0m\n\u001b[0;32m--> 258\u001b[0;31m                 \u001b[0mself\u001b[0m\u001b[0;34m.\u001b[0m\u001b[0mjob_queue\u001b[0m\u001b[0;34m.\u001b[0m\u001b[0mstart\u001b[0m\u001b[0;34m(\u001b[0m\u001b[0;34m)\u001b[0m\u001b[0;34m\u001b[0m\u001b[0m\n\u001b[0m\u001b[1;32m    259\u001b[0m                 \u001b[0mdispatcher_ready\u001b[0m \u001b[0;34m=\u001b[0m \u001b[0mEvent\u001b[0m\u001b[0;34m(\u001b[0m\u001b[0;34m)\u001b[0m\u001b[0;34m\u001b[0m\u001b[0m\n\u001b[1;32m    260\u001b[0m                 \u001b[0mself\u001b[0m\u001b[0;34m.\u001b[0m\u001b[0m_init_thread\u001b[0m\u001b[0;34m(\u001b[0m\u001b[0mself\u001b[0m\u001b[0;34m.\u001b[0m\u001b[0mdispatcher\u001b[0m\u001b[0;34m.\u001b[0m\u001b[0mstart\u001b[0m\u001b[0;34m,\u001b[0m \u001b[0;34m\"dispatcher\"\u001b[0m\u001b[0;34m,\u001b[0m \u001b[0mready\u001b[0m\u001b[0;34m=\u001b[0m\u001b[0mdispatcher_ready\u001b[0m\u001b[0;34m)\u001b[0m\u001b[0;34m\u001b[0m\u001b[0m\n",
      "\u001b[0;32m~/anaconda3/lib/python3.7/site-packages/telegram/ext/jobqueue.py\u001b[0m in \u001b[0;36mstart\u001b[0;34m(self)\u001b[0m\n\u001b[1;32m    309\u001b[0m             \u001b[0mself\u001b[0m\u001b[0;34m.\u001b[0m\u001b[0m__start_lock\u001b[0m\u001b[0;34m.\u001b[0m\u001b[0mrelease\u001b[0m\u001b[0;34m(\u001b[0m\u001b[0;34m)\u001b[0m\u001b[0;34m\u001b[0m\u001b[0m\n\u001b[1;32m    310\u001b[0m             self.__thread = Thread(target=self._main_loop,\n\u001b[0;32m--> 311\u001b[0;31m                                    name=\"Bot:{}:job_queue\".format(self._dispatcher.bot.id))\n\u001b[0m\u001b[1;32m    312\u001b[0m             \u001b[0mself\u001b[0m\u001b[0;34m.\u001b[0m\u001b[0m__thread\u001b[0m\u001b[0;34m.\u001b[0m\u001b[0mstart\u001b[0m\u001b[0;34m(\u001b[0m\u001b[0;34m)\u001b[0m\u001b[0;34m\u001b[0m\u001b[0m\n\u001b[1;32m    313\u001b[0m             \u001b[0mself\u001b[0m\u001b[0;34m.\u001b[0m\u001b[0mlogger\u001b[0m\u001b[0;34m.\u001b[0m\u001b[0mdebug\u001b[0m\u001b[0;34m(\u001b[0m\u001b[0;34m'%s thread started'\u001b[0m\u001b[0;34m,\u001b[0m \u001b[0mself\u001b[0m\u001b[0;34m.\u001b[0m\u001b[0m__class__\u001b[0m\u001b[0;34m.\u001b[0m\u001b[0m__name__\u001b[0m\u001b[0;34m)\u001b[0m\u001b[0;34m\u001b[0m\u001b[0m\n",
      "\u001b[0;32m~/anaconda3/lib/python3.7/site-packages/telegram/bot.py\u001b[0m in \u001b[0;36mdecorator\u001b[0;34m(self, *args, **kwargs)\u001b[0m\n\u001b[1;32m     52\u001b[0m     \u001b[0;32mdef\u001b[0m \u001b[0mdecorator\u001b[0m\u001b[0;34m(\u001b[0m\u001b[0mself\u001b[0m\u001b[0;34m,\u001b[0m \u001b[0;34m*\u001b[0m\u001b[0margs\u001b[0m\u001b[0;34m,\u001b[0m \u001b[0;34m**\u001b[0m\u001b[0mkwargs\u001b[0m\u001b[0;34m)\u001b[0m\u001b[0;34m:\u001b[0m\u001b[0;34m\u001b[0m\u001b[0m\n\u001b[1;32m     53\u001b[0m         \u001b[0;32mif\u001b[0m \u001b[0;32mnot\u001b[0m \u001b[0mself\u001b[0m\u001b[0;34m.\u001b[0m\u001b[0mbot\u001b[0m\u001b[0;34m:\u001b[0m\u001b[0;34m\u001b[0m\u001b[0m\n\u001b[0;32m---> 54\u001b[0;31m             \u001b[0mself\u001b[0m\u001b[0;34m.\u001b[0m\u001b[0mget_me\u001b[0m\u001b[0;34m(\u001b[0m\u001b[0;34m)\u001b[0m\u001b[0;34m\u001b[0m\u001b[0m\n\u001b[0m\u001b[1;32m     55\u001b[0m \u001b[0;34m\u001b[0m\u001b[0m\n\u001b[1;32m     56\u001b[0m         \u001b[0mresult\u001b[0m \u001b[0;34m=\u001b[0m \u001b[0mfunc\u001b[0m\u001b[0;34m(\u001b[0m\u001b[0mself\u001b[0m\u001b[0;34m,\u001b[0m \u001b[0;34m*\u001b[0m\u001b[0margs\u001b[0m\u001b[0;34m,\u001b[0m \u001b[0;34m**\u001b[0m\u001b[0mkwargs\u001b[0m\u001b[0;34m)\u001b[0m\u001b[0;34m\u001b[0m\u001b[0m\n",
      "\u001b[0;32m</Users/biryuk/anaconda3/lib/python3.7/site-packages/decorator.py:decorator-gen-125>\u001b[0m in \u001b[0;36mget_me\u001b[0;34m(self, timeout, **kwargs)\u001b[0m\n",
      "\u001b[0;32m~/anaconda3/lib/python3.7/site-packages/telegram/bot.py\u001b[0m in \u001b[0;36mdecorator\u001b[0;34m(self, *args, **kwargs)\u001b[0m\n\u001b[1;32m     65\u001b[0m     \u001b[0;32mdef\u001b[0m \u001b[0mdecorator\u001b[0m\u001b[0;34m(\u001b[0m\u001b[0mself\u001b[0m\u001b[0;34m,\u001b[0m \u001b[0;34m*\u001b[0m\u001b[0margs\u001b[0m\u001b[0;34m,\u001b[0m \u001b[0;34m**\u001b[0m\u001b[0mkwargs\u001b[0m\u001b[0;34m)\u001b[0m\u001b[0;34m:\u001b[0m\u001b[0;34m\u001b[0m\u001b[0m\n\u001b[1;32m     66\u001b[0m         \u001b[0mlogger\u001b[0m\u001b[0;34m.\u001b[0m\u001b[0mdebug\u001b[0m\u001b[0;34m(\u001b[0m\u001b[0;34m'Entering: %s'\u001b[0m\u001b[0;34m,\u001b[0m \u001b[0mfunc\u001b[0m\u001b[0;34m.\u001b[0m\u001b[0m__name__\u001b[0m\u001b[0;34m)\u001b[0m\u001b[0;34m\u001b[0m\u001b[0m\n\u001b[0;32m---> 67\u001b[0;31m         \u001b[0mresult\u001b[0m \u001b[0;34m=\u001b[0m \u001b[0mfunc\u001b[0m\u001b[0;34m(\u001b[0m\u001b[0;34m*\u001b[0m\u001b[0margs\u001b[0m\u001b[0;34m,\u001b[0m \u001b[0;34m**\u001b[0m\u001b[0mkwargs\u001b[0m\u001b[0;34m)\u001b[0m\u001b[0;34m\u001b[0m\u001b[0m\n\u001b[0m\u001b[1;32m     68\u001b[0m         \u001b[0mlogger\u001b[0m\u001b[0;34m.\u001b[0m\u001b[0mdebug\u001b[0m\u001b[0;34m(\u001b[0m\u001b[0mresult\u001b[0m\u001b[0;34m)\u001b[0m\u001b[0;34m\u001b[0m\u001b[0m\n\u001b[1;32m     69\u001b[0m         \u001b[0mlogger\u001b[0m\u001b[0;34m.\u001b[0m\u001b[0mdebug\u001b[0m\u001b[0;34m(\u001b[0m\u001b[0;34m'Exiting: %s'\u001b[0m\u001b[0;34m,\u001b[0m \u001b[0mfunc\u001b[0m\u001b[0;34m.\u001b[0m\u001b[0m__name__\u001b[0m\u001b[0;34m)\u001b[0m\u001b[0;34m\u001b[0m\u001b[0m\n",
      "\u001b[0;32m~/anaconda3/lib/python3.7/site-packages/telegram/bot.py\u001b[0m in \u001b[0;36mget_me\u001b[0;34m(self, timeout, **kwargs)\u001b[0m\n\u001b[1;32m    249\u001b[0m         \u001b[0murl\u001b[0m \u001b[0;34m=\u001b[0m \u001b[0;34m'{0}/getMe'\u001b[0m\u001b[0;34m.\u001b[0m\u001b[0mformat\u001b[0m\u001b[0;34m(\u001b[0m\u001b[0mself\u001b[0m\u001b[0;34m.\u001b[0m\u001b[0mbase_url\u001b[0m\u001b[0;34m)\u001b[0m\u001b[0;34m\u001b[0m\u001b[0m\n\u001b[1;32m    250\u001b[0m \u001b[0;34m\u001b[0m\u001b[0m\n\u001b[0;32m--> 251\u001b[0;31m         \u001b[0mresult\u001b[0m \u001b[0;34m=\u001b[0m \u001b[0mself\u001b[0m\u001b[0;34m.\u001b[0m\u001b[0m_request\u001b[0m\u001b[0;34m.\u001b[0m\u001b[0mget\u001b[0m\u001b[0;34m(\u001b[0m\u001b[0murl\u001b[0m\u001b[0;34m,\u001b[0m \u001b[0mtimeout\u001b[0m\u001b[0;34m=\u001b[0m\u001b[0mtimeout\u001b[0m\u001b[0;34m)\u001b[0m\u001b[0;34m\u001b[0m\u001b[0m\n\u001b[0m\u001b[1;32m    252\u001b[0m \u001b[0;34m\u001b[0m\u001b[0m\n\u001b[1;32m    253\u001b[0m         \u001b[0mself\u001b[0m\u001b[0;34m.\u001b[0m\u001b[0mbot\u001b[0m \u001b[0;34m=\u001b[0m \u001b[0mUser\u001b[0m\u001b[0;34m.\u001b[0m\u001b[0mde_json\u001b[0m\u001b[0;34m(\u001b[0m\u001b[0mresult\u001b[0m\u001b[0;34m,\u001b[0m \u001b[0mself\u001b[0m\u001b[0;34m)\u001b[0m\u001b[0;34m\u001b[0m\u001b[0m\n",
      "\u001b[0;32m~/anaconda3/lib/python3.7/site-packages/telegram/utils/request.py\u001b[0m in \u001b[0;36mget\u001b[0;34m(self, url, timeout)\u001b[0m\n\u001b[1;32m    275\u001b[0m             \u001b[0murlopen_kwargs\u001b[0m\u001b[0;34m[\u001b[0m\u001b[0;34m'timeout'\u001b[0m\u001b[0;34m]\u001b[0m \u001b[0;34m=\u001b[0m \u001b[0mTimeout\u001b[0m\u001b[0;34m(\u001b[0m\u001b[0mread\u001b[0m\u001b[0;34m=\u001b[0m\u001b[0mtimeout\u001b[0m\u001b[0;34m,\u001b[0m \u001b[0mconnect\u001b[0m\u001b[0;34m=\u001b[0m\u001b[0mself\u001b[0m\u001b[0;34m.\u001b[0m\u001b[0m_connect_timeout\u001b[0m\u001b[0;34m)\u001b[0m\u001b[0;34m\u001b[0m\u001b[0m\n\u001b[1;32m    276\u001b[0m \u001b[0;34m\u001b[0m\u001b[0m\n\u001b[0;32m--> 277\u001b[0;31m         \u001b[0mresult\u001b[0m \u001b[0;34m=\u001b[0m \u001b[0mself\u001b[0m\u001b[0;34m.\u001b[0m\u001b[0m_request_wrapper\u001b[0m\u001b[0;34m(\u001b[0m\u001b[0;34m'GET'\u001b[0m\u001b[0;34m,\u001b[0m \u001b[0murl\u001b[0m\u001b[0;34m,\u001b[0m \u001b[0;34m**\u001b[0m\u001b[0murlopen_kwargs\u001b[0m\u001b[0;34m)\u001b[0m\u001b[0;34m\u001b[0m\u001b[0m\n\u001b[0m\u001b[1;32m    278\u001b[0m         \u001b[0;32mreturn\u001b[0m \u001b[0mself\u001b[0m\u001b[0;34m.\u001b[0m\u001b[0m_parse\u001b[0m\u001b[0;34m(\u001b[0m\u001b[0mresult\u001b[0m\u001b[0;34m)\u001b[0m\u001b[0;34m\u001b[0m\u001b[0m\n\u001b[1;32m    279\u001b[0m \u001b[0;34m\u001b[0m\u001b[0m\n",
      "\u001b[0;32m~/anaconda3/lib/python3.7/site-packages/telegram/utils/request.py\u001b[0m in \u001b[0;36m_request_wrapper\u001b[0;34m(self, *args, **kwargs)\u001b[0m\n\u001b[1;32m    229\u001b[0m             \u001b[0;31m# HTTPError must come last as its the base urllib3 exception class\u001b[0m\u001b[0;34m\u001b[0m\u001b[0;34m\u001b[0m\u001b[0m\n\u001b[1;32m    230\u001b[0m             \u001b[0;31m# TODO: do something smart here; for now just raise NetworkError\u001b[0m\u001b[0;34m\u001b[0m\u001b[0;34m\u001b[0m\u001b[0m\n\u001b[0;32m--> 231\u001b[0;31m             \u001b[0;32mraise\u001b[0m \u001b[0mNetworkError\u001b[0m\u001b[0;34m(\u001b[0m\u001b[0;34m'urllib3 HTTPError {0}'\u001b[0m\u001b[0;34m.\u001b[0m\u001b[0mformat\u001b[0m\u001b[0;34m(\u001b[0m\u001b[0merror\u001b[0m\u001b[0;34m)\u001b[0m\u001b[0;34m)\u001b[0m\u001b[0;34m\u001b[0m\u001b[0m\n\u001b[0m\u001b[1;32m    232\u001b[0m \u001b[0;34m\u001b[0m\u001b[0m\n\u001b[1;32m    233\u001b[0m         \u001b[0;32mif\u001b[0m \u001b[0;36m200\u001b[0m \u001b[0;34m<=\u001b[0m \u001b[0mresp\u001b[0m\u001b[0;34m.\u001b[0m\u001b[0mstatus\u001b[0m \u001b[0;34m<=\u001b[0m \u001b[0;36m299\u001b[0m\u001b[0;34m:\u001b[0m\u001b[0;34m\u001b[0m\u001b[0m\n",
      "\u001b[0;31mNetworkError\u001b[0m: urllib3 HTTPError HTTPSConnectionPool(host='api.telegram.org', port=443): Max retries exceeded with url: /bot1005315252:AAH3vw40Y3WJnSWanSCjD2ywyS8xqe-pBZ8/getMe (Caused by NewConnectionError('<telegram.vendor.ptb_urllib3.urllib3.connection.VerifiedHTTPSConnection object at 0x10d23ccc0>: Failed to establish a new connection: [Errno 61] Connection refused'))"
     ]
    }
   ],
   "source": [
    "# эта ячейка зависнет при запуске - потому что пока она запущена\n",
    "# она контролирует работу бота в телеграме. если она не запущена - бот в телеграме не отвечает\n",
    "main()"
   ]
  },
  {
   "cell_type": "code",
   "execution_count": null,
   "metadata": {},
   "outputs": [],
   "source": []
  },
  {
   "cell_type": "markdown",
   "metadata": {},
   "source": [
    "## TgBot а теперь с ИИ"
   ]
  },
  {
   "cell_type": "markdown",
   "metadata": {},
   "source": [
    "Концептуально нового  здесь ничего нет. по сути демонстрация и пересказ одного из туториалов выше"
   ]
  },
  {
   "cell_type": "code",
   "execution_count": 44,
   "metadata": {},
   "outputs": [
    {
     "name": "stdout",
     "output_type": "stream",
     "text": [
      "Collecting apiai\n",
      "  Downloading https://files.pythonhosted.org/packages/34/b3/c5bf31e1980b89dfc6f8a3d70d64988fb619ed831109b500b254fe541ce6/apiai-1.2.3-py2.py3-none-any.whl\n",
      "Requirement already satisfied: numpy in /Users/biryuk/anaconda3/lib/python3.7/site-packages (from apiai) (1.16.2)\n",
      "Installing collected packages: apiai\n",
      "Successfully installed apiai-1.2.3\n",
      "\u001b[33mYou are using pip version 19.0.3, however version 20.0.2 is available.\n",
      "You should consider upgrading via the 'pip install --upgrade pip' command.\u001b[0m\n"
     ]
    }
   ],
   "source": [
    "!pip install apiai"
   ]
  },
  {
   "cell_type": "code",
   "execution_count": 47,
   "metadata": {},
   "outputs": [
    {
     "name": "stderr",
     "output_type": "stream",
     "text": [
      "/Users/biryuk/anaconda3/lib/python3.7/site-packages/ipykernel_launcher.py:3: TelegramDeprecationWarning: Old Handler API is deprecated - see https://git.io/fxJuV for details\n",
      "  This is separate from the ipykernel package so we can avoid doing imports until\n"
     ]
    }
   ],
   "source": [
    "from telegram.ext import Updater, CommandHandler, MessageHandler, Filters\n",
    "import apiai, json\n",
    "updater = Updater(token=API_TOKEN) # Токен API к Telegram\n",
    "dispatcher = updater.dispatcher"
   ]
  },
  {
   "cell_type": "code",
   "execution_count": 48,
   "metadata": {},
   "outputs": [],
   "source": [
    "#Суть то же самое приветствие\n",
    "def startCommand(bot, update):\n",
    "    bot.send_message(chat_id=update.message.chat_id, text='Привет, давай пообщаемся?')"
   ]
  },
  {
   "cell_type": "code",
   "execution_count": 49,
   "metadata": {},
   "outputs": [],
   "source": [
    "API_TOKEN_FOR_AI = 'TOKEN'\n",
    "client = apiai.ApiAI(API_TOKEN_FOR_AI)\n"
   ]
  },
  {
   "cell_type": "markdown",
   "metadata": {},
   "source": [
    "По сути в нашем боте не будет никакой логики. Он будет принимать текст, оттправлять его в DialogFlow, смотреть что ответит бот там, а потом отправлять данный той машинерией ответ назад пользователю. Зато красиво.\n",
    "Инструкция как получить ключ: https://habr.com/ru/post/346606/"
   ]
  },
  {
   "cell_type": "code",
   "execution_count": 50,
   "metadata": {},
   "outputs": [],
   "source": [
    "def textMessage(bot, update):\n",
    "    request = client.text_request() # Токен API к Dialogflow\n",
    "    request.lang = 'ru' # На каком языке будет послан запрос\n",
    "    request.session_id = 'HseBot' # ID Сессии диалога (нужно, чтобы потом учить бота)\n",
    "    request.query = update.message.text # Посылаем запрос к ИИ с сообщением от юзера\n",
    "    responseJson = json.loads(request.getresponse().read().decode('utf-8'))\n",
    "    response = responseJson['result']['fulfillment']['speech'] # Разбираем JSON и вытаскиваем ответ\n",
    "    # Если есть ответ от бота - присылаем юзеру, если нет - бот его не понял\n",
    "    if response:\n",
    "        bot.send_message(chat_id=update.message.chat_id, text=response)\n",
    "    else:\n",
    "        bot.send_message(chat_id=update.message.chat_id, text='Я Вас не совсем понял!')"
   ]
  },
  {
   "cell_type": "code",
   "execution_count": null,
   "metadata": {},
   "outputs": [
    {
     "name": "stderr",
     "output_type": "stream",
     "text": [
      "2020-03-16 09:50:55,703 - telegram.vendor.ptb_urllib3.urllib3.connectionpool - WARNING - Retrying (Retry(total=2, connect=None, read=None, redirect=None)) after connection broken by 'NewConnectionError('<telegram.vendor.ptb_urllib3.urllib3.connection.VerifiedHTTPSConnection object at 0x117d77cc0>: Failed to establish a new connection: [Errno 61] Connection refused')': /bot1005315252:AAH3vw40Y3WJnSWanSCjD2ywyS8xqe-pBZ8/deleteWebhook\n",
      "2020-03-16 09:50:55,734 - telegram.vendor.ptb_urllib3.urllib3.connectionpool - WARNING - Retrying (Retry(total=1, connect=None, read=None, redirect=None)) after connection broken by 'NewConnectionError('<telegram.vendor.ptb_urllib3.urllib3.connection.VerifiedHTTPSConnection object at 0x117d77710>: Failed to establish a new connection: [Errno 61] Connection refused')': /bot1005315252:AAH3vw40Y3WJnSWanSCjD2ywyS8xqe-pBZ8/deleteWebhook\n",
      "2020-03-16 09:50:55,761 - telegram.vendor.ptb_urllib3.urllib3.connectionpool - WARNING - Retrying (Retry(total=0, connect=None, read=None, redirect=None)) after connection broken by 'NewConnectionError('<telegram.vendor.ptb_urllib3.urllib3.connection.VerifiedHTTPSConnection object at 0x117d77f28>: Failed to establish a new connection: [Errno 61] Connection refused')': /bot1005315252:AAH3vw40Y3WJnSWanSCjD2ywyS8xqe-pBZ8/deleteWebhook\n",
      "2020-03-16 09:50:55,794 - telegram.ext.updater - ERROR - Error while bootstrap del webhook: urllib3 HTTPError HTTPSConnectionPool(host='api.telegram.org', port=443): Max retries exceeded with url: /bot1005315252:AAH3vw40Y3WJnSWanSCjD2ywyS8xqe-pBZ8/deleteWebhook (Caused by NewConnectionError('<telegram.vendor.ptb_urllib3.urllib3.connection.VerifiedHTTPSConnection object at 0x117d7f080>: Failed to establish a new connection: [Errno 61] Connection refused'))\n",
      "2020-03-16 09:50:55,795 - telegram.ext.updater - WARNING - Failed bootstrap phase; try=1 max_retries=-1\n",
      "2020-03-16 09:51:03,336 - telegram.vendor.ptb_urllib3.urllib3.connectionpool - WARNING - Retrying (Retry(total=2, connect=None, read=None, redirect=None)) after connection broken by 'NewConnectionError('<telegram.vendor.ptb_urllib3.urllib3.connection.VerifiedHTTPSConnection object at 0x117d7f0b8>: Failed to establish a new connection: [Errno 61] Connection refused')': /bot1005315252:AAH3vw40Y3WJnSWanSCjD2ywyS8xqe-pBZ8/deleteWebhook\n",
      "2020-03-16 09:51:03,357 - telegram.vendor.ptb_urllib3.urllib3.connectionpool - WARNING - Retrying (Retry(total=1, connect=None, read=None, redirect=None)) after connection broken by 'NewConnectionError('<telegram.vendor.ptb_urllib3.urllib3.connection.VerifiedHTTPSConnection object at 0x117d7f320>: Failed to establish a new connection: [Errno 61] Connection refused')': /bot1005315252:AAH3vw40Y3WJnSWanSCjD2ywyS8xqe-pBZ8/deleteWebhook\n",
      "2020-03-16 09:51:03,387 - telegram.vendor.ptb_urllib3.urllib3.connectionpool - WARNING - Retrying (Retry(total=0, connect=None, read=None, redirect=None)) after connection broken by 'NewConnectionError('<telegram.vendor.ptb_urllib3.urllib3.connection.VerifiedHTTPSConnection object at 0x117d7f518>: Failed to establish a new connection: [Errno 61] Connection refused')': /bot1005315252:AAH3vw40Y3WJnSWanSCjD2ywyS8xqe-pBZ8/deleteWebhook\n",
      "2020-03-16 09:51:03,411 - telegram.ext.updater - ERROR - Error while bootstrap del webhook: urllib3 HTTPError HTTPSConnectionPool(host='api.telegram.org', port=443): Max retries exceeded with url: /bot1005315252:AAH3vw40Y3WJnSWanSCjD2ywyS8xqe-pBZ8/deleteWebhook (Caused by NewConnectionError('<telegram.vendor.ptb_urllib3.urllib3.connection.VerifiedHTTPSConnection object at 0x117d7f5f8>: Failed to establish a new connection: [Errno 61] Connection refused'))\n",
      "2020-03-16 09:51:03,412 - telegram.ext.updater - WARNING - Failed bootstrap phase; try=2 max_retries=-1\n",
      "2020-03-16 09:51:07,222 - telegram.ext.updater - INFO - Received signal 2 (SIGINT), stopping...\n"
     ]
    }
   ],
   "source": [
    "# Хендлеры\n",
    "start_command_handler = CommandHandler('start', startCommand)\n",
    "text_message_handler = MessageHandler(Filters.text, textMessage)\n",
    "# Добавляем хендлеры в диспетчер\n",
    "dispatcher.add_handler(start_command_handler)\n",
    "dispatcher.add_handler(text_message_handler)\n",
    "# Начинаем поиск обновлений\n",
    "updater.start_polling(clean=True)\n",
    "# Останавливаем бота, если были нажаты Ctrl + C\n",
    "updater.idle()"
   ]
  },
  {
   "cell_type": "markdown",
   "metadata": {},
   "source": [
    "## VK API"
   ]
  },
  {
   "cell_type": "markdown",
   "metadata": {},
   "source": [
    "Возможно в этом месте вы задумаетесь как же находить удобные модули. Вот например для вк. Или для твиттера. Или для инстаграмма. Спасает https://github.com/ или Google. Но первый обычно удобнее. В поиске пишем более мнее внятно и коротко что мы хотим, потом добавляем язык на котором нас это интересует (в нашем случае это python или jupiter notebook) и вуаля. Чем больше звезд - тем более популярна и признана библиотека. Использовать такие проще и потятнее, а еще у них чаще бывает внятная документация.\n",
    "\n",
    "Популярна вот эта:\n",
    "https://github.com/python273/vk_api\n",
    "\n",
    "Хотя не менее популярна вот эта: https://github.com/voronind/vk и ее мы тоже посмотрим.\n",
    "\n",
    "Hазницы по факту почти никакой. Для личного быстрого пользования проще авторизоваться и использовать первую. "
   ]
  },
  {
   "cell_type": "code",
   "execution_count": 1,
   "metadata": {},
   "outputs": [
    {
     "name": "stdout",
     "output_type": "stream",
     "text": [
      "Requirement already satisfied: vk_api in /Users/biryuk/anaconda3/lib/python3.7/site-packages (11.7.0)\n",
      "Requirement already satisfied: vk in /Users/biryuk/anaconda3/lib/python3.7/site-packages (2.0.2)\n",
      "Requirement already satisfied: six in /Users/biryuk/anaconda3/lib/python3.7/site-packages (from vk_api) (1.11.0)\n",
      "Requirement already satisfied: requests in /Users/biryuk/anaconda3/lib/python3.7/site-packages (from vk_api) (2.21.0)\n",
      "Requirement already satisfied: idna<2.9,>=2.5 in /Users/biryuk/anaconda3/lib/python3.7/site-packages (from requests->vk_api) (2.8)\n",
      "Requirement already satisfied: chardet<3.1.0,>=3.0.2 in /Users/biryuk/anaconda3/lib/python3.7/site-packages (from requests->vk_api) (3.0.4)\n",
      "Requirement already satisfied: certifi>=2017.4.17 in /Users/biryuk/anaconda3/lib/python3.7/site-packages (from requests->vk_api) (2019.3.9)\n",
      "Requirement already satisfied: urllib3<1.25,>=1.21.1 in /Users/biryuk/anaconda3/lib/python3.7/site-packages (from requests->vk_api) (1.24.1)\n",
      "\u001b[33mYou are using pip version 19.0.3, however version 20.0.2 is available.\n",
      "You should consider upgrading via the 'pip install --upgrade pip' command.\u001b[0m\n"
     ]
    }
   ],
   "source": [
    "! pip install vk_api vk"
   ]
  },
  {
   "cell_type": "markdown",
   "metadata": {},
   "source": [
    "Самое сложное в начале работы с вк - получить несчастный ключ доступа. Оно и хорошо с другой стороны - этот ключ доступа дает полное право на работу от имени любого человека, все равно что знание логина и пароля. Мы обойдемся без этого. Два наиболее простых варианта - взять включ от приложения (и для этого надо самому завести приложение). Или ключ от сообщества. Оба берутся в настройках и просто копируются.\n",
    "\n",
    "ВНИМАНИЕ: ключ доступа - все равно что логин и пароль. не передедвайте их никому"
   ]
  },
  {
   "cell_type": "code",
   "execution_count": 30,
   "metadata": {},
   "outputs": [],
   "source": [
    "import vk # загружаем модуль, второй\n",
    "API_TOKEN_VK = '21707fdf21707fdf21707fdf37212485c92217021707fdf7f1efcaad74eb69d965313a9'\n",
    "session = vk.Session(access_token=API_TOKEN_VK)\n",
    "my_api = vk.API(session, v='5.103')\n"
   ]
  },
  {
   "cell_type": "markdown",
   "metadata": {},
   "source": [
    "Теперь у нас есть возможность использовать информацию с вк по средствам my_api - своего рода \"тунеля\" до вконтакте. Все интересующие функции можно найти в https://vk.com/dev/methods\n",
    "\n",
    "Напомню. мы используем ключ доступа приложения, а потому толком не авторизовались. Мы не можем писать сообщения, публикации на стене, не можем смотреть закрытые профили, но можем смотреть на пользователей где это возможно =)"
   ]
  },
  {
   "cell_type": "markdown",
   "metadata": {},
   "source": [
    "Терепрь у нас есть метод модуль который позволяет взаимодействовать с вк! погнали.\n",
    "В целях эксперимента посмотрим какую нибудь информацию о пользователе. Например, список другей первого круга, второго и третьго."
   ]
  },
  {
   "cell_type": "code",
   "execution_count": 32,
   "metadata": {},
   "outputs": [
    {
     "name": "stdout",
     "output_type": "stream",
     "text": [
      "[{'id': 174143467, 'first_name': 'Anastasia', 'last_name': 'Vorobyova', 'is_closed': False, 'can_access_closed': True}]\n"
     ]
    }
   ],
   "source": [
    "user_to_prepare = 'vorobevana' # пользователь, с которого начнем. \n",
    "\n",
    "user_info = my_api.users.get(user_ids=user_to_prepare) # посмотрим что видно про пользователя\n",
    "print(user_info)\n",
    "start_id = user_info[0]['id']"
   ]
  },
  {
   "cell_type": "code",
   "execution_count": 34,
   "metadata": {},
   "outputs": [
    {
     "name": "stdout",
     "output_type": "stream",
     "text": [
      "{'count': 407, 'items': [1467698, 2233698, 2594910, 4378298, 4552040, 5486806, 5801775, 6198894, 8008518, 9458352, 9891410, 9940752, 10484972, 10543902, 14162314, 14922784, 17279168, 18463599, 18572146, 20581815, 20704105, 21387930, 22495414, 22768314, 26007040, 26069773, 26358992, 27329564, 27913053, 28624978, 30484221, 30825085, 31211914, 31979264, 34018852, 34800335, 35519612, 40294783, 40865513, 44183777, 44250199, 46300439, 47531348, 47719965, 48887509, 49486124, 49641482, 50513029, 51080973, 51081096, 52380512, 53301369, 53414158, 53493744, 55889866, 57164417, 57490662, 57499188, 58903574, 60062487, 60293787, 62731697, 62819064, 63769714, 66832017, 69238678, 71100999, 73045899, 73816401, 75873015, 76723039, 76991683, 77151843, 78401573, 78473150, 80017106, 81827547, 82185380, 82715561, 82858281, 83076438, 84231303, 84440975, 86453466, 86791591, 86895494, 91681119, 92267363, 92345542, 93588459, 93873904, 94053804, 94147875, 95576514, 96918865, 97934145, 100548999, 100741742, 101701477, 102992733, 103099091, 103190352, 103313375, 103605329, 104857494, 104949205, 105103519, 105338832, 106652617, 107907518, 108207862, 113002766, 113356487, 114204934, 117947705, 118119164, 118235178, 118577028, 119396050, 119616396, 122304714, 124413637, 125609113, 129026291, 130864452, 131792680, 131981163, 132412033, 132525067, 132779503, 133159678, 134229580, 134264405, 134455486, 134473235, 134563174, 134791069, 135507475, 135624997, 135691099, 136977692, 137394839, 137577345, 137848936, 138129310, 138222593, 138953984, 139110597, 139166688, 139542311, 139552856, 139643180, 140328878, 141986742, 142385992, 142386968, 142840017, 143108924, 143132722, 143454335, 143471003, 144427485, 144770374, 144862636, 145305074, 145449013, 146174646, 146543093, 147049086, 147259820, 147723827, 148109202, 148255741, 149060418, 149477037, 150400663, 150753940, 150838306, 150944823, 152007708, 152384941, 152445637, 153061115, 153415839, 153862936, 154065037, 156141138, 156354164, 157415795, 157505631, 158404161, 160226449, 162595790, 162608355, 162745840, 163271171, 163810588, 163925419, 163978516, 164538241, 164624162, 164871288, 165930680, 166172929, 166466026, 167720248, 168840214, 169489402, 169998706, 172387855, 172557144, 173340112, 174314946, 174321170, 174381151, 174644218, 175594118, 175777643, 176606995, 178395728, 179783374, 179980451, 180053187, 180210027, 181164821, 181785923, 182260993, 182382899, 182813048, 183501815, 184344966, 185616348, 185919069, 186275419, 186327073, 187641419, 187762164, 187790983, 188058932, 189620802, 191884401, 192472935, 192958332, 193292406, 194258100, 195207364, 198444140, 198929437, 199949954, 200334207, 203043809, 204485822, 205232153, 205545811, 205900254, 206320439, 206460553, 208023199, 213204535, 213786002, 215056615, 216122924, 216538928, 218799518, 219146138, 220590006, 220625400, 221779485, 221854096, 221996925, 222090383, 222633274, 223002917, 223550230, 223596466, 223698512, 224790134, 224907202, 226130417, 226281000, 226624764, 227894752, 228765274, 231938132, 232807929, 233923624, 236170702, 239222239, 242719899, 243557346, 244719754, 245624665, 247856095, 247930851, 249505200, 250290456, 251120475, 251127714, 251182978, 251444590, 254023098, 254105003, 257437757, 257583075, 258510721, 260548523, 261804282, 263163195, 264848313, 265392337, 266128192, 266781000, 266793916, 273570347, 273647769, 278938690, 279789803, 279922264, 281630891, 282749045, 288301135, 288784522, 292085876, 292284792, 294355534, 295473527, 295888584, 296075244, 296578161, 297890297, 305504529, 306616711, 314288220, 314980308, 316676486, 316866069, 316875647, 320561684, 323834008, 326373190, 326724161, 327258565, 328039713, 328926499, 330058658, 332068728, 332341142, 337679930, 340961006, 344273033, 349692023, 353855709, 356189604, 356704572, 357870928, 357974550, 368104744, 368635880, 368905941, 369696108, 372554690, 373641996, 376246215, 376676458, 378342098, 379434422, 382272162, 383076778, 389633287, 392286716, 393128687, 406897271, 407177733, 409615947, 413604744, 413679949, 415112976, 415165486, 419158415, 421186710, 421996922, 425018619, 427946666, 429479259, 433161833, 435003998, 436831509, 441020651, 444393650, 447469130, 447760752, 466986537, 469342059, 481833311, 482808646, 489595080, 503093692, 505417189, 505839084, 509358247, 509590831, 517460302, 535595523, 542312574, 550243687, 553263075, 568394793]}\n"
     ]
    }
   ],
   "source": [
    "friends_first_hand = my_api.friends.get(user_id=start_id) # тот самый идентификатор\n",
    "print(friends_first_hand)\n",
    "friends_first_hand_id = friends_first_hand['items']"
   ]
  },
  {
   "cell_type": "code",
   "execution_count": 35,
   "metadata": {},
   "outputs": [
    {
     "name": "stdout",
     "output_type": "stream",
     "text": [
      "Пользователь с id=9458352, имеет приватный аккаунт!\n",
      "Пользователь с id=9940752, имеет приватный аккаунт!\n",
      "Пользователь с id=26007040, имеет приватный аккаунт!\n",
      "Пользователь с id=28624978, имеет приватный аккаунт!\n",
      "Пользователь с id=30825085, имеет приватный аккаунт!\n",
      "Пользователь с id=34018852, имеет приватный аккаунт!\n",
      "Пользователь с id=34800335, имеет приватный аккаунт!\n",
      "Пользователь с id=49486124, имеет приватный аккаунт!\n",
      "Пользователь с id=73045899, имеет приватный аккаунт!\n",
      "Пользователь с id=76991683, имеет приватный аккаунт!\n",
      "Пользователь с id=78473150, имеет приватный аккаунт!\n",
      "Пользователь с id=82858281, имеет приватный аккаунт!\n",
      "Пользователь с id=103099091, имеет приватный аккаунт!\n",
      "Пользователь с id=103313375, имеет приватный аккаунт!\n",
      "Пользователь с id=131981163, имеет приватный аккаунт!\n",
      "Пользователь с id=132525067, имеет приватный аккаунт!\n",
      "Пользователь с id=138222593, имеет приватный аккаунт!\n",
      "Пользователь с id=143454335, имеет приватный аккаунт!\n",
      "Пользователь с id=154065037, имеет приватный аккаунт!\n",
      "Пользователь с id=156141138, имеет приватный аккаунт!\n",
      "Пользователь с id=160226449, имеет приватный аккаунт!\n",
      "Пользователь с id=162608355, имеет приватный аккаунт!\n",
      "Пользователь с id=163925419, имеет приватный аккаунт!\n",
      "Пользователь с id=164538241, имеет приватный аккаунт!\n",
      "Пользователь с id=164871288, имеет приватный аккаунт!\n",
      "Пользователь с id=169489402, имеет приватный аккаунт!\n",
      "Пользователь с id=172387855, имеет приватный аккаунт!\n",
      "Пользователь с id=172557144, имеет приватный аккаунт!\n",
      "Пользователь с id=176606995, имеет приватный аккаунт!\n",
      "Пользователь с id=180053187, имеет приватный аккаунт!\n",
      "Пользователь с id=181164821, имеет приватный аккаунт!\n",
      "Пользователь с id=182813048, имеет приватный аккаунт!\n",
      "Пользователь с id=186327073, имеет приватный аккаунт!\n",
      "Пользователь с id=205900254, имеет приватный аккаунт!\n",
      "Пользователь с id=206320439, имеет приватный аккаунт!\n",
      "Пользователь с id=206460553, имеет приватный аккаунт!\n",
      "Пользователь с id=208023199, имеет приватный аккаунт!\n",
      "Пользователь с id=213786002, имеет приватный аккаунт!\n",
      "Пользователь с id=218799518, имеет приватный аккаунт!\n",
      "Пользователь с id=222090383, имеет приватный аккаунт!\n",
      "Пользователь с id=223698512, имеет приватный аккаунт!\n",
      "Пользователь с id=226130417, имеет приватный аккаунт!\n",
      "Пользователь с id=243557346, имеет приватный аккаунт!\n",
      "Пользователь с id=249505200, имеет приватный аккаунт!\n",
      "Пользователь с id=254105003, имеет приватный аккаунт!\n",
      "Пользователь с id=265392337, имеет приватный аккаунт!\n",
      "Пользователь с id=266128192, имеет приватный аккаунт!\n",
      "Пользователь с id=266793916, имеет приватный аккаунт!\n",
      "Пользователь с id=288301135, имеет приватный аккаунт!\n",
      "Пользователь с id=292284792, имеет приватный аккаунт!\n",
      "Пользователь с id=295473527, имеет приватный аккаунт!\n",
      "Пользователь с id=296075244, имеет приватный аккаунт!\n",
      "Пользователь с id=314980308, имеет приватный аккаунт!\n",
      "Пользователь с id=356704572, имеет приватный аккаунт!\n",
      "Пользователь с id=368635880, имеет приватный аккаунт!\n",
      "Пользователь с id=382272162, имеет приватный аккаунт!\n",
      "Пользователь с id=392286716, имеет приватный аккаунт!\n",
      "Пользователь с id=413604744, имеет приватный аккаунт!\n",
      "Пользователь с id=413679949, имеет приватный аккаунт!\n",
      "Пользователь с id=435003998, имеет приватный аккаунт!\n",
      "Пользователь с id=466986537, имеет приватный аккаунт!\n",
      "Пользователь с id=482808646, имеет приватный аккаунт!\n",
      "Пользователь с id=503093692, имеет приватный аккаунт!\n",
      "Пользователь с id=509590831, имеет приватный аккаунт!\n",
      "Пользователь с id=517460302, имеет приватный аккаунт!\n",
      "Пользователь с id=568394793, имеет приватный аккаунт!\n",
      "На втором кругу уже 90925 друзей\n"
     ]
    }
   ],
   "source": [
    "# Давайте соберем пользователей второго круга!\n",
    "friends_second_hand_id = []\n",
    "private_accaunts = []\n",
    "for item in friends_first_hand_id:\n",
    "    try:\n",
    "        ids = my_api.friends.get(user_id=item)['items']\n",
    "        friends_second_hand_id.extend(ids)\n",
    "    except:\n",
    "        print('Пользователь с id={}, имеет приватный аккаунт!'.format(item))\n",
    "        private_accaunts.append(item)\n",
    "    \n",
    "friends_second_hand_id = list(set(friends_second_hand_id))\n",
    "print('На втором кругу уже {} друзей'.format(len(friends_second_hand_id)))\n",
    "\n",
    "# на этом можно остановиться если их много"
   ]
  },
  {
   "cell_type": "markdown",
   "metadata": {},
   "source": [
    "Давайте ограничимся первым кругом и посчитаем какие нибудь статистики по друзьям."
   ]
  },
  {
   "cell_type": "code",
   "execution_count": 37,
   "metadata": {},
   "outputs": [
    {
     "name": "stdout",
     "output_type": "stream",
     "text": [
      "[{'id': 1467698, 'first_name': 'Tatyana', 'last_name': 'Komyakova', 'is_closed': False, 'can_access_closed': True, 'sex': 1, 'city': {'id': 49, 'title': 'Yekaterinburg'}, 'country': {'id': 1, 'title': 'Russia'}}, {'id': 2233698, 'first_name': 'Maria', 'last_name': 'Kalinina', 'is_closed': False, 'can_access_closed': True, 'sex': 1, 'city': {'id': 49, 'title': 'Yekaterinburg'}, 'country': {'id': 1, 'title': 'Russia'}}, {'id': 2594910, 'first_name': 'Ekaterina', 'last_name': 'Martelova', 'is_closed': False, 'can_access_closed': True, 'sex': 1, 'country': {'id': 1, 'title': 'Russia'}}]\n"
     ]
    }
   ],
   "source": [
    "freinds_to_anallize = [item for item in friends_first_hand_id if item not in private_accaunts]\n",
    "#оставили только открытые аккаунты\n",
    "\n",
    "infos = my_api.users.get(\n",
    "    user_ids=freinds_to_anallize,\n",
    "    fields=['sex', 'city', 'country', 'contacts', 'universities', 'relation', 'career']\n",
    ")\n",
    "print(infos[:3])\n",
    "# к сожалению большая часть пунктов будет скрыта при поиске, но нас это не очень остановит"
   ]
  },
  {
   "cell_type": "code",
   "execution_count": 38,
   "metadata": {},
   "outputs": [
    {
     "name": "stdout",
     "output_type": "stream",
     "text": [
      "Сколько людей какого пола в друзьях (2 - мужской, 1 - женский): Counter({1: 216, 2: 125})\n",
      "Статистика по странам: Counter({'Russia': 294, None: 38, 'USA': 2, 'Czech Republic': 2, 'Israel': 1, 'Germany': 1, 'United Arab Emirates': 1, 'Kazakhstan': 1, 'Brazil': 1})\n",
      "Статистика по городам: Counter({'Yekaterinburg': 162, 'Moscow': 70, None: 69, 'Saint Petersburg': 13, 'Kazan': 2, 'Praha': 2, 'Berezovsky': 2, 'Ivanovo': 1, 'Magnitogorsk': 1, 'Dolgoprudny': 1, 'Zarechny': 1, 'Rishon LeZion': 1, 'Monchegorsk': 1, 'Lesnoy': 1, 'Chelyabinsk': 1, 'Rybinsk': 1, 'Kirov': 1, 'Pskov': 1, 'Orenburg': 1, 'Karlsruhe': 1, 'Ivdel': 1, 'Petrozavodsk': 1, 'Dvurechensk': 1, 'Dubai': 1, 'Vladivostok': 1, 'Almaty': 1, 'Arkhangelsk': 1, 'Portland': 1})\n"
     ]
    }
   ],
   "source": [
    "import collections\n",
    "\n",
    "# посчитаем соотношение полов:\n",
    "sex = collections.Counter(item.get('sex') for item in infos)\n",
    "print(\"Сколько людей какого пола в друзьях (2 - мужской, 1 - женский):\", sex)\n",
    "\n",
    "# и по странам: \n",
    "country = collections.Counter(item.get('country', {}).get('title') for item in infos)\n",
    "print(\"Статистика по странам:\", country)\n",
    "\n",
    "# и по городам: \n",
    "city = collections.Counter(item.get('city', {}).get('title') for item in infos)\n",
    "print(\"Статистика по городам:\", city)"
   ]
  },
  {
   "cell_type": "code",
   "execution_count": 39,
   "metadata": {},
   "outputs": [
    {
     "name": "stdout",
     "output_type": "stream",
     "text": [
      "{'id': 114204934, 'first_name': 'Polina', 'last_name': 'Khokhlova', 'is_closed': False, 'can_access_closed': True, 'sex': 1, 'city': {'id': 11671, 'title': 'Lesnoy'}, 'country': {'id': 1, 'title': 'Russia'}, 'mobile_phone': '', 'home_phone': '', 'career': [], 'relation': 0, 'universities': [{'id': 526, 'country': 1, 'city': 11671, 'name': 'КНИТУ (бывш. КГТУ, КХТИ)', 'faculty': 7833, 'faculty_name': 'Инженерный химико-технологический институт', 'chair': 47808, 'chair_name': ' Кафедра «Технологии твердых химических веществ» (ФЭМИ)'}]}\n"
     ]
    }
   ],
   "source": [
    "for user in infos:\n",
    "    if user.get('city', {}).get('title') == 'Lesnoy':\n",
    "        print(user)"
   ]
  },
  {
   "cell_type": "code",
   "execution_count": 40,
   "metadata": {},
   "outputs": [
    {
     "name": "stdout",
     "output_type": "stream",
     "text": [
      "User 4378298 hide his wall\n",
      "User 5486806 hide his wall\n",
      "User 9891410 hide his wall\n",
      "User 21387930 hide his wall\n",
      "User 26069773 hide his wall\n",
      "User 26358992 hide his wall\n",
      "User 27329564 hide his wall\n",
      "User 27913053 hide his wall\n",
      "User 31211914 hide his wall\n",
      "User 40294783 hide his wall\n",
      "User 40865513 hide his wall\n",
      "User 47531348 hide his wall\n",
      "User 47719965 hide his wall\n",
      "User 48887509 hide his wall\n",
      "User 51080973 hide his wall\n",
      "User 57164417 hide his wall\n",
      "User 57490662 hide his wall\n",
      "User 57499188 hide his wall\n",
      "User 60062487 hide his wall\n",
      "User 62819064 hide his wall\n",
      "User 63769714 hide his wall\n",
      "User 69238678 hide his wall\n",
      "User 73816401 hide his wall\n",
      "User 77151843 hide his wall\n",
      "User 78401573 hide his wall\n",
      "User 81827547 hide his wall\n",
      "User 82185380 hide his wall\n",
      "User 86791591 hide his wall\n",
      "User 95576514 hide his wall\n",
      "User 102992733 hide his wall\n",
      "User 103190352 hide his wall\n",
      "User 103605329 hide his wall\n",
      "User 104857494 hide his wall\n",
      "User 104949205 hide his wall\n",
      "User 105103519 hide his wall\n",
      "User 106652617 hide his wall\n",
      "User 113002766 hide his wall\n",
      "User 114204934 hide his wall\n",
      "User 118235178 hide his wall\n",
      "User 119396050 hide his wall\n",
      "User 130864452 hide his wall\n",
      "User 134455486 hide his wall\n",
      "User 134791069 hide his wall\n",
      "User 135624997 hide his wall\n",
      "User 135691099 hide his wall\n",
      "User 136977692 hide his wall\n",
      "User 137848936 hide his wall\n",
      "User 138129310 hide his wall\n",
      "User 139110597 hide his wall\n",
      "User 139542311 hide his wall\n",
      "User 142385992 hide his wall\n",
      "User 142840017 hide his wall\n",
      "User 143108924 hide his wall\n",
      "User 143132722 hide his wall\n",
      "User 144427485 hide his wall\n",
      "User 144770374 hide his wall\n",
      "User 145305074 hide his wall\n",
      "User 146543093 hide his wall\n",
      "User 149477037 hide his wall\n",
      "User 150400663 hide his wall\n",
      "User 153061115 hide his wall\n",
      "User 153415839 hide his wall\n",
      "User 157505631 hide his wall\n",
      "User 162595790 hide his wall\n",
      "User 162745840 hide his wall\n",
      "User 163810588 hide his wall\n",
      "User 165930680 hide his wall\n",
      "User 166172929 hide his wall\n",
      "User 174314946 hide his wall\n",
      "User 174381151 hide his wall\n",
      "User 174644218 hide his wall\n",
      "User 175594118 hide his wall\n",
      "User 178395728 hide his wall\n",
      "User 179980451 hide his wall\n",
      "User 181785923 hide his wall\n",
      "User 182260993 hide his wall\n",
      "User 182382899 hide his wall\n",
      "User 184344966 hide his wall\n",
      "User 185616348 hide his wall\n",
      "User 185919069 hide his wall\n",
      "User 186275419 hide his wall\n",
      "User 187790983 hide his wall\n",
      "User 188058932 hide his wall\n",
      "User 194258100 hide his wall\n",
      "User 198444140 hide his wall\n",
      "User 198929437 hide his wall\n",
      "User 203043809 hide his wall\n",
      "User 205232153 hide his wall\n",
      "User 213204535 hide his wall\n",
      "User 216538928 hide his wall\n",
      "User 219146138 hide his wall\n",
      "User 220590006 hide his wall\n",
      "User 221779485 hide his wall\n",
      "User 221854096 hide his wall\n",
      "User 223596466 hide his wall\n",
      "User 224907202 hide his wall\n",
      "User 226624764 hide his wall\n",
      "User 232807929 hide his wall\n",
      "User 242719899 hide his wall\n",
      "User 245624665 hide his wall\n",
      "User 247930851 hide his wall\n",
      "User 250290456 hide his wall\n",
      "User 251127714 hide his wall\n",
      "User 254023098 hide his wall\n",
      "User 257583075 hide his wall\n",
      "User 258510721 hide his wall\n",
      "User 278938690 hide his wall\n",
      "User 281630891 hide his wall\n",
      "User 282749045 hide his wall\n",
      "User 297890297 hide his wall\n",
      "User 305504529 hide his wall\n",
      "User 316875647 hide his wall\n",
      "User 320561684 hide his wall\n",
      "User 330058658 hide his wall\n",
      "User 340961006 hide his wall\n",
      "User 353855709 hide his wall\n",
      "User 357870928 hide his wall\n",
      "User 368104744 hide his wall\n",
      "User 481833311 hide his wall\n",
      "User 489595080 hide his wall\n",
      "User 550243687 hide his wall\n",
      "User 553263075 hide his wall\n",
      "[{'count': 751, 'items': [{'id': 3233, 'from_id': 1467698, 'owner_id': 1467698, 'date': 1571000715, 'post_type': 'post', 'text': 'Хорошо когда на работе есть такие бонусы как крутые коллеги!🤘🏻❤️', 'attachments': [{'type': 'photo', 'photo': {'id': 457239989, 'album_id': -7, 'owner_id': 1467698, 'sizes': [{'type': 'm', 'url': 'https://sun9-31.userapi.com/c855524/v855524915/121fdc/eOZMUjLeau0.jpg', 'width': 73, 'height': 130}, {'type': 'o', 'url': 'https://sun9-13.userapi.com/c855524/v855524915/121fe1/lkI0Gd0LO4I.jpg', 'width': 130, 'height': 231}, {'type': 'p', 'url': 'https://sun9-27.userapi.com/c855524/v855524915/121fe2/o8dr54029TQ.jpg', 'width': 200, 'height': 355}, {'type': 'q', 'url': 'https://sun9-66.userapi.com/c855524/v855524915/121fe3/MsRsZt86ncc.jpg', 'width': 320, 'height': 569}, {'type': 'r', 'url': 'https://sun9-61.userapi.com/c855524/v855524915/121fe4/By-vVmxu8i0.jpg', 'width': 510, 'height': 900}, {'type': 's', 'url': 'https://sun9-68.userapi.com/c855524/v855524915/121fdb/-WpKHV4IFuo.jpg', 'width': 42, 'height': 75}, {'type': 'w', 'url': 'https://sun9-67.userapi.com/c855524/v855524915/121fe0/4U6JdnkCLr0.jpg', 'width': 720, 'height': 1280}, {'type': 'x', 'url': 'https://sun9-5.userapi.com/c855524/v855524915/121fdd/EsJxDReqxJs.jpg', 'width': 340, 'height': 604}, {'type': 'y', 'url': 'https://sun9-44.userapi.com/c855524/v855524915/121fde/hmG8L9YUvdw.jpg', 'width': 454, 'height': 807}, {'type': 'z', 'url': 'https://sun9-49.userapi.com/c855524/v855524915/121fdf/Jp054PgAgQ4.jpg', 'width': 607, 'height': 1080}], 'text': '', 'date': 1571000688, 'post_id': 3233, 'access_key': '59ab0de03f8615666d'}}], 'post_source': {'type': 'api', 'platform': 'iphone'}, 'comments': {'count': 0, 'can_post': 1, 'groups_can_post': True}, 'likes': {'count': 13, 'user_likes': 0, 'can_like': 1, 'can_publish': 1}, 'reposts': {'count': 0, 'user_reposted': 0}, 'views': {'count': 222}}, {'id': 3232, 'from_id': 1467698, 'owner_id': 1467698, 'date': 1569563295, 'post_type': 'post', 'text': '', 'attachments': [{'type': 'photo', 'photo': {'id': 457239985, 'album_id': -7, 'owner_id': 1467698, 'sizes': [{'type': 'm', 'url': 'https://sun9-35.userapi.com/c855328/v855328827/1050d6/WLFRpdSRpn4.jpg', 'width': 130, 'height': 97}, {'type': 'o', 'url': 'https://sun9-45.userapi.com/c855328/v855328827/1050da/yeSsZ0zCYpI.jpg', 'width': 130, 'height': 98}, {'type': 'p', 'url': 'https://sun9-44.userapi.com/c855328/v855328827/1050db/OCWuEz3v0D4.jpg', 'width': 200, 'height': 150}, {'type': 'q', 'url': 'https://sun9-48.userapi.com/c855328/v855328827/1050dc/jxBUaiDE_cs.jpg', 'width': 320, 'height': 240}, {'type': 'r', 'url': 'https://sun9-41.userapi.com/c855328/v855328827/1050dd/myTLs9nR4ek.jpg', 'width': 510, 'height': 383}, {'type': 's', 'url': 'https://sun9-29.userapi.com/c855328/v855328827/1050d5/h0eIFWugEz8.jpg', 'width': 75, 'height': 56}, {'type': 'x', 'url': 'https://sun9-33.userapi.com/c855328/v855328827/1050d7/H7aTJgbU3Os.jpg', 'width': 604, 'height': 453}, {'type': 'y', 'url': 'https://sun9-42.userapi.com/c855328/v855328827/1050d8/4BPqxmabwoE.jpg', 'width': 807, 'height': 605}, {'type': 'z', 'url': 'https://sun9-65.userapi.com/c855328/v855328827/1050d9/xjqBKj2b0WM.jpg', 'width': 1280, 'height': 960}], 'text': '', 'date': 1569563145, 'access_key': '094af5a2479721950f'}}, {'type': 'photo', 'photo': {'id': 457239983, 'album_id': -7, 'owner_id': 1467698, 'sizes': [{'type': 'm', 'url': 'https://sun9-44.userapi.com/c852224/v852224827/1d182e/WXcUl9e19wM.jpg', 'width': 97, 'height': 130}, {'type': 'o', 'url': 'https://sun9-24.userapi.com/c852224/v852224827/1d1833/nGJ5dEDLHF8.jpg', 'width': 130, 'height': 173}, {'type': 'p', 'url': 'https://sun9-61.userapi.com/c852224/v852224827/1d1834/F1UHA2uta-o.jpg', 'width': 200, 'height': 267}, {'type': 'q', 'url': 'https://sun9-64.userapi.com/c852224/v852224827/1d1835/h31F26IBlQA.jpg', 'width': 320, 'height': 427}, {'type': 'r', 'url': 'https://sun9-29.userapi.com/c852224/v852224827/1d1836/GYb9K8dWyto.jpg', 'width': 510, 'height': 680}, {'type': 's', 'url': 'https://sun9-36.userapi.com/c852224/v852224827/1d182d/SBYdF09ZiAQ.jpg', 'width': 56, 'height': 75}, {'type': 'w', 'url': 'https://sun9-50.userapi.com/c852224/v852224827/1d1832/gYiiwwWZxbk.jpg', 'width': 960, 'height': 1280}, {'type': 'x', 'url': 'https://sun9-26.userapi.com/c852224/v852224827/1d182f/gWDW4LdmZts.jpg', 'width': 453, 'height': 604}, {'type': 'y', 'url': 'https://sun9-52.userapi.com/c852224/v852224827/1d1830/EcexeHhZ3mQ.jpg', 'width': 605, 'height': 807}, {'type': 'z', 'url': 'https://sun9-67.userapi.com/c852224/v852224827/1d1831/9byI9CwLR80.jpg', 'width': 810, 'height': 1080}], 'text': '', 'date': 1569563144, 'access_key': '1c8080225678050373'}}, {'type': 'photo', 'photo': {'id': 457239986, 'album_id': -7, 'owner_id': 1467698, 'sizes': [{'type': 'm', 'url': 'https://sun9-52.userapi.com/c852224/v852224827/1d1838/mjRSaopAjDw.jpg', 'width': 97, 'height': 130}, {'type': 'o', 'url': 'https://sun9-42.userapi.com/c852224/v852224827/1d183d/CdIgMYhIxyo.jpg', 'width': 130, 'height': 173}, {'type': 'p', 'url': 'https://sun9-65.userapi.com/c852224/v852224827/1d183e/AU6p3oA-f8w.jpg', 'width': 200, 'height': 267}, {'type': 'q', 'url': 'https://sun9-67.userapi.com/c852224/v852224827/1d183f/AKIKx_XlAtw.jpg', 'width': 320, 'height': 427}, {'type': 'r', 'url': 'https://sun9-63.userapi.com/c852224/v852224827/1d1840/y8pDmcHaiVM.jpg', 'width': 510, 'height': 680}, {'type': 's', 'url': 'https://sun9-57.userapi.com/c852224/v852224827/1d1837/bmOFfrWlnFk.jpg', 'width': 56, 'height': 75}, {'type': 'w', 'url': 'https://sun9-58.userapi.com/c852224/v852224827/1d183c/kdPpuNW-sYU.jpg', 'width': 960, 'height': 1280}, {'type': 'x', 'url': 'https://sun9-27.userapi.com/c852224/v852224827/1d1839/aO08P3QwwOY.jpg', 'width': 453, 'height': 604}, {'type': 'y', 'url': 'https://sun9-8.userapi.com/c852224/v852224827/1d183a/OThCRE8hNMA.jpg', 'width': 605, 'height': 807}, {'type': 'z', 'url': 'https://sun9-16.userapi.com/c852224/v852224827/1d183b/IVJtbPmcl7U.jpg', 'width': 810, 'height': 1080}], 'text': '', 'date': 1569563146, 'access_key': '7b097349da00de114c'}}, {'type': 'photo', 'photo': {'id': 457239987, 'album_id': -7, 'owner_id': 1467698, 'sizes': [{'type': 'm', 'url': 'https://sun9-32.userapi.com/c852224/v852224827/1d1842/HLu-JXet8m4.jpg', 'width': 97, 'height': 130}, {'type': 'o', 'url': 'https://sun9-6.userapi.com/c852224/v852224827/1d1847/BcGBr5wGOkI.jpg', 'width': 130, 'height': 173}, {'type': 'p', 'url': 'https://sun9-64.userapi.com/c852224/v852224827/1d1848/hgaFOCHMQtc.jpg', 'width': 200, 'height': 267}, {'type': 'q', 'url': 'https://sun9-63.userapi.com/c852224/v852224827/1d1849/767Zc8ZFnL4.jpg', 'width': 320, 'height': 427}, {'type': 'r', 'url': 'https://sun9-47.userapi.com/c852224/v852224827/1d184a/WxOa5g0UXcg.jpg', 'width': 510, 'height': 680}, {'type': 's', 'url': 'https://sun9-57.userapi.com/c852224/v852224827/1d1841/X706SC5uBOE.jpg', 'width': 56, 'height': 75}, {'type': 'w', 'url': 'https://sun9-57.userapi.com/c852224/v852224827/1d1846/S4ETMQWPkS4.jpg', 'width': 960, 'height': 1280}, {'type': 'x', 'url': 'https://sun9-53.userapi.com/c852224/v852224827/1d1843/MYPCqUGEco8.jpg', 'width': 453, 'height': 604}, {'type': 'y', 'url': 'https://sun9-33.userapi.com/c852224/v852224827/1d1844/f24icVH6JcA.jpg', 'width': 605, 'height': 807}, {'type': 'z', 'url': 'https://sun9-26.userapi.com/c852224/v852224827/1d1845/qq_QzfoKW9U.jpg', 'width': 810, 'height': 1080}], 'text': '', 'date': 1569563146, 'access_key': '9d12a944c2a24e372c'}}, {'type': 'audio', 'audio': {'artist': 'Mumiy Troll', 'id': 456243483, 'owner_id': 2000149761, 'title': 'Такие девчонки', 'duration': 25, 'track_code': '7dfb75e5oMDE97YrnRJ2_EXKIEP5n0JZmVJdG3axlhMvpuRC1Xmh', 'url': 'https://vk.com/mp3/audio_api_unavailable.mp3', 'date': 1569563295, 'genre_id': 1001, 'main_artists': [{'name': 'Mumiy Troll', 'domain': '2226568131119421663', 'id': '2226568131119421663'}]}}], 'post_source': {'type': 'api', 'platform': 'iphone'}, 'comments': {'count': 0, 'can_post': 1, 'groups_can_post': True}, 'likes': {'count': 7, 'user_likes': 0, 'can_like': 1, 'can_publish': 1}, 'reposts': {'count': 0, 'user_reposted': 0}, 'views': {'count': 231}}, {'id': 3229, 'from_id': 1467698, 'owner_id': 1467698, 'date': 1566175205, 'post_type': 'post', 'text': 'Ну вот и jane_priss вступила в наши ряды 30-тилетних💃 Это были шикарные, летние выходные❤️ gusarovalexander , ну а с твоим участием любые выходные огонь 🔥 😘 #30лет #деньгородаекатеринбург #выходные #лучшиедрузья', 'attachments': [{'type': 'photo', 'photo': {'id': 457239975, 'album_id': -7, 'owner_id': 1467698, 'sizes': [{'type': 'm', 'url': 'https://sun9-57.userapi.com/c857628/v857628638/493c9/Lv0jLcOq5RY.jpg', 'width': 130, 'height': 97}, {'type': 'o', 'url': 'https://sun9-15.userapi.com/c857628/v857628638/493cd/GFMtxQW9BEg.jpg', 'width': 130, 'height': 98}, {'type': 'p', 'url': 'https://sun9-69.userapi.com/c857628/v857628638/493ce/QQR1ox8Oo-g.jpg', 'width': 200, 'height': 150}, {'type': 'q', 'url': 'https://sun9-9.userapi.com/c857628/v857628638/493cf/chjEbWk9jio.jpg', 'width': 320, 'height': 240}, {'type': 'r', 'url': 'https://sun9-41.userapi.com/c857628/v857628638/493d0/k2X4SpEt3Zc.jpg', 'width': 510, 'height': 383}, {'type': 's', 'url': 'https://sun9-32.userapi.com/c857628/v857628638/493c8/X3uRlSMLT30.jpg', 'width': 75, 'height': 56}, {'type': 'x', 'url': 'https://sun9-16.userapi.com/c857628/v857628638/493ca/ctEXGFJQucg.jpg', 'width': 604, 'height': 453}, {'type': 'y', 'url': 'https://sun9-62.userapi.com/c857628/v857628638/493cb/_KhSfXWkIJw.jpg', 'width': 807, 'height': 605}, {'type': 'z', 'url': 'https://sun9-35.userapi.com/c857628/v857628638/493cc/60uDsUSssgg.jpg', 'width': 960, 'height': 720}], 'text': '', 'date': 1566175204, 'access_key': '61426313568aabad38'}}, {'type': 'photo', 'photo': {'id': 457239976, 'album_id': -7, 'owner_id': 1467698, 'sizes': [{'type': 'm', 'url': 'https://sun9-39.userapi.com/c850128/v850128617/1b947f/obe6NPRVnuY.jpg', 'width': 130, 'height': 97}, {'type': 'o', 'url': 'https://sun9-51.userapi.com/c850128/v850128617/1b9483/GhkYr1NDicw.jpg', 'width': 130, 'height': 98}, {'type': 'p', 'url': 'https://sun9-45.userapi.com/c850128/v850128617/1b9484/R1j37jFRTwE.jpg', 'width': 200, 'height': 150}, {'type': 'q', 'url': 'https://sun9-32.userapi.com/c850128/v850128617/1b9485/M8pIxEUvSGc.jpg', 'width': 320, 'height': 240}, {'type': 'r', 'url': 'https://sun9-12.userapi.com/c850128/v850128617/1b9486/RhuVevLz3_U.jpg', 'width': 510, 'height': 383}, {'type': 's', 'url': 'https://sun9-40.userapi.com/c850128/v850128617/1b947e/sxPInWwOAhc.jpg', 'width': 75, 'height': 56}, {'type': 'x', 'url': 'https://sun9-29.userapi.com/c850128/v850128617/1b9480/GNqTyiNplro.jpg', 'width': 604, 'height': 453}, {'type': 'y', 'url': 'https://sun9-61.userapi.com/c850128/v850128617/1b9481/FsjAky5eb34.jpg', 'width': 807, 'height': 605}, {'type': 'z', 'url': 'https://sun9-48.userapi.com/c850128/v850128617/1b9482/AEmZyMJcG9M.jpg', 'width': 960, 'height': 720}], 'text': '', 'date': 1566234993, 'access_key': 'fb5c6ceb77317c4319'}}, {'type': 'photo', 'photo': {'id': 457239977, 'album_id': -7, 'owner_id': 1467698, 'sizes': [{'type': 'm', 'url': 'https://sun9-40.userapi.com/c858336/v858336617/49f50/0RUO6oxHko0.jpg', 'width': 130, 'height': 97}, {'type': 'o', 'url': 'https://sun9-44.userapi.com/c858336/v858336617/49f54/xqAE3ePwSlo.jpg', 'width': 130, 'height': 98}, {'type': 'p', 'url': 'https://sun9-18.userapi.com/c858336/v858336617/49f55/OxLuPCgmiBU.jpg', 'width': 200, 'height': 150}, {'type': 'q', 'url': 'https://sun9-8.userapi.com/c858336/v858336617/49f56/Oi8Zulp5LDg.jpg', 'width': 320, 'height': 240}, {'type': 'r', 'url': 'https://sun9-25.userapi.com/c858336/v858336617/49f57/ymXFZNebc6A.jpg', 'width': 510, 'height': 383}, {'type': 's', 'url': 'https://sun9-54.userapi.com/c858336/v858336617/49f4f/jK0tBAyL9ZI.jpg', 'width': 75, 'height': 56}, {'type': 'x', 'url': 'https://sun9-35.userapi.com/c858336/v858336617/49f51/x5rHtfb3r64.jpg', 'width': 604, 'height': 453}, {'type': 'y', 'url': 'https://sun9-57.userapi.com/c858336/v858336617/49f52/vIxJpfTxAfA.jpg', 'width': 807, 'height': 605}, {'type': 'z', 'url': 'https://sun9-50.userapi.com/c858336/v858336617/49f53/wkgw68fKjPM.jpg', 'width': 960, 'height': 720}], 'text': '', 'date': 1566235004, 'access_key': 'db2b92e20fe6250354'}}, {'type': 'photo', 'photo': {'id': 457239978, 'album_id': -7, 'owner_id': 1467698, 'sizes': [{'type': 'm', 'url': 'https://sun9-26.userapi.com/c852016/v852016617/1a3783/BN10pcSkRp0.jpg', 'width': 130, 'height': 97}, {'type': 'o', 'url': 'https://sun9-43.userapi.com/c852016/v852016617/1a3787/ZCD0Ym7l110.jpg', 'width': 130, 'height': 98}, {'type': 'p', 'url': 'https://sun9-57.userapi.com/c852016/v852016617/1a3788/4Ex_9SVTrjE.jpg', 'width': 200, 'height': 150}, {'type': 'q', 'url': 'https://sun9-6.userapi.com/c852016/v852016617/1a3789/yaHxVekbRMg.jpg', 'width': 320, 'height': 240}, {'type': 'r', 'url': 'https://sun9-44.userapi.com/c852016/v852016617/1a378a/LAi61uRBZ8M.jpg', 'width': 510, 'height': 383}, {'type': 's', 'url': 'https://sun9-57.userapi.com/c852016/v852016617/1a3782/KB8R_Rg84hM.jpg', 'width': 75, 'height': 56}, {'type': 'x', 'url': 'https://sun9-38.userapi.com/c852016/v852016617/1a3784/q5o34gtXkDM.jpg', 'width': 604, 'height': 453}, {'type': 'y', 'url': 'https://sun9-52.userapi.com/c852016/v852016617/1a3785/5Hl1WeWTRAA.jpg', 'width': 807, 'height': 605}, {'type': 'z', 'url': 'https://sun9-9.userapi.com/c852016/v852016617/1a3786/axUCdXhaM6w.jpg', 'width': 960, 'height': 720}], 'text': '', 'date': 1566235023, 'access_key': 'b65231dfdfa4376ce4'}}, {'type': 'photo', 'photo': {'id': 457239979, 'album_id': -7, 'owner_id': 1467698, 'sizes': [{'type': 'm', 'url': 'https://sun9-60.userapi.com/c855624/v855624617/c9114/giApHy_zkm0.jpg', 'width': 130, 'height': 97}, {'type': 'o', 'url': 'https://sun9-11.userapi.com/c855624/v855624617/c9118/t797_Ef2tXQ.jpg', 'width': 130, 'height': 98}, {'type': 'p', 'url': 'https://sun9-32.userapi.com/c855624/v855624617/c9119/Ch3G9k42qYg.jpg', 'width': 200, 'height': 150}, {'type': 'q', 'url': 'https://sun9-5.userapi.com/c855624/v855624617/c911a/mXYQVZjpfFQ.jpg', 'width': 320, 'height': 240}, {'type': 'r', 'url': 'https://sun9-5.userapi.com/c855624/v855624617/c911b/LgPdFzm3sno.jpg', 'width': 510, 'height': 383}, {'type': 's', 'url': 'https://sun9-10.userapi.com/c855624/v855624617/c9113/N9aLjdEW_C8.jpg', 'width': 75, 'height': 56}, {'type': 'x', 'url': 'https://sun9-31.userapi.com/c855624/v855624617/c9115/Xl7CfcOsmOQ.jpg', 'width': 604, 'height': 453}, {'type': 'y', 'url': 'https://sun9-41.userapi.com/c855624/v855624617/c9116/k5ZTh3_FsdQ.jpg', 'width': 807, 'height': 605}, {'type': 'z', 'url': 'https://sun9-24.userapi.com/c855624/v855624617/c9117/mcCF1JUkmFg.jpg', 'width': 960, 'height': 720}], 'text': '', 'date': 1566235064, 'access_key': '97eba3dbd28c9e1ca4'}}, {'type': 'photo', 'photo': {'id': 457239980, 'album_id': -7, 'owner_id': 1467698, 'sizes': [{'type': 'm', 'url': 'https://sun9-9.userapi.com/c854320/v854320617/bf2e4/kDasIY5RDNw.jpg', 'width': 130, 'height': 97}, {'type': 'o', 'url': 'https://sun9-67.userapi.com/c854320/v854320617/bf2e8/-zA2S0kL13c.jpg', 'width': 130, 'height': 98}, {'type': 'p', 'url': 'https://sun9-6.userapi.com/c854320/v854320617/bf2e9/lUcBy4D885U.jpg', 'width': 200, 'height': 150}, {'type': 'q', 'url': 'https://sun9-42.userapi.com/c854320/v854320617/bf2ea/n5nR2FVbo6s.jpg', 'width': 320, 'height': 240}, {'type': 'r', 'url': 'https://sun9-41.userapi.com/c854320/v854320617/bf2eb/95lgZynaCFg.jpg', 'width': 510, 'height': 383}, {'type': 's', 'url': 'https://sun9-44.userapi.com/c854320/v854320617/bf2e3/m1J6op1-zpQ.jpg', 'width': 75, 'height': 56}, {'type': 'x', 'url': 'https://sun9-46.userapi.com/c854320/v854320617/bf2e5/QnYy2lO3Dm0.jpg', 'width': 604, 'height': 453}, {'type': 'y', 'url': 'https://sun9-56.userapi.com/c854320/v854320617/bf2e6/1do4RCXLctU.jpg', 'width': 807, 'height': 605}, {'type': 'z', 'url': 'https://sun9-43.userapi.com/c854320/v854320617/bf2e7/fsbb9bPXbQo.jpg', 'width': 960, 'height': 720}], 'text': '', 'date': 1566235064, 'access_key': '6fcef06584b79fbae0'}}], 'post_source': {'type': 'api', 'platform': 'instagram', 'url': 'https://www.instagram.com/p/B1U2W-iAP4NC8qYT0FnYqJRnHgs0QmyqWBv_bM0/'}, 'comments': {'count': 2, 'can_post': 1, 'groups_can_post': True}, 'likes': {'count': 15, 'user_likes': 0, 'can_like': 1, 'can_publish': 1}, 'reposts': {'count': 0, 'user_reposted': 0}, 'views': {'count': 328}, 'edited': 1566235109}, {'id': 3228, 'from_id': 1467698, 'owner_id': 1467698, 'date': 1565465147, 'post_type': 'post', 'text': 'Моя семья - моё богатство! ❤️#братьясестры #семья #выходные  ', 'attachments': [{'type': 'photo', 'photo': {'id': 457239974, 'album_id': -7, 'owner_id': 1467698, 'sizes': [{'type': 'm', 'url': 'https://sun9-41.userapi.com/c850436/v850436719/18a4e6/9T0g7kqll8A.jpg', 'width': 130, 'height': 88}, {'type': 'o', 'url': 'https://sun9-16.userapi.com/c850436/v850436719/18a4ea/J_brnd6W2CI.jpg', 'width': 130, 'height': 88}, {'type': 'p', 'url': 'https://sun9-54.userapi.com/c850436/v850436719/18a4eb/z6owlDOy0Lo.jpg', 'width': 200, 'height': 135}, {'type': 'q', 'url': 'https://sun9-26.userapi.com/c850436/v850436719/18a4ec/VI16l5sGgBs.jpg', 'width': 320, 'height': 216}, {'type': 'r', 'url': 'https://sun9-46.userapi.com/c850436/v850436719/18a4ed/Fz_XU4QSUY8.jpg', 'width': 510, 'height': 344}, {'type': 's', 'url': 'https://sun9-45.userapi.com/c850436/v850436719/18a4e5/eKoi37XMEo4.jpg', 'width': 75, 'height': 51}, {'type': 'x', 'url': 'https://sun9-7.userapi.com/c850436/v850436719/18a4e7/f_e-SG3UCjo.jpg', 'width': 604, 'height': 408}, {'type': 'y', 'url': 'https://sun9-52.userapi.com/c850436/v850436719/18a4e8/0C7f3jXNZ64.jpg', 'width': 807, 'height': 545}, {'type': 'z', 'url': 'https://sun9-38.userapi.com/c850436/v850436719/18a4e9/RWRCjgU2Z44.jpg', 'width': 864, 'height': 583}], 'text': '', 'date': 1565465146, 'post_id': 3228, 'access_key': '2ca03cd70801f929f7'}}], 'geo': {'type': 'point', 'coordinates': '56.850000442854 60.600002677407', 'place': {'created': 0, 'id': 0, 'is_deleted': False, 'latitude': 0.0, 'longitude': 0.0, 'title': 'ulitsa Eremina, Yekaterinburg', 'total_checkins': 0, 'updated': 0, 'country': 'Russia', 'city': 'Yekaterinburg'}}, 'post_source': {'type': 'api', 'platform': 'instagram', 'url': 'https://www.instagram.com/p/B0_sB-jg7TXjzEKJyRx9KC5263uQ9jkEpbzc1M0/'}, 'comments': {'count': 0, 'can_post': 1, 'groups_can_post': True}, 'likes': {'count': 11, 'user_likes': 0, 'can_like': 1, 'can_publish': 1}, 'reposts': {'count': 0, 'user_reposted': 0}, 'views': {'count': 239}}, {'id': 3224, 'from_id': 1467698, 'owner_id': 1467698, 'date': 1562790644, 'post_type': 'post', 'text': '3 счастливых дня было у меня❤️❤️❤️ #30летуманет #друзеймногонебывает #лучшиевыходные', 'attachments': [{'type': 'photo', 'photo': {'id': 457239965, 'album_id': -7, 'owner_id': 1467698, 'sizes': [{'type': 'm', 'url': 'https://sun9-5.userapi.com/c851436/v851436404/167539/3ScAJVpKZ9s.jpg', 'width': 130, 'height': 97}, {'type': 'o', 'url': 'https://sun9-16.userapi.com/c851436/v851436404/16753d/ziiAWGFwau8.jpg', 'width': 130, 'height': 98}, {'type': 'p', 'url': 'https://sun9-13.userapi.com/c851436/v851436404/16753e/nJy3ix3DEOw.jpg', 'width': 200, 'height': 150}, {'type': 'q', 'url': 'https://sun9-23.userapi.com/c851436/v851436404/16753f/sOYv8Bggz1I.jpg', 'width': 320, 'height': 240}, {'type': 'r', 'url': 'https://sun9-64.userapi.com/c851436/v851436404/167540/Pp7o9HDFaMY.jpg', 'width': 510, 'height': 383}, {'type': 's', 'url': 'https://sun9-13.userapi.com/c851436/v851436404/167538/3cLbLo9roTU.jpg', 'width': 75, 'height': 56}, {'type': 'x', 'url': 'https://sun9-30.userapi.com/c851436/v851436404/16753a/X_HMQzkpsLI.jpg', 'width': 604, 'height': 453}, {'type': 'y', 'url': 'https://sun9-26.userapi.com/c851436/v851436404/16753b/SJWXboUsyDQ.jpg', 'width': 807, 'height': 605}, {'type': 'z', 'url': 'https://sun9-35.userapi.com/c851436/v851436404/16753c/8RErQi2HCN4.jpg', 'width': 960, 'height': 720}], 'text': '', 'date': 1562790643, 'access_key': 'd40545d2fe48af5289'}}, {'type': 'photo', 'photo': {'id': 457239968, 'album_id': -7, 'owner_id': 1467698, 'sizes': [{'type': 'm', 'url': 'https://sun9-69.userapi.com/c854128/v854128780/8f80c/Y56EPRlVn7k.jpg', 'width': 130, 'height': 97}, {'type': 'o', 'url': 'https://sun9-11.userapi.com/c854128/v854128780/8f810/Ol92kTVW5H8.jpg', 'width': 130, 'height': 98}, {'type': 'p', 'url': 'https://sun9-57.userapi.com/c854128/v854128780/8f811/8lwm215JPt4.jpg', 'width': 200, 'height': 150}, {'type': 'q', 'url': 'https://sun9-25.userapi.com/c854128/v854128780/8f812/TFP4Adfpvgc.jpg', 'width': 320, 'height': 240}, {'type': 'r', 'url': 'https://sun9-44.userapi.com/c854128/v854128780/8f813/Htj5Dp2jII0.jpg', 'width': 510, 'height': 383}, {'type': 's', 'url': 'https://sun9-57.userapi.com/c854128/v854128780/8f80b/za9HJ1HwbS8.jpg', 'width': 75, 'height': 56}, {'type': 'x', 'url': 'https://sun9-46.userapi.com/c854128/v854128780/8f80d/-91gvoYHGMg.jpg', 'width': 604, 'height': 453}, {'type': 'y', 'url': 'https://sun9-23.userapi.com/c854128/v854128780/8f80e/a0z5EkrrSVw.jpg', 'width': 807, 'height': 605}, {'type': 'z', 'url': 'https://sun9-21.userapi.com/c854128/v854128780/8f80f/F0AbQi6LPHw.jpg', 'width': 960, 'height': 720}], 'text': '', 'date': 1562829724, 'access_key': 'b16b5b0fb3f04176a2'}}, {'type': 'photo', 'photo': {'id': 457239966, 'album_id': -7, 'owner_id': 1467698, 'sizes': [{'type': 'm', 'url': 'https://sun9-8.userapi.com/c850324/v850324780/18f061/YUjok2Ftuvo.jpg', 'width': 130, 'height': 97}, {'type': 'o', 'url': 'https://sun9-55.userapi.com/c850324/v850324780/18f065/gAoEDXyhFlc.jpg', 'width': 130, 'height': 98}, {'type': 'p', 'url': 'https://sun9-56.userapi.com/c850324/v850324780/18f066/AHKEIT0OmY4.jpg', 'width': 200, 'height': 150}, {'type': 'q', 'url': 'https://sun9-24.userapi.com/c850324/v850324780/18f067/qqdHiMWXgT4.jpg', 'width': 320, 'height': 240}, {'type': 'r', 'url': 'https://sun9-58.userapi.com/c850324/v850324780/18f068/-QWLd3XBo7Q.jpg', 'width': 510, 'height': 383}, {'type': 's', 'url': 'https://sun9-36.userapi.com/c850324/v850324780/18f060/fy7GGF9LN_Q.jpg', 'width': 75, 'height': 56}, {'type': 'x', 'url': 'https://sun9-21.userapi.com/c850324/v850324780/18f062/Xu9WklHsL7c.jpg', 'width': 604, 'height': 453}, {'type': 'y', 'url': 'https://sun9-42.userapi.com/c850324/v850324780/18f063/3ltCr5d66I8.jpg', 'width': 807, 'height': 605}, {'type': 'z', 'url': 'https://sun9-10.userapi.com/c850324/v850324780/18f064/dT8svKDPTWQ.jpg', 'width': 960, 'height': 720}], 'text': '', 'date': 1562829723, 'access_key': '6bfa444b9ca267ea63'}}, {'type': 'photo', 'photo': {'id': 457239967, 'album_id': -7, 'owner_id': 1467698, 'sizes': [{'type': 'm', 'url': 'https://sun9-69.userapi.com/c855528/v855528780/8d248/2K8pQpVclzU.jpg', 'width': 130, 'height': 97}, {'type': 'o', 'url': 'https://sun9-8.userapi.com/c855528/v855528780/8d24c/rghToO1Cibc.jpg', 'width': 130, 'height': 98}, {'type': 'p', 'url': 'https://sun9-30.userapi.com/c855528/v855528780/8d24d/hrIOJoCohy8.jpg', 'width': 200, 'height': 150}, {'type': 'q', 'url': 'https://sun9-13.userapi.com/c855528/v855528780/8d24e/MkUEgQJyKnM.jpg', 'width': 320, 'height': 240}, {'type': 'r', 'url': 'https://sun9-44.userapi.com/c855528/v855528780/8d24f/ioLqiEuSVBI.jpg', 'width': 510, 'height': 383}, {'type': 's', 'url': 'https://sun9-39.userapi.com/c855528/v855528780/8d247/wGNRgoJ_EyQ.jpg', 'width': 75, 'height': 56}, {'type': 'x', 'url': 'https://sun9-26.userapi.com/c855528/v855528780/8d249/Rk0b90ubY4Q.jpg', 'width': 604, 'height': 453}, {'type': 'y', 'url': 'https://sun9-45.userapi.com/c855528/v855528780/8d24a/RHGJnRIKKyo.jpg', 'width': 807, 'height': 605}, {'type': 'z', 'url': 'https://sun9-50.userapi.com/c855528/v855528780/8d24b/S1w4EVko4h0.jpg', 'width': 960, 'height': 720}], 'text': '', 'date': 1562829724, 'access_key': '1d4ecc9f22a3abec60'}}, {'type': 'photo', 'photo': {'id': 457239969, 'album_id': -7, 'owner_id': 1467698, 'sizes': [{'type': 'm', 'url': 'https://sun9-59.userapi.com/c855528/v855528780/8d251/oRLAq3yizoE.jpg', 'width': 130, 'height': 97}, {'type': 'o', 'url': 'https://sun9-53.userapi.com/c855528/v855528780/8d255/pLJb5-qg7E4.jpg', 'width': 130, 'height': 98}, {'type': 'p', 'url': 'https://sun9-22.userapi.com/c855528/v855528780/8d256/M9UIgPHMvwc.jpg', 'width': 200, 'height': 150}, {'type': 'q', 'url': 'https://sun9-35.userapi.com/c855528/v855528780/8d257/hWBO4RHr42w.jpg', 'width': 320, 'height': 240}, {'type': 'r', 'url': 'https://sun9-57.userapi.com/c855528/v855528780/8d258/kfK1SpML0Is.jpg', 'width': 510, 'height': 383}, {'type': 's', 'url': 'https://sun9-43.userapi.com/c855528/v855528780/8d250/UONIueGSXeA.jpg', 'width': 75, 'height': 56}, {'type': 'x', 'url': 'https://sun9-52.userapi.com/c855528/v855528780/8d252/umWb5z9gFWk.jpg', 'width': 604, 'height': 453}, {'type': 'y', 'url': 'https://sun9-50.userapi.com/c855528/v855528780/8d253/IsTD-L9CKJQ.jpg', 'width': 807, 'height': 605}, {'type': 'z', 'url': 'https://sun9-65.userapi.com/c855528/v855528780/8d254/LpRPl2qv834.jpg', 'width': 960, 'height': 720}], 'text': '', 'date': 1562829724, 'access_key': '147b9fc264c615283d'}}, {'type': 'photo', 'photo': {'id': 457239970, 'album_id': -7, 'owner_id': 1467698, 'sizes': [{'type': 'm', 'url': 'https://sun9-46.userapi.com/c855528/v855528780/8d25a/DgWYH8nqb9U.jpg', 'width': 130, 'height': 63}, {'type': 'o', 'url': 'https://sun9-22.userapi.com/c855528/v855528780/8d25e/5JzAfvemayg.jpg', 'width': 130, 'height': 87}, {'type': 'p', 'url': 'https://sun9-58.userapi.com/c855528/v855528780/8d25f/7pwIvZg-m48.jpg', 'width': 200, 'height': 133}, {'type': 'q', 'url': 'https://sun9-63.userapi.com/c855528/v855528780/8d260/OAKqtcvECcM.jpg', 'width': 320, 'height': 213}, {'type': 'r', 'url': 'https://sun9-69.userapi.com/c855528/v855528780/8d261/FsYdahmlmsU.jpg', 'width': 510, 'height': 340}, {'type': 's', 'url': 'https://sun9-12.userapi.com/c855528/v855528780/8d259/O0wexDLm96g.jpg', 'width': 75, 'height': 36}, {'type': 'x', 'url': 'https://sun9-46.userapi.com/c855528/v855528780/8d25b/po0EOLcU8xg.jpg', 'width': 604, 'height': 293}, {'type': 'y', 'url': 'https://sun9-25.userapi.com/c855528/v855528780/8d25c/1avYZDhT1QE.jpg', 'width': 807, 'height': 392}, {'type': 'z', 'url': 'https://sun9-8.userapi.com/c855528/v855528780/8d25d/74PP1XWwS3k.jpg', 'width': 960, 'height': 466}], 'text': '', 'date': 1562829725, 'access_key': 'ce2179ffba0ff98896'}}, {'type': 'photo', 'photo': {'id': 457239973, 'album_id': -7, 'owner_id': 1467698, 'sizes': [{'type': 'm', 'url': 'https://sun9-54.userapi.com/c855528/v855528780/8d275/yMmTmHI02_U.jpg', 'width': 130, 'height': 63}, {'type': 'o', 'url': 'https://sun9-67.userapi.com/c855528/v855528780/8d279/oaJ7BgnkoVg.jpg', 'width': 130, 'height': 87}, {'type': 'p', 'url': 'https://sun9-16.userapi.com/c855528/v855528780/8d27a/NRC1rLLe6tA.jpg', 'width': 200, 'height': 133}, {'type': 'q', 'url': 'https://sun9-49.userapi.com/c855528/v855528780/8d27b/OEgXYH29CJY.jpg', 'width': 320, 'height': 213}, {'type': 'r', 'url': 'https://sun9-41.userapi.com/c855528/v855528780/8d27c/3zgGLHio8yI.jpg', 'width': 510, 'height': 340}, {'type': 's', 'url': 'https://sun9-25.userapi.com/c855528/v855528780/8d274/I3o3uNpC2Ag.jpg', 'width': 75, 'height': 36}, {'type': 'x', 'url': 'https://sun9-34.userapi.com/c855528/v855528780/8d276/-nB2xHjHYgg.jpg', 'width': 604, 'height': 293}, {'type': 'y', 'url': 'https://sun9-10.userapi.com/c855528/v855528780/8d277/QMNDjH4zHw4.jpg', 'width': 807, 'height': 392}, {'type': 'z', 'url': 'https://sun9-47.userapi.com/c855528/v855528780/8d278/lkA-s__owSs.jpg', 'width': 960, 'height': 466}], 'text': '', 'date': 1562829726, 'access_key': 'dbd9e206e5ebfd03da'}}, {'type': 'photo', 'photo': {'id': 457239971, 'album_id': -7, 'owner_id': 1467698, 'sizes': [{'type': 'm', 'url': 'https://sun9-31.userapi.com/c855528/v855528780/8d263/XBsFZ0Rwo7o.jpg', 'width': 130, 'height': 97}, {'type': 'o', 'url': 'https://sun9-13.userapi.com/c855528/v855528780/8d267/LnxYkUxG5Vc.jpg', 'width': 130, 'height': 98}, {'type': 'p', 'url': 'https://sun9-30.userapi.com/c855528/v855528780/8d268/hPTwCsQ4egw.jpg', 'width': 200, 'height': 150}, {'type': 'q', 'url': 'https://sun9-22.userapi.com/c855528/v855528780/8d269/nuiiXDOaPRY.jpg', 'width': 320, 'height': 240}, {'type': 'r', 'url': 'https://sun9-62.userapi.com/c855528/v855528780/8d26a/h1_Xayj17z4.jpg', 'width': 510, 'height': 383}, {'type': 's', 'url': 'https://sun9-11.userapi.com/c855528/v855528780/8d262/AfrAVwQEbmY.jpg', 'width': 75, 'height': 56}, {'type': 'x', 'url': 'https://sun9-51.userapi.com/c855528/v855528780/8d264/hrAoy2HnCc4.jpg', 'width': 604, 'height': 453}, {'type': 'y', 'url': 'https://sun9-10.userapi.com/c855528/v855528780/8d265/lNKwiHEwmOg.jpg', 'width': 807, 'height': 605}, {'type': 'z', 'url': 'https://sun9-14.userapi.com/c855528/v855528780/8d266/UN3lHjQ8MKY.jpg', 'width': 960, 'height': 720}], 'text': '', 'date': 1562829725, 'access_key': '4d790db5d50f7a917d'}}, {'type': 'photo', 'photo': {'id': 457239972, 'album_id': -7, 'owner_id': 1467698, 'sizes': [{'type': 'm', 'url': 'https://sun9-68.userapi.com/c855528/v855528780/8d26c/FhqfYjdSIF4.jpg', 'width': 130, 'height': 97}, {'type': 'o', 'url': 'https://sun9-5.userapi.com/c855528/v855528780/8d270/O1zhkOunyeE.jpg', 'width': 130, 'height': 98}, {'type': 'p', 'url': 'https://sun9-14.userapi.com/c855528/v855528780/8d271/Jdz25kytP-E.jpg', 'width': 200, 'height': 150}, {'type': 'q', 'url': 'https://sun9-8.userapi.com/c855528/v855528780/8d272/rdBCjkl1weE.jpg', 'width': 320, 'height': 240}, {'type': 'r', 'url': 'https://sun9-37.userapi.com/c855528/v855528780/8d273/CuhjGPhGHEA.jpg', 'width': 510, 'height': 383}, {'type': 's', 'url': 'https://sun9-9.userapi.com/c855528/v855528780/8d26b/MgGK0hqcgkw.jpg', 'width': 75, 'height': 56}, {'type': 'x', 'url': 'https://sun9-24.userapi.com/c855528/v855528780/8d26d/Z8Z7PVd3Ycc.jpg', 'width': 604, 'height': 453}, {'type': 'y', 'url': 'https://sun9-70.userapi.com/c855528/v855528780/8d26e/8z7Zn9YKT24.jpg', 'width': 807, 'height': 605}, {'type': 'z', 'url': 'https://sun9-43.userapi.com/c855528/v855528780/8d26f/fJg7O5xRs7w.jpg', 'width': 960, 'height': 720}], 'text': '', 'date': 1562829726, 'access_key': '43fbb2307e6cb96394'}}], 'post_source': {'type': 'api', 'platform': 'instagram', 'url': 'https://www.instagram.com/p/Bzv-0nsgqp0Ldt8KMRyiW54osZKm1TxjQJ50mI0/'}, 'comments': {'count': 2, 'can_post': 1, 'groups_can_post': True}, 'likes': {'count': 21, 'user_likes': 0, 'can_like': 1, 'can_publish': 1}, 'reposts': {'count': 0, 'user_reposted': 0}, 'views': {'count': 311}, 'edited': 1562829733}, {'id': 3222, 'from_id': 1467698, 'owner_id': 1467698, 'date': 1562264271, 'post_type': 'post', 'text': 'Сааашки! ❤️ gusarovalexander aleksa_gsv #питервгостях #суперденьрождения #30летуманет  ', 'attachments': [{'type': 'photo', 'photo': {'id': 456239964, 'album_id': -7, 'owner_id': 1467698, 'sizes': [{'type': 'm', 'url': 'https://sun9-51.userapi.com/c848628/v848628494/1d7652/QVaxfqh3mzA.jpg', 'width': 130, 'height': 97}, {'type': 'o', 'url': 'https://sun9-69.userapi.com/c848628/v848628494/1d7656/n7-gE-RiUUM.jpg', 'width': 130, 'height': 98}, {'type': 'p', 'url': 'https://sun9-66.userapi.com/c848628/v848628494/1d7657/CcQ7yC66GSc.jpg', 'width': 200, 'height': 150}, {'type': 'q', 'url': 'https://sun9-5.userapi.com/c848628/v848628494/1d7658/tnbQGEa9zcw.jpg', 'width': 320, 'height': 240}, {'type': 'r', 'url': 'https://sun9-44.userapi.com/c848628/v848628494/1d7659/N2TGX5Zppsc.jpg', 'width': 510, 'height': 383}, {'type': 's', 'url': 'https://sun9-30.userapi.com/c848628/v848628494/1d7651/aa6id5wDn1w.jpg', 'width': 75, 'height': 56}, {'type': 'x', 'url': 'https://sun9-58.userapi.com/c848628/v848628494/1d7653/DFMduAthFpo.jpg', 'width': 604, 'height': 453}, {'type': 'y', 'url': 'https://sun9-10.userapi.com/c848628/v848628494/1d7654/4ooRbYe6FLk.jpg', 'width': 807, 'height': 605}, {'type': 'z', 'url': 'https://sun9-49.userapi.com/c848628/v848628494/1d7655/Mbjhl5m42EQ.jpg', 'width': 1080, 'height': 810}], 'text': '', 'date': 1562264270, 'post_id': 3222, 'access_key': 'a7e66ef6f46d6dfe48'}}], 'geo': {'type': 'point', 'coordinates': '56.850000442854 60.600002677407', 'place': {'created': 0, 'id': 0, 'is_deleted': False, 'latitude': 0.0, 'longitude': 0.0, 'title': 'ulitsa Eremina, Yekaterinburg', 'total_checkins': 0, 'updated': 0, 'country': 'Russia', 'city': 'Yekaterinburg'}}, 'post_source': {'type': 'api', 'platform': 'instagram', 'url': 'https://www.instagram.com/p/BzgS2NGgu5yn4F3M5Df3qNyfd-cs44d77iULgs0/'}, 'comments': {'count': 0, 'can_post': 1, 'groups_can_post': True}, 'likes': {'count': 22, 'user_likes': 0, 'can_like': 1, 'can_publish': 1}, 'reposts': {'count': 0, 'user_reposted': 0}, 'views': {'count': 381}}, {'id': 3220, 'from_id': 1467698, 'owner_id': 1467698, 'date': 1560105861, 'post_type': 'post', 'text': '#лето #прогулки #выходные  ', 'attachments': [{'type': 'photo', 'photo': {'id': 456239962, 'album_id': -7, 'owner_id': 1467698, 'sizes': [{'type': 'm', 'url': 'https://sun9-42.userapi.com/c848736/v848736702/1b680c/bIlpclrg8qs.jpg', 'width': 130, 'height': 97}, {'type': 'o', 'url': 'https://sun9-21.userapi.com/c848736/v848736702/1b6810/qFeVUGgbkM4.jpg', 'width': 130, 'height': 98}, {'type': 'p', 'url': 'https://sun9-66.userapi.com/c848736/v848736702/1b6811/CMROe2vWx1Q.jpg', 'width': 200, 'height': 150}, {'type': 'q', 'url': 'https://sun9-38.userapi.com/c848736/v848736702/1b6812/GkakVAyDS1k.jpg', 'width': 320, 'height': 240}, {'type': 'r', 'url': 'https://sun9-70.userapi.com/c848736/v848736702/1b6813/OKtNTEwdnm8.jpg', 'width': 510, 'height': 383}, {'type': 's', 'url': 'https://sun9-23.userapi.com/c848736/v848736702/1b680b/swOT4IYGJTI.jpg', 'width': 75, 'height': 56}, {'type': 'x', 'url': 'https://sun9-59.userapi.com/c848736/v848736702/1b680d/KRfRsNCNOUc.jpg', 'width': 604, 'height': 453}, {'type': 'y', 'url': 'https://sun9-34.userapi.com/c848736/v848736702/1b680e/idTYdwpDRVI.jpg', 'width': 807, 'height': 605}, {'type': 'z', 'url': 'https://sun9-70.userapi.com/c848736/v848736702/1b680f/e8v5wAmtFvk.jpg', 'width': 960, 'height': 720}], 'text': '', 'date': 1560105860, 'post_id': 3220, 'access_key': '85654bbfcbaddd8f3e'}}], 'geo': {'type': 'point', 'coordinates': '56.850000442854 60.600002677407', 'place': {'created': 0, 'id': 0, 'is_deleted': False, 'latitude': 0.0, 'longitude': 0.0, 'title': 'ulitsa Eremina, Yekaterinburg', 'total_checkins': 0, 'updated': 0, 'country': 'Russia', 'city': 'Yekaterinburg'}}, 'post_source': {'type': 'api', 'platform': 'instagram', 'url': 'https://www.instagram.com/p/Byf-AavgUl2rFOwsJZ_DH66rUYpORbQH7U1i9c0/'}, 'comments': {'count': 0, 'can_post': 1, 'groups_can_post': True}, 'likes': {'count': 12, 'user_likes': 0, 'can_like': 1, 'can_publish': 1}, 'reposts': {'count': 0, 'user_reposted': 0}, 'views': {'count': 344}}, {'id': 3218, 'from_id': 1467698, 'owner_id': 1467698, 'date': 1558116724, 'post_type': 'post', 'text': 'Моя дорогая natasha_op ❤️ ', 'attachments': [{'type': 'photo', 'photo': {'id': 456239958, 'album_id': -7, 'owner_id': 1467698, 'sizes': [{'type': 'm', 'url': 'https://sun9-51.userapi.com/c850720/v850720353/11dbae/3_FaAEw9g60.jpg', 'width': 130, 'height': 97}, {'type': 'o', 'url': 'https://sun9-11.userapi.com/c850720/v850720353/11dbb2/gSfpecugFYY.jpg', 'width': 130, 'height': 98}, {'type': 'p', 'url': 'https://sun9-47.userapi.com/c850720/v850720353/11dbb3/N5rVN2E9tm4.jpg', 'width': 200, 'height': 150}, {'type': 'q', 'url': 'https://sun9-42.userapi.com/c850720/v850720353/11dbb4/CFqngWUy-4g.jpg', 'width': 320, 'height': 240}, {'type': 'r', 'url': 'https://sun9-25.userapi.com/c850720/v850720353/11dbb5/bjw6QTrqgR4.jpg', 'width': 510, 'height': 383}, {'type': 's', 'url': 'https://sun9-14.userapi.com/c850720/v850720353/11dbad/dQW1U6DW4sk.jpg', 'width': 75, 'height': 56}, {'type': 'x', 'url': 'https://sun9-7.userapi.com/c850720/v850720353/11dbaf/kFd9LaMgavc.jpg', 'width': 604, 'height': 453}, {'type': 'y', 'url': 'https://sun9-6.userapi.com/c850720/v850720353/11dbb0/5BEMee1mOxI.jpg', 'width': 807, 'height': 605}, {'type': 'z', 'url': 'https://sun9-38.userapi.com/c850720/v850720353/11dbb1/J5I6gQ8h2b4.jpg', 'width': 961, 'height': 721}], 'text': '', 'date': 1558116723, 'post_id': 3218, 'access_key': 'b43725167dd01073c5'}}], 'geo': {'type': 'point', 'coordinates': '56.831943229727 60.613754719665', 'place': {'created': 0, 'id': 0, 'is_deleted': False, 'latitude': 0.0, 'longitude': 0.0, 'title': 'ulitsa Rozy Lyuksemburg, Yekaterinburg', 'total_checkins': 0, 'updated': 0, 'country': 'Russia', 'city': 'Yekaterinburg'}}, 'post_source': {'type': 'api', 'platform': 'instagram', 'url': 'https://www.instagram.com/p/BxksB38gEykTax5DKI1E0XDM6ElGuEECfohXHo0/'}, 'comments': {'count': 0, 'can_post': 1, 'groups_can_post': True}, 'likes': {'count': 8, 'user_likes': 0, 'can_like': 1, 'can_publish': 1}, 'reposts': {'count': 0, 'user_reposted': 0}, 'views': {'count': 315}}, {'id': 3217, 'from_id': 1467698, 'owner_id': 1467698, 'date': 1557602598, 'post_type': 'post', 'text': '', 'attachments': [{'type': 'photo', 'photo': {'id': 456239957, 'album_id': -7, 'owner_id': 1467698, 'sizes': [{'type': 'm', 'url': 'https://sun9-36.userapi.com/c845322/v845322848/204e76/bVXPA0shxu0.jpg', 'width': 104, 'height': 130}, {'type': 'o', 'url': 'https://sun9-68.userapi.com/c845322/v845322848/204e7b/W158QoKNJm0.jpg', 'width': 130, 'height': 163}, {'type': 'p', 'url': 'https://sun9-49.userapi.com/c845322/v845322848/204e7c/HZ7lSXqOOgY.jpg', 'width': 200, 'height': 250}, {'type': 'q', 'url': 'https://sun9-7.userapi.com/c845322/v845322848/204e7d/poFSUH_Tasw.jpg', 'width': 320, 'height': 400}, {'type': 'r', 'url': 'https://sun9-27.userapi.com/c845322/v845322848/204e7e/pZQ2ZWIO75o.jpg', 'width': 510, 'height': 638}, {'type': 's', 'url': 'https://sun9-8.userapi.com/c845322/v845322848/204e75/U7ElHru6SFs.jpg', 'width': 60, 'height': 75}, {'type': 'w', 'url': 'https://sun9-64.userapi.com/c845322/v845322848/204e7a/0gm870TvHkM.jpg', 'width': 1080, 'height': 1350}, {'type': 'x', 'url': 'https://sun9-65.userapi.com/c845322/v845322848/204e77/u_fYLmri_CA.jpg', 'width': 483, 'height': 604}, {'type': 'y', 'url': 'https://sun9-61.userapi.com/c845322/v845322848/204e78/xWPUNecLoNg.jpg', 'width': 646, 'height': 807}, {'type': 'z', 'url': 'https://sun9-39.userapi.com/c845322/v845322848/204e79/ONZPSotKguA.jpg', 'width': 864, 'height': 1080}], 'text': '', 'date': 1557602598, 'post_id': 3217, 'access_key': '092e1a3cbe563b2b34'}}], 'geo': {'type': 'point', 'coordinates': '36.626972805634 29.124229429463', 'place': {'created': 0, 'id': 0, 'is_deleted': False, 'latitude': 0.0, 'longitude': 0.0, 'title': 'Mustafa Kemal Bulvarı, Fethiye', 'total_checkins': 0, 'updated': 0, 'country': 'Turkey', 'city': 'Fethiye'}}, 'post_source': {'type': 'api', 'platform': 'instagram', 'url': 'https://www.instagram.com/p/BxVXaFGgGTHfswdRCZWMDarUEywqOMusTfmPGA0/'}, 'comments': {'count': 0, 'can_post': 1, 'groups_can_post': True}, 'likes': {'count': 5, 'user_likes': 0, 'can_like': 1, 'can_publish': 1}, 'reposts': {'count': 0, 'user_reposted': 0}, 'views': {'count': 230}}, {'id': 3213, 'from_id': 1467698, 'owner_id': 1467698, 'date': 1557507583, 'post_type': 'post', 'text': 'Отдыха много не бывает ❤️ ', 'attachments': [{'type': 'photo', 'photo': {'id': 456239956, 'album_id': -7, 'owner_id': 1467698, 'sizes': [{'type': 'm', 'url': 'https://sun9-22.userapi.com/c854420/v854420569/38928/FjndUja95uQ.jpg', 'width': 130, 'height': 97}, {'type': 'o', 'url': 'https://sun9-12.userapi.com/c854420/v854420569/3892c/84MmboYT0QI.jpg', 'width': 130, 'height': 98}, {'type': 'p', 'url': 'https://sun9-44.userapi.com/c854420/v854420569/3892d/B1kwYM5DO30.jpg', 'width': 200, 'height': 150}, {'type': 'q', 'url': 'https://sun9-6.userapi.com/c854420/v854420569/3892e/aK4RskR0ImM.jpg', 'width': 320, 'height': 240}, {'type': 'r', 'url': 'https://sun9-14.userapi.com/c854420/v854420569/3892f/36ieoh3wyW8.jpg', 'width': 510, 'height': 383}, {'type': 's', 'url': 'https://sun9-25.userapi.com/c854420/v854420569/38927/hZMg-SB6ysc.jpg', 'width': 75, 'height': 56}, {'type': 'x', 'url': 'https://sun9-31.userapi.com/c854420/v854420569/38929/oFUEmO3X_IY.jpg', 'width': 604, 'height': 453}, {'type': 'y', 'url': 'https://sun9-16.userapi.com/c854420/v854420569/3892a/FBktwrkbX4Q.jpg', 'width': 807, 'height': 605}, {'type': 'z', 'url': 'https://sun9-15.userapi.com/c854420/v854420569/3892b/NumLB94DCwo.jpg', 'width': 960, 'height': 720}], 'text': '', 'date': 1557507582, 'post_id': 3213, 'access_key': '8b4b7cb502a2a0f4f4'}}], 'geo': {'type': 'point', 'coordinates': '36.626972805634 29.124229429463', 'place': {'created': 0, 'id': 0, 'is_deleted': False, 'latitude': 0.0, 'longitude': 0.0, 'title': 'Mustafa Kemal Bulvarı, Fethiye', 'total_checkins': 0, 'updated': 0, 'country': 'Turkey', 'city': 'Fethiye'}}, 'post_source': {'type': 'api', 'platform': 'instagram', 'url': 'https://www.instagram.com/p/BxSiLwVgBVF4kYGwo10UOy6v5LuYX8N3F5WZ0M0/'}, 'comments': {'count': 3, 'can_post': 1, 'groups_can_post': True}, 'likes': {'count': 32, 'user_likes': 0, 'can_like': 1, 'can_publish': 1}, 'reposts': {'count': 0, 'user_reposted': 0}, 'views': {'count': 317}}], 'profiles': [{'id': 1467698, 'first_name': 'Tatyana', 'last_name': 'Komyakova', 'is_closed': False, 'can_access_closed': True, 'sex': 1, 'screen_name': 'id1467698', 'photo_50': 'https://sun9-29.userapi.com/c845521/v845521038/123070/9BbzlOgyLgk.jpg?ava=1', 'photo_100': 'https://sun9-8.userapi.com/c845521/v845521038/12306f/Jfo1VZgk7pY.jpg?ava=1', 'online': 0, 'online_info': {'visible': True, 'last_seen': 1584343370}}], 'groups': []}, {'count': 171, 'items': [{'id': 839, 'from_id': 2233698, 'owner_id': 2233698, 'date': 1539465069, 'post_type': 'post', 'text': '🔥🔥🔥 Девочки, чудесных Вам выходных🤗🤗🤗 Побольше тепла, любви и ярких красок❤️❤️❤️ ', 'attachments': [{'type': 'photo', 'photo': {'id': 456239138, 'album_id': -7, 'owner_id': 2233698, 'sizes': [{'type': 'm', 'url': 'https://sun9-21.userapi.com/c849220/v849220143/9d5fd/zE0cKJEmqn8.jpg', 'width': 104, 'height': 130}, {'type': 'o', 'url': 'https://sun9-29.userapi.com/c849220/v849220143/9d602/aOlqgibMS-k.jpg', 'width': 130, 'height': 163}, {'type': 'p', 'url': 'https://sun9-35.userapi.com/c849220/v849220143/9d603/0A6CEGtEumY.jpg', 'width': 200, 'height': 250}, {'type': 'q', 'url': 'https://sun9-5.userapi.com/c849220/v849220143/9d604/4XpFrGAsJDg.jpg', 'width': 320, 'height': 400}, {'type': 'r', 'url': 'https://sun9-46.userapi.com/c849220/v849220143/9d605/vPAOFAdDvTk.jpg', 'width': 510, 'height': 638}, {'type': 's', 'url': 'https://sun9-12.userapi.com/c849220/v849220143/9d5fc/mmeU_rNc-6k.jpg', 'width': 60, 'height': 75}, {'type': 'w', 'url': 'https://sun9-24.userapi.com/c849220/v849220143/9d601/_P1PJ2y8ne0.jpg', 'width': 1080, 'height': 1350}, {'type': 'x', 'url': 'https://sun9-53.userapi.com/c849220/v849220143/9d5fe/vBFLhywmu6Q.jpg', 'width': 483, 'height': 604}, {'type': 'y', 'url': 'https://sun9-61.userapi.com/c849220/v849220143/9d5ff/qM2IPlfk-Ws.jpg', 'width': 646, 'height': 807}, {'type': 'z', 'url': 'https://sun9-22.userapi.com/c849220/v849220143/9d600/qDONRnvKRf0.jpg', 'width': 864, 'height': 1080}], 'text': '', 'date': 1539465068, 'post_id': 839, 'access_key': '0174db0a710148920d'}}], 'geo': {'type': 'point', 'coordinates': '56.850000442854 60.600002677407', 'place': {'created': 0, 'id': 0, 'is_deleted': False, 'latitude': 0.0, 'longitude': 0.0, 'title': 'ulitsa Eremina, Yekaterinburg', 'total_checkins': 0, 'updated': 0, 'country': 'Russia', 'city': 'Yekaterinburg'}}, 'post_source': {'type': 'api', 'platform': 'instagram', 'url': 'https://www.instagram.com/p/Bo40zsKnPJW/'}, 'comments': {'count': 0, 'can_post': 0, 'groups_can_post': True}, 'likes': {'count': 2, 'user_likes': 0, 'can_like': 1, 'can_publish': 1}, 'reposts': {'count': 0, 'user_reposted': 0}, 'views': {'count': 203}}, {'id': 838, 'from_id': 2233698, 'owner_id': 2233698, 'date': 1539380530, 'post_type': 'post', 'text': '🕊🕊🕊Такая нежная, такая воздушная, и такая очаровательная блузка Каталина предназначена любой день сделать праздничным🎉🎉🎉  Нежное кружево и жемчужная пуговка придают изысканность и оригинальность💫💫💫\\n•\\nЦена 4900₽\\n•\\n🛍 Для заказа напишите нам в WhatsApp +7(912) 295 05 69 ссылка в шапке профиля\\n🏡 Шоу-рум г.Екатеринбург, ул. Хохрякова, 74, оф. 502, 3 мин. от ТЦ Гринвич (по записи)\\n❗️По Екатеринбургу действует бесплатная доставка (при покупке)🚗 в другие города отправка почтой или с курьером🎁 ', 'attachments': [{'type': 'photo', 'photo': {'id': 456239137, 'album_id': -7, 'owner_id': 2233698, 'sizes': [{'type': 'm', 'url': 'https://sun9-64.userapi.com/c850636/v850636195/1f3c9/wY8qdxqM2B8.jpg', 'width': 104, 'height': 130}, {'type': 'o', 'url': 'https://sun9-46.userapi.com/c850636/v850636195/1f3ce/h9VfW3hqtcQ.jpg', 'width': 130, 'height': 163}, {'type': 'p', 'url': 'https://sun9-58.userapi.com/c850636/v850636195/1f3cf/FDKSepMv1U0.jpg', 'width': 200, 'height': 250}, {'type': 'q', 'url': 'https://sun9-25.userapi.com/c850636/v850636195/1f3d0/08X6Vo4TDDY.jpg', 'width': 320, 'height': 400}, {'type': 'r', 'url': 'https://sun9-31.userapi.com/c850636/v850636195/1f3d1/MX41Y-EQvK4.jpg', 'width': 510, 'height': 638}, {'type': 's', 'url': 'https://sun9-66.userapi.com/c850636/v850636195/1f3c8/GNM4KO7eQMo.jpg', 'width': 60, 'height': 75}, {'type': 'w', 'url': 'https://sun9-47.userapi.com/c850636/v850636195/1f3cd/JP68DmTqzjg.jpg', 'width': 937, 'height': 1171}, {'type': 'x', 'url': 'https://sun9-26.userapi.com/c850636/v850636195/1f3ca/-oIdyiDssvs.jpg', 'width': 483, 'height': 604}, {'type': 'y', 'url': 'https://sun9-39.userapi.com/c850636/v850636195/1f3cb/3gKFU24SGjI.jpg', 'width': 646, 'height': 807}, {'type': 'z', 'url': 'https://sun9-40.userapi.com/c850636/v850636195/1f3cc/tdljX3sjGpc.jpg', 'width': 864, 'height': 1080}], 'text': '', 'date': 1539380529, 'post_id': 838, 'access_key': '5f545db0dd3f9d7315'}}], 'geo': {'type': 'point', 'coordinates': '56.844936586474 60.603481599936', 'place': {'created': 0, 'id': 0, 'is_deleted': False, 'latitude': 0.0, 'longitude': 0.0, 'title': 'ulitsa Ekaterininskaya Shirokaya, Yekaterinburg', 'total_checkins': 0, 'updated': 0, 'country': 'Russia', 'city': 'Yekaterinburg'}}, 'post_source': {'type': 'api', 'platform': 'instagram', 'url': 'https://www.instagram.com/p/Bo2TkqPnwKG/'}, 'comments': {'count': 0, 'can_post': 0, 'groups_can_post': True}, 'likes': {'count': 0, 'user_likes': 0, 'can_like': 1, 'can_publish': 1}, 'reposts': {'count': 0, 'user_reposted': 0}, 'views': {'count': 169}}, {'id': 837, 'from_id': 2233698, 'owner_id': 2233698, 'date': 1539331773, 'post_type': 'post', 'text': '❄️❄️❄️ Вот это погодка у нас сегодня 🌬🌬🌬 Но нам холода не помеха! В твидовых жакетах так уютно и тепло❤️❤️❤️ Утепляемся красиво, в стиле Шанель 😍😍😍\\n•\\nЖакет 8600₽\\nЮбка 4500₽\\n•\\n🛍 Для заказа напишите нам в WhatsApp +7(912) 295 05 69 ссылка в шапке профиля\\n🏡 Шоу-рум г.Екатеринбург, ул. Хохрякова, 74, оф. 502, 3 мин. от ТЦ Гринвич (по записи)\\n❗️По Екатеринбургу действует бесплатная доставка (при покупке)🚗 в другие города отправка почтой или с курьером🎁 ', 'attachments': [{'type': 'photo', 'photo': {'id': 456239136, 'album_id': -7, 'owner_id': 2233698, 'sizes': [{'type': 'm', 'url': 'https://sun9-32.userapi.com/c849332/v849332816/96d9f/RTMHKkYxGkg.jpg', 'width': 104, 'height': 130}, {'type': 'o', 'url': 'https://sun9-23.userapi.com/c849332/v849332816/96da4/TXAVwK9OUpQ.jpg', 'width': 130, 'height': 163}, {'type': 'p', 'url': 'https://sun9-23.userapi.com/c849332/v849332816/96da5/nc0hblomMPU.jpg', 'width': 200, 'height': 250}, {'type': 'q', 'url': 'https://sun9-32.userapi.com/c849332/v849332816/96da6/ZC0ajs09UHQ.jpg', 'width': 320, 'height': 400}, {'type': 'r', 'url': 'https://sun9-23.userapi.com/c849332/v849332816/96da7/ZmxZZASg9fs.jpg', 'width': 510, 'height': 638}, {'type': 's', 'url': 'https://sun9-66.userapi.com/c849332/v849332816/96d9e/rHF5Yg8GXho.jpg', 'width': 60, 'height': 75}, {'type': 'w', 'url': 'https://sun9-11.userapi.com/c849332/v849332816/96da3/VCM7AYpgRYQ.jpg', 'width': 1080, 'height': 1350}, {'type': 'x', 'url': 'https://sun9-50.userapi.com/c849332/v849332816/96da0/etTt8GycUm8.jpg', 'width': 483, 'height': 604}, {'type': 'y', 'url': 'https://sun9-63.userapi.com/c849332/v849332816/96da1/TmYyO8e8bwc.jpg', 'width': 646, 'height': 807}, {'type': 'z', 'url': 'https://sun9-70.userapi.com/c849332/v849332816/96da2/lSt05qEjPPM.jpg', 'width': 864, 'height': 1080}], 'text': '', 'date': 1539331772, 'post_id': 837, 'access_key': 'dcfbb2d15d74fd5c4d'}}], 'geo': {'type': 'point', 'coordinates': '56.84027541351 60.546809865799', 'place': {'created': 0, 'id': 0, 'is_deleted': False, 'latitude': 0.0, 'longitude': 0.0, 'title': 'улица Кирова, Yekaterinburg', 'total_checkins': 0, 'updated': 0, 'country': 'Russia', 'city': 'Yekaterinburg'}}, 'post_source': {'type': 'api', 'platform': 'instagram', 'url': 'https://www.instagram.com/p/Bo02jo1HNuJ/'}, 'comments': {'count': 0, 'can_post': 0, 'groups_can_post': True}, 'likes': {'count': 0, 'user_likes': 0, 'can_like': 1, 'can_publish': 1}, 'reposts': {'count': 0, 'user_reposted': 0}, 'views': {'count': 122}}, {'id': 836, 'from_id': 2233698, 'owner_id': 2233698, 'date': 1539236795, 'post_type': 'post', 'text': '💚💚💚 Платье Ассоль - это настоящий шедевр из невесомого шёлка и очень тонкая и кропотливая ручная работа. Это платье покоряет своим волшебством и не оставляет ни одного равнодушного взгляда😍😍😍\\n•\\nЦена: 6500₽\\n•\\n🛍 Для заказа напишите нам в WhatsApp +7(912) 295 05 69 ссылка в шапке профиля\\n🏡 Шоу-рум г.Екатеринбург, ул. Хохрякова, 74, оф. 502, 3 мин. от ТЦ Гринвич (по записи)\\n❗️По Екатеринбургу действует бесплатная доставка (при покупке)🚗 в другие города отправка почтой или с курьером🎁 ', 'attachments': [{'type': 'photo', 'photo': {'id': 456239135, 'album_id': -7, 'owner_id': 2233698, 'sizes': [{'type': 'm', 'url': 'https://sun9-67.userapi.com/c830108/v830108738/1addfb/6nJEVjnInTw.jpg', 'width': 104, 'height': 130}, {'type': 'o', 'url': 'https://sun9-67.userapi.com/c830108/v830108738/1ade00/Xr5bPiVd-CA.jpg', 'width': 130, 'height': 163}, {'type': 'p', 'url': 'https://sun9-11.userapi.com/c830108/v830108738/1ade01/hr9-k-0d9bI.jpg', 'width': 200, 'height': 250}, {'type': 'q', 'url': 'https://sun9-8.userapi.com/c830108/v830108738/1ade02/h-Xd4EKI4iQ.jpg', 'width': 320, 'height': 400}, {'type': 'r', 'url': 'https://sun9-64.userapi.com/c830108/v830108738/1ade03/1Teljl39Rhw.jpg', 'width': 510, 'height': 637}, {'type': 's', 'url': 'https://sun9-33.userapi.com/c830108/v830108738/1addfa/KehfqmYtl0Y.jpg', 'width': 60, 'height': 75}, {'type': 'w', 'url': 'https://sun9-63.userapi.com/c830108/v830108738/1addff/JJ6Hl9O-WO4.jpg', 'width': 1080, 'height': 1348}, {'type': 'x', 'url': 'https://sun9-27.userapi.com/c830108/v830108738/1addfc/u3BQyu2tQU4.jpg', 'width': 483, 'height': 604}, {'type': 'y', 'url': 'https://sun9-26.userapi.com/c830108/v830108738/1addfd/bd_UBskVkA4.jpg', 'width': 646, 'height': 807}, {'type': 'z', 'url': 'https://sun9-44.userapi.com/c830108/v830108738/1addfe/PE4NQ9YnOeA.jpg', 'width': 865, 'height': 1080}], 'text': '', 'date': 1539236794, 'post_id': 836, 'access_key': '48e5e682976cd47d22'}}], 'geo': {'type': 'point', 'coordinates': '56.830708750364 60.591808362581', 'place': {'created': 0, 'id': 0, 'is_deleted': False, 'latitude': 0.0, 'longitude': 0.0, 'title': 'ulitsa Khokhryakova, Yekaterinburg', 'total_checkins': 0, 'updated': 0, 'country': 'Russia', 'city': 'Yekaterinburg'}}, 'post_source': {'type': 'api', 'platform': 'instagram', 'url': 'https://www.instagram.com/p/BoyBY33nAT7/'}, 'comments': {'count': 0, 'can_post': 0, 'groups_can_post': True}, 'likes': {'count': 0, 'user_likes': 0, 'can_like': 1, 'can_publish': 1}, 'reposts': {'count': 0, 'user_reposted': 0}, 'views': {'count': 117}}, {'id': 835, 'from_id': 2233698, 'owner_id': 2233698, 'date': 1539150272, 'post_type': 'post', 'text': '😍😍😍 Идеальный брючный костюм должен быть у каждой девочки❣️❣️❣️ Наши брюки Келли (4500₽) и жакет Жаклин (7900₽) настолько гармоничны вместе, что они обязательно станут любимым комплектом в гардеробе❤️❤️❤️\\n•\\n🛍 Для заказа напишите нам в WhatsApp +7(912) 295 05 69 ссылка в шапке профиля\\n🏡 Шоу-рум г.Екатеринбург, ул. Хохрякова, 74, оф. 502, 3 мин. от ТЦ Гринвич (по записи)\\n❗️По Екатеринбургу действует бесплатная доставка (при покупке)🚗 в другие города отправка почтой или с курьером🎁 ', 'attachments': [{'type': 'photo', 'photo': {'id': 456239134, 'album_id': -7, 'owner_id': 2233698, 'sizes': [{'type': 'm', 'url': 'https://sun9-5.userapi.com/c847121/v847121744/105838/4dKwtQQANZU.jpg', 'width': 104, 'height': 130}, {'type': 'o', 'url': 'https://sun9-38.userapi.com/c847121/v847121744/10583d/_QmioGhuIk4.jpg', 'width': 130, 'height': 163}, {'type': 'p', 'url': 'https://sun9-67.userapi.com/c847121/v847121744/10583e/emv-MpItXx4.jpg', 'width': 200, 'height': 250}, {'type': 'q', 'url': 'https://sun9-25.userapi.com/c847121/v847121744/10583f/lk3FAlegLLs.jpg', 'width': 320, 'height': 400}, {'type': 'r', 'url': 'https://sun9-46.userapi.com/c847121/v847121744/105840/bYiNifhie1s.jpg', 'width': 510, 'height': 638}, {'type': 's', 'url': 'https://sun9-24.userapi.com/c847121/v847121744/105837/iBQYSXm26U8.jpg', 'width': 60, 'height': 75}, {'type': 'w', 'url': 'https://sun9-12.userapi.com/c847121/v847121744/10583c/VeuR7MMrWS4.jpg', 'width': 937, 'height': 1171}, {'type': 'x', 'url': 'https://sun9-25.userapi.com/c847121/v847121744/105839/PxFzGSDWDDA.jpg', 'width': 483, 'height': 604}, {'type': 'y', 'url': 'https://sun9-60.userapi.com/c847121/v847121744/10583a/wkqsIiyEIis.jpg', 'width': 646, 'height': 807}, {'type': 'z', 'url': 'https://sun9-46.userapi.com/c847121/v847121744/10583b/SMEpMJIH-bg.jpg', 'width': 864, 'height': 1080}], 'text': '', 'date': 1539150272, 'post_id': 835, 'access_key': 'db39f7568a15d0c2c6'}}], 'geo': {'type': 'point', 'coordinates': '56.842802194362 60.610577931063', 'place': {'created': 0, 'id': 0, 'is_deleted': False, 'latitude': 0.0, 'longitude': 0.0, 'title': 'ulitsa Karla Libknekhta, Yekaterinburg', 'total_checkins': 0, 'updated': 0, 'country': 'Russia', 'city': 'Yekaterinburg'}}, 'post_source': {'type': 'api', 'platform': 'instagram', 'url': 'https://www.instagram.com/p/BovcYmlHo-6/'}, 'comments': {'count': 0, 'can_post': 0, 'groups_can_post': True}, 'likes': {'count': 0, 'user_likes': 0, 'can_like': 1, 'can_publish': 1}, 'reposts': {'count': 0, 'user_reposted': 0}, 'views': {'count': 92}}, {'id': 834, 'from_id': 2233698, 'owner_id': 2233698, 'date': 1539062102, 'post_type': 'post', 'text': '🔥🔥🔥 Абсолютный хит!!! Роскошное платье Виктория😍😍😍 Идеально садится на любую фигуру, очень комфортное и красивое❤️❤️❤️ \\n•\\nЦена 6500₽\\n•\\nРазмеры S, M, L\\nS: 85-90/60-65/85-95\\nM: 90-95/70-75/92-97\\nL: 100/76-82/98-105\\n•\\n🛍 Для заказа напишите нам в WhatsApp +7(912) 295 05 69 ссылка в шапке профиля\\n🏡 Шоу-рум г.Екатеринбург, ул. Хохрякова, 74, оф. 502, 3 мин. от ТЦ Гринвич (по записи)\\n❗️По Екатеринбургу действует бесплатная доставка (при покупке)🚗 в другие города отправка почтой или с курьером🎁', 'attachments': [{'type': 'photo', 'photo': {'id': 456239133, 'album_id': -7, 'owner_id': 2233698, 'sizes': [{'type': 'm', 'url': 'https://sun9-54.userapi.com/c850224/v850224870/43139/ouRiwTrOy9A.jpg', 'width': 104, 'height': 130}, {'type': 'o', 'url': 'https://sun9-66.userapi.com/c850224/v850224870/4313e/ZfrzVz0wNEY.jpg', 'width': 130, 'height': 163}, {'type': 'p', 'url': 'https://sun9-39.userapi.com/c850224/v850224870/4313f/j6qUy7ntCzA.jpg', 'width': 200, 'height': 250}, {'type': 'q', 'url': 'https://sun9-4.userapi.com/c850224/v850224870/43140/pA0LE3eVC_E.jpg', 'width': 320, 'height': 400}, {'type': 'r', 'url': 'https://sun9-43.userapi.com/c850224/v850224870/43141/I_3ncUQ-fm4.jpg', 'width': 510, 'height': 638}, {'type': 's', 'url': 'https://sun9-33.userapi.com/c850224/v850224870/43138/BE8Z-qXfXr0.jpg', 'width': 60, 'height': 75}, {'type': 'w', 'url': 'https://sun9-41.userapi.com/c850224/v850224870/4313d/AhBf7X_BNVA.jpg', 'width': 1080, 'height': 1350}, {'type': 'x', 'url': 'https://sun9-56.userapi.com/c850224/v850224870/4313a/GQnRhdBWUkM.jpg', 'width': 483, 'height': 604}, {'type': 'y', 'url': 'https://sun9-37.userapi.com/c850224/v850224870/4313b/Bywdyhi-qCg.jpg', 'width': 646, 'height': 807}, {'type': 'z', 'url': 'https://sun9-35.userapi.com/c850224/v850224870/4313c/djh85p_TMUw.jpg', 'width': 864, 'height': 1080}], 'text': '', 'date': 1539062101, 'post_id': 834, 'access_key': '9cfbd57b367922c74c'}}], 'post_source': {'type': 'api', 'platform': 'instagram', 'url': 'https://www.instagram.com/p/Bos0M9QHGDF/'}, 'comments': {'count': 0, 'can_post': 0, 'groups_can_post': True}, 'likes': {'count': 0, 'user_likes': 0, 'can_like': 1, 'can_publish': 1}, 'reposts': {'count': 0, 'user_reposted': 0}, 'views': {'count': 95}}, {'id': 833, 'from_id': 2233698, 'owner_id': 2233698, 'date': 1538979103, 'post_type': 'post', 'text': '🔥🔥🔥 Твидовые костюмчики настолько удобные, приятные в носке и стильные одновременно, что с ними не хочется расставаться ❣️❣️❣️ Шорты с завышенной талией и жакет комфортной длины уберегут вас от холодов🤗🤗🤗 Добавьте к этому образу ботфорты или длинные вязаные чулки... и получится стильный образ на каждый день😍😍😍\\n•\\nЦена шорт 4900₽\\nЦена жакета 8600₽\\n•\\n🛍 Для заказа напишите нам в WhatsApp +7(912) 295 05 69 ссылка в шапке профиля\\n🏡 Шоу-рум г.Екатеринбург, ул. Хохрякова, 74, оф. 502, 3 мин. от ТЦ Гринвич (по записи)\\n❗️По Екатеринбургу действует бесплатная доставка (при покупке)🚗 в другие города отправка почтой или с курьером🎁 ', 'attachments': [{'type': 'photo', 'photo': {'id': 456239132, 'album_id': -7, 'owner_id': 2233698, 'sizes': [{'type': 'm', 'url': 'https://sun9-66.userapi.com/c852036/v852036575/1c668/6rh_D6_btFE.jpg', 'width': 104, 'height': 130}, {'type': 'o', 'url': 'https://sun9-64.userapi.com/c852036/v852036575/1c66d/_YfaNHwcoY4.jpg', 'width': 130, 'height': 163}, {'type': 'p', 'url': 'https://sun9-40.userapi.com/c852036/v852036575/1c66e/rmhwAVpwMTc.jpg', 'width': 200, 'height': 250}, {'type': 'q', 'url': 'https://sun9-30.userapi.com/c852036/v852036575/1c66f/uhMHJSYk3wU.jpg', 'width': 320, 'height': 400}, {'type': 'r', 'url': 'https://sun9-57.userapi.com/c852036/v852036575/1c670/RrJpgv_8u8w.jpg', 'width': 510, 'height': 638}, {'type': 's', 'url': 'https://sun9-28.userapi.com/c852036/v852036575/1c667/6JzlqMl3w1s.jpg', 'width': 60, 'height': 75}, {'type': 'w', 'url': 'https://sun9-7.userapi.com/c852036/v852036575/1c66c/6KjlPOpRfJA.jpg', 'width': 1080, 'height': 1350}, {'type': 'x', 'url': 'https://sun9-27.userapi.com/c852036/v852036575/1c669/fjJXIdVbKnY.jpg', 'width': 483, 'height': 604}, {'type': 'y', 'url': 'https://sun9-14.userapi.com/c852036/v852036575/1c66a/yMVT-tNbVz0.jpg', 'width': 646, 'height': 807}, {'type': 'z', 'url': 'https://sun9-62.userapi.com/c852036/v852036575/1c66b/3oYoWTAfTbo.jpg', 'width': 864, 'height': 1080}], 'text': '', 'date': 1538979103, 'post_id': 833, 'access_key': '320137c95a87b586ab'}}], 'geo': {'type': 'point', 'coordinates': '56.834669300339 60.601944985726', 'place': {'created': 0, 'id': 0, 'is_deleted': False, 'latitude': 0.0, 'longitude': 0.0, 'title': 'ulitsa Voyevodina, Yekaterinburg', 'total_checkins': 0, 'updated': 0, 'country': 'Russia', 'city': 'Yekaterinburg'}}, 'post_source': {'type': 'api', 'platform': 'instagram', 'url': 'https://www.instagram.com/p/BoqV5uDn7WT/'}, 'comments': {'count': 0, 'can_post': 0, 'groups_can_post': True}, 'likes': {'count': 1, 'user_likes': 0, 'can_like': 1, 'can_publish': 1}, 'reposts': {'count': 0, 'user_reposted': 0}, 'views': {'count': 87}}, {'id': 832, 'from_id': 2233698, 'owner_id': 2233698, 'date': 1538720377, 'post_type': 'post', 'text': '🌟🌟🌟 Красотки, только от нас зависит, какой будет эта пятница! Так давайте сделаем её яркой и незабываемой💥💥💥 ', 'attachments': [{'type': 'photo', 'photo': {'id': 456239131, 'album_id': -7, 'owner_id': 2233698, 'sizes': [{'type': 'm', 'url': 'https://sun9-45.userapi.com/c848736/v848736079/937a6/AcUNnnKDHek.jpg', 'width': 130, 'height': 130}, {'type': 'o', 'url': 'https://sun9-12.userapi.com/c848736/v848736079/937a9/TuT4MulU14U.jpg', 'width': 130, 'height': 130}, {'type': 'p', 'url': 'https://sun9-5.userapi.com/c848736/v848736079/937aa/Brs8RVbfytg.jpg', 'width': 200, 'height': 200}, {'type': 'q', 'url': 'https://sun9-7.userapi.com/c848736/v848736079/937ab/I8T9BpbRwIM.jpg', 'width': 320, 'height': 320}, {'type': 'r', 'url': 'https://sun9-14.userapi.com/c848736/v848736079/937ac/RtnyckVrPlU.jpg', 'width': 510, 'height': 510}, {'type': 's', 'url': 'https://sun9-45.userapi.com/c848736/v848736079/937a5/mbEUW5kFcko.jpg', 'width': 75, 'height': 75}, {'type': 'x', 'url': 'https://sun9-37.userapi.com/c848736/v848736079/937a7/yfUZQcCVqoo.jpg', 'width': 604, 'height': 604}, {'type': 'y', 'url': 'https://sun9-51.userapi.com/c848736/v848736079/937a8/NRFQgjpXT5E.jpg', 'width': 720, 'height': 720}], 'text': '', 'date': 1538720376, 'post_id': 832, 'access_key': '9010d188acc5937c8d'}}], 'geo': {'type': 'point', 'coordinates': '56.839009416032 60.597895640052', 'place': {'created': 0, 'id': 0, 'is_deleted': False, 'latitude': 0.0, 'longitude': 0.0, 'title': 'prospekt Lenina, Yekaterinburg', 'total_checkins': 0, 'updated': 0, 'country': 'Russia', 'city': 'Yekaterinburg'}}, 'post_source': {'type': 'api', 'platform': 'instagram', 'url': 'https://www.instagram.com/p/BoioKsXnA6-/'}, 'comments': {'count': 0, 'can_post': 0, 'groups_can_post': True}, 'likes': {'count': 0, 'user_likes': 0, 'can_like': 1, 'can_publish': 1}, 'reposts': {'count': 0, 'user_reposted': 0}, 'views': {'count': 78}}, {'id': 831, 'from_id': 2233698, 'owner_id': 2233698, 'date': 1538628627, 'post_type': 'post', 'text': '💫💫💫Элементы базового гардероба - это юбка-карандаш с идеальной посадкой и шелковый топ🌟🌟🌟 А дальше можно добавить пиджак, или жакет, или кардиган, или просто накинуть «косуху»... И идеальный образ на любой случай готов 😍😍😍\\n•\\nЦена юбки - 4500₽\\nЦена топа - 2800₽\\n•\\n🛍 Для заказа напишите нам в WhatsApp +7(912) 295 05 69 ссылка в шапке профиля\\n🏡 Шоу-рум г.Екатеринбург, ул. Хохрякова, 74, оф. 502, 3 мин. от ТЦ Гринвич (по записи)\\n❗️По Екатеринбургу действует бесплатная доставка (при покупке)🚗 в другие города отправка почтой или с курьером🎁 ', 'attachments': [{'type': 'photo', 'photo': {'id': 456239130, 'album_id': -7, 'owner_id': 2233698, 'sizes': [{'type': 'm', 'url': 'https://sun9-36.userapi.com/c845218/v845218043/10469e/g6obEUL40FQ.jpg', 'width': 104, 'height': 130}, {'type': 'o', 'url': 'https://sun9-26.userapi.com/c845218/v845218043/1046a3/hJL-dLmwj9s.jpg', 'width': 130, 'height': 163}, {'type': 'p', 'url': 'https://sun9-24.userapi.com/c845218/v845218043/1046a4/Endk3fgumaI.jpg', 'width': 200, 'height': 250}, {'type': 'q', 'url': 'https://sun9-40.userapi.com/c845218/v845218043/1046a5/1LNyUfQ-XRQ.jpg', 'width': 320, 'height': 400}, {'type': 'r', 'url': 'https://sun9-24.userapi.com/c845218/v845218043/1046a6/5fjE7CdWp9c.jpg', 'width': 510, 'height': 638}, {'type': 's', 'url': 'https://sun9-25.userapi.com/c845218/v845218043/10469d/cCgceE_XZ-g.jpg', 'width': 60, 'height': 75}, {'type': 'w', 'url': 'https://sun9-24.userapi.com/c845218/v845218043/1046a2/p6iOagJLL18.jpg', 'width': 1080, 'height': 1350}, {'type': 'x', 'url': 'https://sun9-28.userapi.com/c845218/v845218043/10469f/7c3GGZmG-u4.jpg', 'width': 483, 'height': 604}, {'type': 'y', 'url': 'https://sun9-42.userapi.com/c845218/v845218043/1046a0/j6X5NpNfb38.jpg', 'width': 646, 'height': 807}, {'type': 'z', 'url': 'https://sun9-65.userapi.com/c845218/v845218043/1046a1/81wMKvaqgro.jpg', 'width': 864, 'height': 1080}], 'text': '', 'date': 1538628626, 'post_id': 831, 'access_key': '9c60f1864811057917'}}], 'geo': {'type': 'point', 'coordinates': '56.830352611474 60.593175640555', 'place': {'created': 0, 'id': 0, 'is_deleted': False, 'latitude': 0.0, 'longitude': 0.0, 'title': 'ulitsa Khokhryakova, Yekaterinburg', 'total_checkins': 0, 'updated': 0, 'country': 'Russia', 'city': 'Yekaterinburg'}}, 'post_source': {'type': 'api', 'platform': 'instagram', 'url': 'https://www.instagram.com/p/Bof5YgKn2ik/'}, 'comments': {'count': 0, 'can_post': 0, 'groups_can_post': True}, 'likes': {'count': 0, 'user_likes': 0, 'can_like': 1, 'can_publish': 1}, 'reposts': {'count': 0, 'user_reposted': 0}, 'views': {'count': 81}}, {'id': 830, 'from_id': 2233698, 'owner_id': 2233698, 'date': 1538539655, 'post_type': 'post', 'text': '💥💥💥 Брюки Келли (4500₽) с идеальной высокой посадкой. Удлиняют силуэт, стройнят ножки и подчёркивают талию 💫💫💫 Брюки идеально сочетаются с жакетами из нашей коллекции🤩🤩🤩\\n•\\n🛍 Для заказа напишите нам в WhatsApp +7(912) 295 05 69 ссылка в шапке профиля\\n🏡 Шоу-рум г.Екатеринбург, ул. Хохрякова, 74, оф. 502, 3 мин. от ТЦ Гринвич (по записи)\\n❗️По Екатеринбургу действует бесплатная доставка (при покупке)🚗 в другие города отправка почтой или с курьером🎁 ', 'attachments': [{'type': 'photo', 'photo': {'id': 456239129, 'album_id': -7, 'owner_id': 2233698, 'sizes': [{'type': 'm', 'url': 'https://sun9-54.userapi.com/c850136/v850136789/3ec81/ORFMx0lBcAc.jpg', 'width': 104, 'height': 130}, {'type': 'o', 'url': 'https://sun9-28.userapi.com/c850136/v850136789/3ec86/1DIqsc6nZ0k.jpg', 'width': 130, 'height': 163}, {'type': 'p', 'url': 'https://sun9-66.userapi.com/c850136/v850136789/3ec87/6oVzPC_wEHM.jpg', 'width': 200, 'height': 250}, {'type': 'q', 'url': 'https://sun9-15.userapi.com/c850136/v850136789/3ec88/34zAdhFjNQU.jpg', 'width': 320, 'height': 400}, {'type': 'r', 'url': 'https://sun9-28.userapi.com/c850136/v850136789/3ec89/fehF4H-jQwU.jpg', 'width': 510, 'height': 638}, {'type': 's', 'url': 'https://sun9-55.userapi.com/c850136/v850136789/3ec80/9JgAWbCJtC4.jpg', 'width': 60, 'height': 75}, {'type': 'w', 'url': 'https://sun9-25.userapi.com/c850136/v850136789/3ec85/tLoNLEZzuGM.jpg', 'width': 1080, 'height': 1350}, {'type': 'x', 'url': 'https://sun9-25.userapi.com/c850136/v850136789/3ec82/FiI39bu5mTw.jpg', 'width': 483, 'height': 604}, {'type': 'y', 'url': 'https://sun9-47.userapi.com/c850136/v850136789/3ec83/fTWZBXf4neI.jpg', 'width': 646, 'height': 807}, {'type': 'z', 'url': 'https://sun9-15.userapi.com/c850136/v850136789/3ec84/XxA6axijnl8.jpg', 'width': 864, 'height': 1080}], 'text': '', 'date': 1538539655, 'post_id': 830, 'access_key': 'b959a07b4aee4dd43b'}}], 'geo': {'type': 'point', 'coordinates': '56.840224901958 60.614179574951', 'place': {'created': 0, 'id': 0, 'is_deleted': False, 'latitude': 0.0, 'longitude': 0.0, 'title': 'prospekt Lenina, Yekaterinburg', 'total_checkins': 0, 'updated': 0, 'country': 'Russia', 'city': 'Yekaterinburg'}}, 'post_source': {'type': 'api', 'platform': 'instagram', 'url': 'https://www.instagram.com/p/BodPsI2nRB3/'}, 'comments': {'count': 0, 'can_post': 0, 'groups_can_post': True}, 'likes': {'count': 1, 'user_likes': 0, 'can_like': 1, 'can_publish': 1}, 'reposts': {'count': 0, 'user_reposted': 0}, 'views': {'count': 79}}], 'profiles': [{'id': 2233698, 'first_name': 'Maria', 'last_name': 'Kalinina', 'is_closed': False, 'can_access_closed': True, 'sex': 1, 'screen_name': 'id2233698', 'photo_50': 'https://sun1-22.userapi.com/i0oA530k0r52B91jIQ24IG73V-Qg7TLf6vs6zQ/EaqzRU7vlG0.jpg?ava=1', 'photo_100': 'https://sun1-30.userapi.com/1k5Ol_9ld1gPbUSmK5la-XS68C_6eZLuGBkDMA/dtPQOZmFqGg.jpg?ava=1', 'online': 0, 'online_info': {'visible': True, 'last_seen': 1583164905, 'app_id': 3140623, 'is_mobile': True}}], 'groups': []}]\n"
     ]
    }
   ],
   "source": [
    "# Соберем последние записи со стен друзей\n",
    "posts = []\n",
    "for item in freinds_to_anallize:\n",
    "    try:\n",
    "        posts.append(my_api.wall.get(\n",
    "            owner_id=item,\n",
    "            count=10, #ограничимся последним 10 записями\n",
    "            filter='owner', # берем только записи от самого пользователя\n",
    "            extended=1,\n",
    "        ))\n",
    "    except:\n",
    "        print('User {} hide his wall'.format(item))\n",
    "print(posts[:2])"
   ]
  },
  {
   "cell_type": "markdown",
   "metadata": {},
   "source": [
    "Вместо послесловия:\n",
    "\n",
    "Работа с личным ключем может дать заметно больше информации и простора для аналитики. большая часть профилей логично скрыта от такого обхода.\n",
    "\n",
    "В рамках самостоятельного исследования можете обратить внимание еще на функционал групп, который позволяет аналогично так же строить диалоговые системы от имени группы.\n",
    "\n",
    "А так же можете обратить внимания на методы связанные с получаением лайков, коментов и репостов, там тоже много полезного."
   ]
  },
  {
   "cell_type": "code",
   "execution_count": null,
   "metadata": {},
   "outputs": [],
   "source": []
  }
 ],
 "metadata": {
  "kernelspec": {
   "display_name": "Python 3",
   "language": "python",
   "name": "python3"
  },
  "language_info": {
   "codemirror_mode": {
    "name": "ipython",
    "version": 3
   },
   "file_extension": ".py",
   "mimetype": "text/x-python",
   "name": "python",
   "nbconvert_exporter": "python",
   "pygments_lexer": "ipython3",
   "version": "3.7.0"
  }
 },
 "nbformat": 4,
 "nbformat_minor": 2
}
