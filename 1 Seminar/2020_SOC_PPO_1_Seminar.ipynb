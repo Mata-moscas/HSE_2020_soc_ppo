{
 "cells": [
  {
   "cell_type": "markdown",
   "metadata": {},
   "source": [
    "# Прикладное программное обеспечение\n",
    "#### Python для извлечения и обработки данных\n",
    "\n",
    "\n",
    "## Ввод, вывод, целочисленная арифметика\n",
    "Социлогия | 1 курс | 3 модуль | Семинар 1\n",
    "\n",
    "*Автор: Татьяна Рогович, НИУ ВШЭ*\n"
   ]
  },
  {
   "cell_type": "markdown",
   "metadata": {},
   "source": [
    "# Функция print()"
   ]
  },
  {
   "cell_type": "markdown",
   "metadata": {},
   "source": [
    "Мы уже поговорили о том, что с помощью Python можно решать огромное количество задач. Мы начнем с очень простых и постепенно будем усложнять. Если кто-то из вас уже сталкивался с программированием (например, в школе), то вы помните, что обычно самой первой программой становится вывод \"Hello, world\". Попробуем сделать это в Python."
   ]
  },
  {
   "cell_type": "code",
   "execution_count": 8,
   "metadata": {},
   "outputs": [
    {
     "name": "stdout",
     "output_type": "stream",
     "text": [
      "Hello, world!\n",
      "1\n"
     ]
    }
   ],
   "source": [
    "print('Hello, world!')\n",
    "print(1)"
   ]
  },
  {
   "cell_type": "markdown",
   "metadata": {},
   "source": [
    "Поздравляем, вы теперь программисты!\n",
    "Обратите внимание, что \"Hello, world!\" мы написали в кавычках, а единицу - нет. Это связанно с тем,\n",
    "что в программировании мы имеем дело с разными типами данных. И Python будет воспринимать текст как текст,\n",
    "только в том случае, если мы его возьмем в кавычки (неважно, одинарные или двойные). А при выводе эти кавычки отображаться уже не будут (они служат знаком для Python, что внутри них - текст).\n",
    "\n",
    "print() - это функция, которая собственно выводит наш текст. Распознать функцию в питоне можно по скобкам после слова, внутри которых мы передаем аргумент, к которому эту функцию нужно применить (текст \"Hello, world\" или 1 в нашем случае). "
   ]
  },
  {
   "cell_type": "code",
   "execution_count": 2,
   "metadata": {},
   "outputs": [
    {
     "ename": "NameError",
     "evalue": "name 'Hello' is not defined",
     "output_type": "error",
     "traceback": [
      "\u001b[1;31m---------------------------------------------------------------------------\u001b[0m",
      "\u001b[1;31mNameError\u001b[0m                                 Traceback (most recent call last)",
      "\u001b[1;32m<ipython-input-2-65c2bc1cadaf>\u001b[0m in \u001b[0;36m<module>\u001b[1;34m()\u001b[0m\n\u001b[1;32m----> 1\u001b[1;33m \u001b[0mprint\u001b[0m\u001b[1;33m(\u001b[0m\u001b[0mHello\u001b[0m\u001b[1;33m,\u001b[0m \u001b[0mworld\u001b[0m\u001b[1;33m)\u001b[0m\u001b[1;33m\u001b[0m\u001b[0m\n\u001b[0m",
      "\u001b[1;31mNameError\u001b[0m: name 'Hello' is not defined"
     ]
    }
   ],
   "source": [
    "print(Hello, world)"
   ]
  },
  {
   "cell_type": "markdown",
   "metadata": {},
   "source": [
    "Написали без кавычек - получили ошибку. Кстати, обратите внимание, что очень часто в тексте ошибки есть указание на то, что именно произошло, и можно попробовать догадаться, что же нужно исправить.\n",
    "\n",
    "Иногда мы хотим комментировать наш код, чтобы я-будущий или наши коллеги поменьше задавались вопросом, почему мы что-то реализовали определенным образом. Комментарии можно писать прямо в коде, они не повлияют на работу программы, если их правильно оформить."
   ]
  },
  {
   "cell_type": "code",
   "execution_count": 5,
   "metadata": {},
   "outputs": [
    {
     "name": "stdout",
     "output_type": "stream",
     "text": [
      "Hello, world\n"
     ]
    }
   ],
   "source": [
    "# Обратите внимание: так выглядит комментарий - часть скрипта, которая не будет исполнена \n",
    "# при запуске программы.\n",
    "# Каждую строку комментария мы начинаем со знака хэштега.\n",
    "\n",
    "'''\n",
    "Это тоже комментарий - обычно выделение тремя апострофами мы используем для тех случаев, \n",
    "когда хотим написать длинный, развернутый текст.\n",
    "'''\n",
    "\n",
    "print('Hello, world')"
   ]
  },
  {
   "cell_type": "markdown",
   "metadata": {},
   "source": [
    "Обратите внимание, что в отличие от PyCharm в Jupyter Notebook не всегда обязательно использовать print(), чтобы что-то вывести. Но не относитесь к этому как к стандарту для любых IDE."
   ]
  },
  {
   "cell_type": "code",
   "execution_count": 6,
   "metadata": {},
   "outputs": [
    {
     "data": {
      "text/plain": [
       "'Hello, world'"
      ]
     },
     "execution_count": 6,
     "metadata": {},
     "output_type": "execute_result"
    }
   ],
   "source": [
    "\"Hello, world\""
   ]
  },
  {
   "cell_type": "markdown",
   "metadata": {},
   "source": [
    "Выше рядом с выводом появилась подпись Out[]. Jupyter Notebook - среда более интерактивная, чем PyCharm. И в данном случае показывает нам, что бы вывелось в результате работы этой ячейки. В PyCharm такой вывод всегда будет скрыт, пока мы его не \"напечатаем\" с помощью print(). Но эта особенность Jupyter помогает нам быстро проверить, что, например, лежит внутри переменной, когда мы отлаживаем наш код."
   ]
  },
  {
   "cell_type": "markdown",
   "metadata": {},
   "source": [
    "Следующая вещь, которую нужно знать про язык программирования - как в нем задаются переменные. Переменные - это \n",
    "контейнеры, которые хранят в себе информацию (текстовую, числовую, какие-то более сложные виды данных). В Python\n",
    "знаком присвоения является знак =. "
   ]
  },
  {
   "cell_type": "code",
   "execution_count": 9,
   "metadata": {},
   "outputs": [
    {
     "name": "stdout",
     "output_type": "stream",
     "text": [
      "Hello, world!\n"
     ]
    }
   ],
   "source": [
    "x = 'Hello, world!'\n",
    "print(x)    # Обратите внимание, что результат вызова этой функции такой же, как выше, \n",
    "            # только текст теперь хранится внутри переменной."
   ]
  },
  {
   "cell_type": "markdown",
   "metadata": {},
   "source": [
    "Python -  язык чувствительный к регистру. Поэтому, когда создаете/вызываете переменные или функции, обязательно используйте правильный регистр. Так, следующая строка выдаст ошибку."
   ]
  },
  {
   "cell_type": "code",
   "execution_count": 10,
   "metadata": {},
   "outputs": [
    {
     "ename": "NameError",
     "evalue": "name 'X' is not defined",
     "output_type": "error",
     "traceback": [
      "\u001b[1;31m---------------------------------------------------------------------------\u001b[0m",
      "\u001b[1;31mNameError\u001b[0m                                 Traceback (most recent call last)",
      "\u001b[1;32m<ipython-input-10-f9979d7199c5>\u001b[0m in \u001b[0;36m<module>\u001b[1;34m()\u001b[0m\n\u001b[1;32m----> 1\u001b[1;33m \u001b[0mprint\u001b[0m\u001b[1;33m(\u001b[0m\u001b[0mX\u001b[0m\u001b[1;33m)\u001b[0m \u001b[1;31m# мы создали переменную x, а X не существует\u001b[0m\u001b[1;33m\u001b[0m\u001b[0m\n\u001b[0m",
      "\u001b[1;31mNameError\u001b[0m: name 'X' is not defined"
     ]
    }
   ],
   "source": [
    "print(X) # мы создали переменную x, а X не существует"
   ]
  },
  {
   "cell_type": "markdown",
   "metadata": {},
   "source": [
    "Еще раз обратим внимание на ошибку. *NameError: name 'X' is not defined* означает, что переменная с таким названием не была создана в этой программе. Кстати, обратите внимание, что переменные в Jupyter хранятся на протяжении всей сессии (пока вы работаете с блокнотом и не закрыли его), и могут быть созданы в одной ячейке, а вызваны в другой. Давайте опять попробуем обратиться к x."
   ]
  },
  {
   "cell_type": "code",
   "execution_count": 11,
   "metadata": {},
   "outputs": [
    {
     "name": "stdout",
     "output_type": "stream",
     "text": [
      "Hello, world!\n"
     ]
    }
   ],
   "source": [
    "print(x) # работает!"
   ]
  },
  {
   "cell_type": "markdown",
   "metadata": {},
   "source": [
    "# Типы данных: целочисленные переменные (integer) и текстовые переменные (string)"
   ]
  },
  {
   "cell_type": "markdown",
   "metadata": {},
   "source": [
    "Сегодня мы познакомимся только с двумя типами данных, с которыми умеет работать Python. \n",
    "Если вы вдруг знакомы с другими языками программирования, то стоит отметить, что типизация в Python - динамическая.Это значит, что вам не нужно говорить какой тип данных вы хотите положить в переменную - Python сам все определит. Проверить тип данных можно с помощью функции type(), передав ей в качестве аргумента сами данные или переменную.\n",
    "\n",
    "**ЦЕЛЫЕ ЧИСЛА (INT, INTEGER):** 1, 2, 592, 1030523235 - любое целое число без дробной части. "
   ]
  },
  {
   "cell_type": "code",
   "execution_count": 13,
   "metadata": {},
   "outputs": [
    {
     "name": "stdout",
     "output_type": "stream",
     "text": [
      "<class 'int'>\n",
      "<class 'int'>\n"
     ]
    }
   ],
   "source": [
    "y = 2\n",
    "print(type(2))\n",
    "print(type(y))"
   ]
  },
  {
   "cell_type": "markdown",
   "metadata": {},
   "source": [
    "Обратите внимание - выше мы вызвали функцию внутри функции. \n",
    "type(2) возвращает скрытое значение типа переменной (int для integer). \n",
    "Чтобы вывести это скрытое значение в консоль - мы должны его \"напечатать\".\n",
    "\n",
    "Самое элементарное, что можно делать в Python - использовать его как калькулятор. Давайте посмотрим, как\n",
    "он вычитает, слогает и умножает."
   ]
  },
  {
   "cell_type": "code",
   "execution_count": 14,
   "metadata": {},
   "outputs": [
    {
     "name": "stdout",
     "output_type": "stream",
     "text": [
      "4\n",
      "9\n",
      "12\n"
     ]
    }
   ],
   "source": [
    "print(2 + 2)\n",
    "print(18 - 9)\n",
    "print(4 * 3)"
   ]
  },
  {
   "cell_type": "markdown",
   "metadata": {},
   "source": [
    "С делением нужно быть немного осторожней. Существует два типа деления - привычное нам, которое даст в ответе дробь при делении 5 на 2, и целочисленное деление, в результате которого мы получим только целую часть частного."
   ]
  },
  {
   "cell_type": "code",
   "execution_count": 15,
   "metadata": {},
   "outputs": [
    {
     "name": "stdout",
     "output_type": "stream",
     "text": [
      "2.5\n",
      "2\n"
     ]
    }
   ],
   "source": [
    "print(5 / 2)  # в результате такого деления получается другой тип данных (float), подробнее о нем поговорим позже.\n",
    "print(5 // 2)"
   ]
  },
  {
   "cell_type": "markdown",
   "metadata": {},
   "source": [
    "А если нам надо как раз найти остаток от деления, то мы можем воспользоваться знаком модуло %.\n"
   ]
  },
  {
   "cell_type": "code",
   "execution_count": 16,
   "metadata": {},
   "outputs": [
    {
     "name": "stdout",
     "output_type": "stream",
     "text": [
      "1\n"
     ]
    }
   ],
   "source": [
    "print(5 % 2)"
   ]
  },
  {
   "cell_type": "markdown",
   "metadata": {},
   "source": [
    "Еще одна математическая операция, которую мы можем выполнять без загрузки специальных математических библиотек - это\n",
    "возведение в степень."
   ]
  },
  {
   "cell_type": "code",
   "execution_count": 18,
   "metadata": {},
   "outputs": [
    {
     "name": "stdout",
     "output_type": "stream",
     "text": [
      "25\n"
     ]
    }
   ],
   "source": [
    "print(5**2)"
   ]
  },
  {
   "cell_type": "markdown",
   "metadata": {},
   "source": [
    "Стоит заметить, что все эти истории работают и когда мы присваиваем числа переменным.\n"
   ]
  },
  {
   "cell_type": "code",
   "execution_count": 20,
   "metadata": {},
   "outputs": [
    {
     "name": "stdout",
     "output_type": "stream",
     "text": [
      "8\n",
      "125\n"
     ]
    }
   ],
   "source": [
    "a = 2\n",
    "b = 3\n",
    "print(a ** b)\n",
    "# изменится ли результат, если мы перезапишем переменную a?\n",
    "a = 5\n",
    "print(a ** b)"
   ]
  },
  {
   "cell_type": "markdown",
   "metadata": {},
   "source": [
    "**ТЕКСТ (СТРОКИ) (STR, STRING):** любой текст внутри одинарных или двойных кавычек. \n",
    "Важно: если целое число мы возьмем в кавычки, то оно станет строкой. Ниже посмотрим, почему это проблематично."
   ]
  },
  {
   "cell_type": "code",
   "execution_count": 21,
   "metadata": {},
   "outputs": [
    {
     "name": "stdout",
     "output_type": "stream",
     "text": [
      "<class 'str'>\n",
      "<class 'str'>\n",
      "<class 'str'>\n"
     ]
    }
   ],
   "source": [
    "x = 'text'\n",
    "print(type(x))\n",
    "print(type('Hello, world!'))\n",
    "print(type('2'))"
   ]
  },
  {
   "cell_type": "markdown",
   "metadata": {},
   "source": [
    "Если попробовать сложить число-строку и число-число, то получим ошибку."
   ]
  },
  {
   "cell_type": "code",
   "execution_count": 22,
   "metadata": {},
   "outputs": [
    {
     "ename": "TypeError",
     "evalue": "must be str, not int",
     "output_type": "error",
     "traceback": [
      "\u001b[1;31m---------------------------------------------------------------------------\u001b[0m",
      "\u001b[1;31mTypeError\u001b[0m                                 Traceback (most recent call last)",
      "\u001b[1;32m<ipython-input-22-81ac1f9e7aa0>\u001b[0m in \u001b[0;36m<module>\u001b[1;34m()\u001b[0m\n\u001b[1;32m----> 1\u001b[1;33m \u001b[0mprint\u001b[0m\u001b[1;33m(\u001b[0m\u001b[1;34m'2'\u001b[0m \u001b[1;33m+\u001b[0m \u001b[1;36m3\u001b[0m\u001b[1;33m)\u001b[0m\u001b[1;33m\u001b[0m\u001b[0m\n\u001b[0m",
      "\u001b[1;31mTypeError\u001b[0m: must be str, not int"
     ]
    }
   ],
   "source": [
    "print('2' + 3)"
   ]
  },
  {
   "cell_type": "markdown",
   "metadata": {},
   "source": [
    "Еще раз обратим внимание на текст ошибки. *TypeError: must be str, not int* - TypeError означает, что данная команда не может быть исполнена из-за типа какой-то из переменных. В данном случаем видим, что что-то должно быть \"str\", когда оно типа \"int\". Давайте попробуем сделать 3 тоже строкой. Кстати, неважно какие вы используете кавычки (только если это не текст с кавычками внутри), главное, чтобы открывающая и закрывающая кавычки были одинаковые."
   ]
  },
  {
   "cell_type": "code",
   "execution_count": 24,
   "metadata": {},
   "outputs": [
    {
     "name": "stdout",
     "output_type": "stream",
     "text": [
      "23\n"
     ]
    }
   ],
   "source": [
    "print('2' + \"3\")"
   ]
  },
  {
   "cell_type": "markdown",
   "metadata": {},
   "source": [
    "Такая операция называется контакенация (слиянием) строк. "
   ]
  },
  {
   "cell_type": "code",
   "execution_count": 26,
   "metadata": {},
   "outputs": [
    {
     "ename": "TypeError",
     "evalue": "unsupported operand type(s) for +: 'int' and 'str'",
     "output_type": "error",
     "traceback": [
      "\u001b[1;31m---------------------------------------------------------------------------\u001b[0m",
      "\u001b[1;31mTypeError\u001b[0m                                 Traceback (most recent call last)",
      "\u001b[1;32m<ipython-input-26-4f605c4b9ee9>\u001b[0m in \u001b[0;36m<module>\u001b[1;34m()\u001b[0m\n\u001b[1;32m----> 1\u001b[1;33m \u001b[0mprint\u001b[0m\u001b[1;33m(\u001b[0m\u001b[1;36m3\u001b[0m \u001b[1;33m+\u001b[0m \u001b[1;34m'2'\u001b[0m\u001b[1;33m)\u001b[0m\u001b[1;33m\u001b[0m\u001b[0m\n\u001b[0m",
      "\u001b[1;31mTypeError\u001b[0m: unsupported operand type(s) for +: 'int' and 'str'"
     ]
    }
   ],
   "source": [
    "print(3 + '2')"
   ]
  },
  {
   "cell_type": "markdown",
   "metadata": {},
   "source": [
    "Кстати, интересно, что если мы поменяем слагаемые местами, то значение ошибки тоже изменится. Это происходит потому, что Python делает вывод о том, какое действие мы хотели совершить, основываясь на первом слогаемом. В прошлый раз это была строка и Python не смог провести контакенацию для строки и числа. Теперь первое слогаемое - целое число, и Python выдает ошибку, что операция арифметического сложения невозможно между числом и строкой.\n",
    "\n",
    "А вот умножить строку на число можно. Такая операция повторит нам строку заданное количество раз."
   ]
  },
  {
   "cell_type": "code",
   "execution_count": 27,
   "metadata": {},
   "outputs": [
    {
     "name": "stdout",
     "output_type": "stream",
     "text": [
      "222\n"
     ]
    }
   ],
   "source": [
    "print('2' * 3)"
   ]
  },
  {
   "cell_type": "markdown",
   "metadata": {},
   "source": [
    "Операции со строками тоже работают, если строки лежат внутри переменных."
   ]
  },
  {
   "cell_type": "code",
   "execution_count": 35,
   "metadata": {},
   "outputs": [
    {
     "name": "stdout",
     "output_type": "stream",
     "text": [
      "John Brown\n",
      "John Brown\n"
     ]
    }
   ],
   "source": [
    "word1 = 'John'\n",
    "word2 = ' Brown'\n",
    "print(word1 + word2)\n",
    "word3 = word1 + word2 # можем результат контакенации положить в новую переменную\n",
    "print(word3)"
   ]
  },
  {
   "cell_type": "markdown",
   "metadata": {},
   "source": [
    "# Изменение типа переменных"
   ]
  },
  {
   "cell_type": "markdown",
   "metadata": {},
   "source": [
    "В Python мы можем изменить тип переменной (если он удовлетворяет условиям). Так отличный кандидат на перевод из одного типа в другой - текстовая переменная, которая содержит число ('12242'). Превратить строку в число можно с помощью функции int() и обратно с помощью функции str()."
   ]
  },
  {
   "cell_type": "code",
   "execution_count": 36,
   "metadata": {},
   "outputs": [
    {
     "name": "stdout",
     "output_type": "stream",
     "text": [
      "2514\n"
     ]
    }
   ],
   "source": [
    "print(2 + int('2512')) # нет ошибки!"
   ]
  },
  {
   "cell_type": "code",
   "execution_count": 37,
   "metadata": {},
   "outputs": [
    {
     "name": "stdout",
     "output_type": "stream",
     "text": [
      "abs123\n"
     ]
    }
   ],
   "source": [
    "print('abs' + str(123))"
   ]
  },
  {
   "cell_type": "markdown",
   "metadata": {},
   "source": [
    "Обратите внимание: эти функции не меняют тип самих данных или переменных, в которых они хранятся. Если мы не перезапишем значение, то строка станет числом только в конкретной строчке команды, а ее тип не изменится."
   ]
  },
  {
   "cell_type": "code",
   "execution_count": 38,
   "metadata": {},
   "outputs": [
    {
     "name": "stdout",
     "output_type": "stream",
     "text": [
      "<class 'str'>\n",
      "2342125\n",
      "<class 'str'>\n"
     ]
    }
   ],
   "source": [
    "a = '2342123'\n",
    "print(type(a))\n",
    "print(2 + int(a))\n",
    "print(type(a))"
   ]
  },
  {
   "cell_type": "code",
   "execution_count": 39,
   "metadata": {},
   "outputs": [
    {
     "name": "stdout",
     "output_type": "stream",
     "text": [
      "<class 'int'>\n"
     ]
    }
   ],
   "source": [
    "a = int(a) # перезаписываем значение переменной\n",
    "print(type(a)) # теперь изменился и тип"
   ]
  },
  {
   "cell_type": "markdown",
   "metadata": {},
   "source": [
    "# Функция print(): аргументы и параметры"
   ]
  },
  {
   "cell_type": "markdown",
   "metadata": {},
   "source": [
    "На самом деле функция print() немного сложнее, чем то, что мы уже видели. Например, мы можем печатать одной функцией больше чем один аргумент и использовать разделители вместо пробелов. "
   ]
  },
  {
   "cell_type": "code",
   "execution_count": 28,
   "metadata": {},
   "outputs": [
    {
     "name": "stdout",
     "output_type": "stream",
     "text": [
      "2 + 3 = 5\n",
      "2 + 3 = 5\n"
     ]
    }
   ],
   "source": [
    "print('2 + 3 =', 2 + 3)\n",
    "z = 5\n",
    "print('2 + 3 =', z)"
   ]
  },
  {
   "cell_type": "markdown",
   "metadata": {},
   "source": [
    "У функции print есть параметры. Параметры - это такие свойства функций, которые задают значение невидимых нам аргументов внутри функции. Так существует параметр sep (separator), благодаря которому мы можем менять тип разделителя между аргументами print. В качестве разделителя может выступать любая строка.  \n",
    "Сравните:"
   ]
  },
  {
   "cell_type": "code",
   "execution_count": 29,
   "metadata": {},
   "outputs": [
    {
     "name": "stdout",
     "output_type": "stream",
     "text": [
      "1 2 3\n",
      "1.2.3\n",
      "123\n"
     ]
    }
   ],
   "source": [
    "print('1', '2', '3')\n",
    "print('1', '2', '3', sep='.')\n",
    "print('1', '2', '3', sep='')"
   ]
  },
  {
   "cell_type": "markdown",
   "metadata": {},
   "source": [
    "Параметр end задает то, что будет выведено в конце исполнения функции print. По умолчанию там стоит \n",
    "невидимый символ '\\n', который осуществляет переход на новую строку. Мы можем заменить его на любую строку. \n",
    "Если мы хотим сохранить переход на новую строку - то обязательно прописываем наш невидимый символ внутри\n",
    "выражения."
   ]
  },
  {
   "cell_type": "code",
   "execution_count": 30,
   "metadata": {},
   "outputs": [
    {
     "name": "stdout",
     "output_type": "stream",
     "text": [
      "1.2.3!2\n",
      "1.2.3!\n",
      "2\n"
     ]
    }
   ],
   "source": [
    "print('1', '2', '3', sep='.', end='!')\n",
    "print('2')  # строки слились\n",
    "\n",
    "print('1', '2', '3', sep='.', end='!\\n')\n",
    "print('2')  # вывод на новой строке\n"
   ]
  },
  {
   "cell_type": "markdown",
   "metadata": {},
   "source": [
    "# Чтение строк и чисел с консоли (input())"
   ]
  },
  {
   "cell_type": "markdown",
   "metadata": {},
   "source": [
    "Познакомимся с функцией input() - ввод. Это функция позволяет нам просить\n",
    "пользователя что-нибудь ввести или принять на ввод какие-то данные."
   ]
  },
  {
   "cell_type": "code",
   "execution_count": 40,
   "metadata": {},
   "outputs": [
    {
     "name": "stdout",
     "output_type": "stream",
     "text": [
      "2\n"
     ]
    }
   ],
   "source": [
    "x = input('Print something:')\n",
    "print(x)"
   ]
  },
  {
   "cell_type": "markdown",
   "metadata": {},
   "source": [
    "'Print something:' - аргумент функции input(), который будет отображаться в строке ввода. Он необязателен, но он может быть полезен для вас (особенно, если в задаче требуется ввести больше одной строки данных и нужно не запутаться).\n",
    "\n",
    "Обратите внимание, что функция  input() все сохраняет в строковом формате данных. Но мы можем сделать из\n",
    "числа-строки число-число с помощью функции int(). Введите \"1\" в обоих случаях и сравните результат."
   ]
  },
  {
   "cell_type": "code",
   "execution_count": 4,
   "metadata": {},
   "outputs": [
    {
     "name": "stdout",
     "output_type": "stream",
     "text": [
      "<class 'str'>\n",
      "<class 'int'>\n"
     ]
    }
   ],
   "source": [
    "print(type(input()))\n",
    "print(type(int(input())))"
   ]
  },
  {
   "cell_type": "markdown",
   "metadata": {},
   "source": [
    "Давайте введем значения для двух переменных и сложим их."
   ]
  },
  {
   "cell_type": "code",
   "execution_count": 6,
   "metadata": {},
   "outputs": [
    {
     "name": "stdout",
     "output_type": "stream",
     "text": [
      "23\n"
     ]
    }
   ],
   "source": [
    "x = input('Input x value')\n",
    "y = input('Input y value')\n",
    "print(x + y) # произошла склейка строк, по умолчанию input() сохраняет значение типа str"
   ]
  },
  {
   "cell_type": "markdown",
   "metadata": {},
   "source": [
    "А теперь переведем оба ввода в целые числа."
   ]
  },
  {
   "cell_type": "code",
   "execution_count": 5,
   "metadata": {},
   "outputs": [
    {
     "name": "stdout",
     "output_type": "stream",
     "text": [
      "5\n"
     ]
    }
   ],
   "source": [
    "x = int(input('Input x value'))\n",
    "y = int(input('Input y value'))\n",
    "print(x + y) # вот теперь произошло сложение чисел"
   ]
  },
  {
   "cell_type": "markdown",
   "metadata": {},
   "source": [
    "# Задачи для тренировки\n",
    "Часть из этих задач мы решим в классе. Но если мы даже не успеем - попытайтесь сделать их дома сами.\n",
    "\n",
    "### Степень двойки\n",
    "\n",
    "**Формат ввода**\n",
    "\n",
    "Вводится целое неотрицательное число N (N≤100).\n",
    "\n",
    "**Формат вывода**\n",
    "\n",
    "Выведите 2ᴺ.\n",
    "\n",
    "**Примеры**  \n",
    "Тест 1  \n",
    "Входные данные:  \n",
    "2  \n",
    "Вывод программы:  \n",
    "4"
   ]
  },
  {
   "cell_type": "code",
   "execution_count": 8,
   "metadata": {},
   "outputs": [],
   "source": [
    "# ваше решение здесь"
   ]
  },
  {
   "cell_type": "markdown",
   "metadata": {},
   "source": [
    "### Следующее и предыдущее\n",
    "Напишите программу, которая считывает целое число и выводит текст, аналогичный приведенному в примере (важно в точности соблюдать вывод программы: обратите внимание на пробелы и на точки). Нельзя пользоваться конкатенацией строк, используйте print с несколькими параметрами.\n",
    "\n",
    "**Формат ввода**\n",
    "\n",
    "Вводится целое число (гарантируется, что число находится в диапазоне от 1 до 1000).\n",
    "\n",
    "**Формат вывода**\n",
    "\n",
    "Выведите две строки, согласно образцу.\n",
    "\n",
    "**Примеры**  \n",
    "Тест 1  \n",
    "Входные данные:  \n",
    "179  \n",
    "\n",
    "Вывод программы:  \n",
    "The next number for the number 179 is 180.  \n",
    "The previous number for the number 179 is 178."
   ]
  },
  {
   "cell_type": "code",
   "execution_count": 9,
   "metadata": {},
   "outputs": [],
   "source": [
    "# Ваше решение здесь"
   ]
  },
  {
   "cell_type": "markdown",
   "metadata": {},
   "source": [
    "### Последняя цифра\n",
    "\n",
    "Дано натуральное число. Выведите его последнюю цифру.\n",
    "\n",
    "**Формат ввода**\n",
    "\n",
    "Вводится единственное целое положительное число (гарантируется, что оно не превышает 10000).\n",
    "\n",
    "**Формат вывода**\n",
    "\n",
    "Выведите ответ на задачу.\n",
    "\n",
    "**Примеры**  \n",
    "Тест 1  \n",
    "Входные данные:  \n",
    "179 \n",
    "\n",
    "Вывод программы:  \n",
    "9"
   ]
  },
  {
   "cell_type": "code",
   "execution_count": null,
   "metadata": {},
   "outputs": [],
   "source": [
    "# ваше решение здесь"
   ]
  },
  {
   "cell_type": "markdown",
   "metadata": {},
   "source": [
    "### Сумма цифр трехзначного числа\n",
    "\n",
    "Дано трехзначное число. Найдите сумму его цифр.\n",
    "\n",
    "**Формат ввода**\n",
    "\n",
    "Вводится целое положительное число. Гарантируется, что оно соответствует условию задачи.\n",
    "\n",
    "**Формат вывода**\n",
    "\n",
    "Выведите ответ на задачу.\n",
    "\n",
    "**Примеры**  \n",
    "Тест 1  \n",
    "Входные данные:  \n",
    "179 \n",
    "\n",
    "Вывод программы:  \n",
    "17"
   ]
  },
  {
   "cell_type": "code",
   "execution_count": 10,
   "metadata": {},
   "outputs": [],
   "source": [
    "# ваше решение здесь"
   ]
  },
  {
   "cell_type": "markdown",
   "metadata": {},
   "source": [
    "### Стоимость покупки\n",
    "\n",
    "Пирожок в столовой стоит A рублей и B копеек. Определите, сколько рублей и копеек нужно заплатить за N пирожков.\n",
    "\n",
    "**Формат ввода**\n",
    "\n",
    "Программа получает на вход три числа: A, B, N — целые, неотрицательные, не превышают 10000.\n",
    "\n",
    "**Формат вывода**\n",
    "\n",
    "Программа должна вывести два числа: стоимость покупки в рублях и копейках.\n",
    "\n",
    "**Примеры**  \n",
    "Тест 1  \n",
    "Входные данные:  \n",
    "10  \n",
    "15  \n",
    "2  \n",
    "\n",
    "Вывод программы:  \n",
    "10 0"
   ]
  },
  {
   "cell_type": "code",
   "execution_count": null,
   "metadata": {},
   "outputs": [],
   "source": [
    "# ваше решение здесь"
   ]
  }
 ],
 "metadata": {
  "kernelspec": {
   "display_name": "Python 3",
   "language": "python",
   "name": "python3"
  },
  "language_info": {
   "codemirror_mode": {
    "name": "ipython",
    "version": 3
   },
   "file_extension": ".py",
   "mimetype": "text/x-python",
   "name": "python",
   "nbconvert_exporter": "python",
   "pygments_lexer": "ipython3",
   "version": "3.6.5"
  }
 },
 "nbformat": 4,
 "nbformat_minor": 2
}
